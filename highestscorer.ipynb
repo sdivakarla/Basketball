{
 "cells": [
  {
   "cell_type": "code",
   "execution_count": 18,
   "metadata": {},
   "outputs": [],
   "source": [
    "import pandas as pd\n",
    "import matplotlib as plt\n",
    "import numpy as np\n",
    "# Data from Kaggle https://www.kaggle.com/datasets/drgilermo/nba-players-stats\n",
    "players_df = pd.read_csv('player_data.csv')\n"
   ]
  },
  {
   "cell_type": "code",
   "execution_count": 19,
   "metadata": {},
   "outputs": [
    {
     "data": {
      "text/html": [
       "<div>\n",
       "<style scoped>\n",
       "    .dataframe tbody tr th:only-of-type {\n",
       "        vertical-align: middle;\n",
       "    }\n",
       "\n",
       "    .dataframe tbody tr th {\n",
       "        vertical-align: top;\n",
       "    }\n",
       "\n",
       "    .dataframe thead th {\n",
       "        text-align: right;\n",
       "    }\n",
       "</style>\n",
       "<table border=\"1\" class=\"dataframe\">\n",
       "  <thead>\n",
       "    <tr style=\"text-align: right;\">\n",
       "      <th></th>\n",
       "      <th>name</th>\n",
       "      <th>year_start</th>\n",
       "      <th>year_end</th>\n",
       "      <th>position</th>\n",
       "      <th>height</th>\n",
       "      <th>weight</th>\n",
       "      <th>birth_date</th>\n",
       "      <th>college</th>\n",
       "    </tr>\n",
       "  </thead>\n",
       "  <tbody>\n",
       "    <tr>\n",
       "      <th>0</th>\n",
       "      <td>Alaa Abdelnaby</td>\n",
       "      <td>1991</td>\n",
       "      <td>1995</td>\n",
       "      <td>F-C</td>\n",
       "      <td>6-10</td>\n",
       "      <td>240.0</td>\n",
       "      <td>June 24, 1968</td>\n",
       "      <td>Duke University</td>\n",
       "    </tr>\n",
       "    <tr>\n",
       "      <th>1</th>\n",
       "      <td>Zaid Abdul-Aziz</td>\n",
       "      <td>1969</td>\n",
       "      <td>1978</td>\n",
       "      <td>C-F</td>\n",
       "      <td>6-9</td>\n",
       "      <td>235.0</td>\n",
       "      <td>April 7, 1946</td>\n",
       "      <td>Iowa State University</td>\n",
       "    </tr>\n",
       "    <tr>\n",
       "      <th>2</th>\n",
       "      <td>Kareem Abdul-Jabbar</td>\n",
       "      <td>1970</td>\n",
       "      <td>1989</td>\n",
       "      <td>C</td>\n",
       "      <td>7-2</td>\n",
       "      <td>225.0</td>\n",
       "      <td>April 16, 1947</td>\n",
       "      <td>University of California, Los Angeles</td>\n",
       "    </tr>\n",
       "    <tr>\n",
       "      <th>3</th>\n",
       "      <td>Mahmoud Abdul-Rauf</td>\n",
       "      <td>1991</td>\n",
       "      <td>2001</td>\n",
       "      <td>G</td>\n",
       "      <td>6-1</td>\n",
       "      <td>162.0</td>\n",
       "      <td>March 9, 1969</td>\n",
       "      <td>Louisiana State University</td>\n",
       "    </tr>\n",
       "    <tr>\n",
       "      <th>4</th>\n",
       "      <td>Tariq Abdul-Wahad</td>\n",
       "      <td>1998</td>\n",
       "      <td>2003</td>\n",
       "      <td>F</td>\n",
       "      <td>6-6</td>\n",
       "      <td>223.0</td>\n",
       "      <td>November 3, 1974</td>\n",
       "      <td>San Jose State University</td>\n",
       "    </tr>\n",
       "  </tbody>\n",
       "</table>\n",
       "</div>"
      ],
      "text/plain": [
       "                  name  year_start  year_end position height  weight  \\\n",
       "0       Alaa Abdelnaby        1991      1995      F-C   6-10   240.0   \n",
       "1      Zaid Abdul-Aziz        1969      1978      C-F    6-9   235.0   \n",
       "2  Kareem Abdul-Jabbar        1970      1989        C    7-2   225.0   \n",
       "3   Mahmoud Abdul-Rauf        1991      2001        G    6-1   162.0   \n",
       "4    Tariq Abdul-Wahad        1998      2003        F    6-6   223.0   \n",
       "\n",
       "         birth_date                                college  \n",
       "0     June 24, 1968                        Duke University  \n",
       "1     April 7, 1946                  Iowa State University  \n",
       "2    April 16, 1947  University of California, Los Angeles  \n",
       "3     March 9, 1969             Louisiana State University  \n",
       "4  November 3, 1974              San Jose State University  "
      ]
     },
     "execution_count": 19,
     "metadata": {},
     "output_type": "execute_result"
    }
   ],
   "source": [
    "#View the dataset by Player\n",
    "\n",
    "players_df.head()"
   ]
  },
  {
   "cell_type": "code",
   "execution_count": 20,
   "metadata": {},
   "outputs": [
    {
     "data": {
      "text/html": [
       "<div>\n",
       "<style scoped>\n",
       "    .dataframe tbody tr th:only-of-type {\n",
       "        vertical-align: middle;\n",
       "    }\n",
       "\n",
       "    .dataframe tbody tr th {\n",
       "        vertical-align: top;\n",
       "    }\n",
       "\n",
       "    .dataframe thead th {\n",
       "        text-align: right;\n",
       "    }\n",
       "</style>\n",
       "<table border=\"1\" class=\"dataframe\">\n",
       "  <thead>\n",
       "    <tr style=\"text-align: right;\">\n",
       "      <th></th>\n",
       "      <th>Unnamed: 0</th>\n",
       "      <th>Year</th>\n",
       "      <th>Player</th>\n",
       "      <th>Pos</th>\n",
       "      <th>Age</th>\n",
       "      <th>Tm</th>\n",
       "      <th>G</th>\n",
       "      <th>GS</th>\n",
       "      <th>MP</th>\n",
       "      <th>PER</th>\n",
       "      <th>...</th>\n",
       "      <th>FT%</th>\n",
       "      <th>ORB</th>\n",
       "      <th>DRB</th>\n",
       "      <th>TRB</th>\n",
       "      <th>AST</th>\n",
       "      <th>STL</th>\n",
       "      <th>BLK</th>\n",
       "      <th>TOV</th>\n",
       "      <th>PF</th>\n",
       "      <th>PTS</th>\n",
       "    </tr>\n",
       "  </thead>\n",
       "  <tbody>\n",
       "    <tr>\n",
       "      <th>0</th>\n",
       "      <td>0</td>\n",
       "      <td>1950.0</td>\n",
       "      <td>Curly Armstrong</td>\n",
       "      <td>G-F</td>\n",
       "      <td>31.0</td>\n",
       "      <td>FTW</td>\n",
       "      <td>63.0</td>\n",
       "      <td>NaN</td>\n",
       "      <td>NaN</td>\n",
       "      <td>NaN</td>\n",
       "      <td>...</td>\n",
       "      <td>0.705</td>\n",
       "      <td>NaN</td>\n",
       "      <td>NaN</td>\n",
       "      <td>NaN</td>\n",
       "      <td>176.0</td>\n",
       "      <td>NaN</td>\n",
       "      <td>NaN</td>\n",
       "      <td>NaN</td>\n",
       "      <td>217.0</td>\n",
       "      <td>458.0</td>\n",
       "    </tr>\n",
       "    <tr>\n",
       "      <th>1</th>\n",
       "      <td>1</td>\n",
       "      <td>1950.0</td>\n",
       "      <td>Cliff Barker</td>\n",
       "      <td>SG</td>\n",
       "      <td>29.0</td>\n",
       "      <td>INO</td>\n",
       "      <td>49.0</td>\n",
       "      <td>NaN</td>\n",
       "      <td>NaN</td>\n",
       "      <td>NaN</td>\n",
       "      <td>...</td>\n",
       "      <td>0.708</td>\n",
       "      <td>NaN</td>\n",
       "      <td>NaN</td>\n",
       "      <td>NaN</td>\n",
       "      <td>109.0</td>\n",
       "      <td>NaN</td>\n",
       "      <td>NaN</td>\n",
       "      <td>NaN</td>\n",
       "      <td>99.0</td>\n",
       "      <td>279.0</td>\n",
       "    </tr>\n",
       "    <tr>\n",
       "      <th>2</th>\n",
       "      <td>2</td>\n",
       "      <td>1950.0</td>\n",
       "      <td>Leo Barnhorst</td>\n",
       "      <td>SF</td>\n",
       "      <td>25.0</td>\n",
       "      <td>CHS</td>\n",
       "      <td>67.0</td>\n",
       "      <td>NaN</td>\n",
       "      <td>NaN</td>\n",
       "      <td>NaN</td>\n",
       "      <td>...</td>\n",
       "      <td>0.698</td>\n",
       "      <td>NaN</td>\n",
       "      <td>NaN</td>\n",
       "      <td>NaN</td>\n",
       "      <td>140.0</td>\n",
       "      <td>NaN</td>\n",
       "      <td>NaN</td>\n",
       "      <td>NaN</td>\n",
       "      <td>192.0</td>\n",
       "      <td>438.0</td>\n",
       "    </tr>\n",
       "    <tr>\n",
       "      <th>3</th>\n",
       "      <td>3</td>\n",
       "      <td>1950.0</td>\n",
       "      <td>Ed Bartels</td>\n",
       "      <td>F</td>\n",
       "      <td>24.0</td>\n",
       "      <td>TOT</td>\n",
       "      <td>15.0</td>\n",
       "      <td>NaN</td>\n",
       "      <td>NaN</td>\n",
       "      <td>NaN</td>\n",
       "      <td>...</td>\n",
       "      <td>0.559</td>\n",
       "      <td>NaN</td>\n",
       "      <td>NaN</td>\n",
       "      <td>NaN</td>\n",
       "      <td>20.0</td>\n",
       "      <td>NaN</td>\n",
       "      <td>NaN</td>\n",
       "      <td>NaN</td>\n",
       "      <td>29.0</td>\n",
       "      <td>63.0</td>\n",
       "    </tr>\n",
       "    <tr>\n",
       "      <th>4</th>\n",
       "      <td>4</td>\n",
       "      <td>1950.0</td>\n",
       "      <td>Ed Bartels</td>\n",
       "      <td>F</td>\n",
       "      <td>24.0</td>\n",
       "      <td>DNN</td>\n",
       "      <td>13.0</td>\n",
       "      <td>NaN</td>\n",
       "      <td>NaN</td>\n",
       "      <td>NaN</td>\n",
       "      <td>...</td>\n",
       "      <td>0.548</td>\n",
       "      <td>NaN</td>\n",
       "      <td>NaN</td>\n",
       "      <td>NaN</td>\n",
       "      <td>20.0</td>\n",
       "      <td>NaN</td>\n",
       "      <td>NaN</td>\n",
       "      <td>NaN</td>\n",
       "      <td>27.0</td>\n",
       "      <td>59.0</td>\n",
       "    </tr>\n",
       "  </tbody>\n",
       "</table>\n",
       "<p>5 rows × 53 columns</p>\n",
       "</div>"
      ],
      "text/plain": [
       "   Unnamed: 0    Year           Player  Pos   Age   Tm     G  GS  MP  PER  \\\n",
       "0           0  1950.0  Curly Armstrong  G-F  31.0  FTW  63.0 NaN NaN  NaN   \n",
       "1           1  1950.0     Cliff Barker   SG  29.0  INO  49.0 NaN NaN  NaN   \n",
       "2           2  1950.0    Leo Barnhorst   SF  25.0  CHS  67.0 NaN NaN  NaN   \n",
       "3           3  1950.0       Ed Bartels    F  24.0  TOT  15.0 NaN NaN  NaN   \n",
       "4           4  1950.0       Ed Bartels    F  24.0  DNN  13.0 NaN NaN  NaN   \n",
       "\n",
       "   ...    FT%  ORB  DRB  TRB    AST  STL  BLK  TOV     PF    PTS  \n",
       "0  ...  0.705  NaN  NaN  NaN  176.0  NaN  NaN  NaN  217.0  458.0  \n",
       "1  ...  0.708  NaN  NaN  NaN  109.0  NaN  NaN  NaN   99.0  279.0  \n",
       "2  ...  0.698  NaN  NaN  NaN  140.0  NaN  NaN  NaN  192.0  438.0  \n",
       "3  ...  0.559  NaN  NaN  NaN   20.0  NaN  NaN  NaN   29.0   63.0  \n",
       "4  ...  0.548  NaN  NaN  NaN   20.0  NaN  NaN  NaN   27.0   59.0  \n",
       "\n",
       "[5 rows x 53 columns]"
      ]
     },
     "execution_count": 20,
     "metadata": {},
     "output_type": "execute_result"
    }
   ],
   "source": [
    "# Seasons Statistics \n",
    "\n",
    "seasons_df=pd.read_csv('Seasons_Stats.csv')\n",
    "seasons_df.head()"
   ]
  },
  {
   "cell_type": "code",
   "execution_count": 21,
   "metadata": {},
   "outputs": [
    {
     "data": {
      "text/plain": [
       "<bound method DataFrame.info of        Unnamed: 0    Year             Player  Pos   Age   Tm     G    GS  \\\n",
       "0               0  1950.0    Curly Armstrong  G-F  31.0  FTW  63.0   NaN   \n",
       "1               1  1950.0       Cliff Barker   SG  29.0  INO  49.0   NaN   \n",
       "2               2  1950.0      Leo Barnhorst   SF  25.0  CHS  67.0   NaN   \n",
       "3               3  1950.0         Ed Bartels    F  24.0  TOT  15.0   NaN   \n",
       "4               4  1950.0         Ed Bartels    F  24.0  DNN  13.0   NaN   \n",
       "...           ...     ...                ...  ...   ...  ...   ...   ...   \n",
       "24686       24686  2017.0        Cody Zeller   PF  24.0  CHO  62.0  58.0   \n",
       "24687       24687  2017.0       Tyler Zeller    C  27.0  BOS  51.0   5.0   \n",
       "24688       24688  2017.0  Stephen Zimmerman    C  20.0  ORL  19.0   0.0   \n",
       "24689       24689  2017.0        Paul Zipser   SF  22.0  CHI  44.0  18.0   \n",
       "24690       24690  2017.0        Ivica Zubac    C  19.0  LAL  38.0  11.0   \n",
       "\n",
       "           MP   PER  ...    FT%    ORB    DRB    TRB    AST   STL   BLK   TOV  \\\n",
       "0         NaN   NaN  ...  0.705    NaN    NaN    NaN  176.0   NaN   NaN   NaN   \n",
       "1         NaN   NaN  ...  0.708    NaN    NaN    NaN  109.0   NaN   NaN   NaN   \n",
       "2         NaN   NaN  ...  0.698    NaN    NaN    NaN  140.0   NaN   NaN   NaN   \n",
       "3         NaN   NaN  ...  0.559    NaN    NaN    NaN   20.0   NaN   NaN   NaN   \n",
       "4         NaN   NaN  ...  0.548    NaN    NaN    NaN   20.0   NaN   NaN   NaN   \n",
       "...       ...   ...  ...    ...    ...    ...    ...    ...   ...   ...   ...   \n",
       "24686  1725.0  16.7  ...  0.679  135.0  270.0  405.0   99.0  62.0  58.0  65.0   \n",
       "24687   525.0  13.0  ...  0.564   43.0   81.0  124.0   42.0   7.0  21.0  20.0   \n",
       "24688   108.0   7.3  ...  0.600   11.0   24.0   35.0    4.0   2.0   5.0   3.0   \n",
       "24689   843.0   6.9  ...  0.775   15.0  110.0  125.0   36.0  15.0  16.0  40.0   \n",
       "24690   609.0  17.0  ...  0.653   41.0  118.0  159.0   30.0  14.0  33.0  30.0   \n",
       "\n",
       "          PF    PTS  \n",
       "0      217.0  458.0  \n",
       "1       99.0  279.0  \n",
       "2      192.0  438.0  \n",
       "3       29.0   63.0  \n",
       "4       27.0   59.0  \n",
       "...      ...    ...  \n",
       "24686  189.0  639.0  \n",
       "24687   61.0  178.0  \n",
       "24688   17.0   23.0  \n",
       "24689   78.0  240.0  \n",
       "24690   66.0  284.0  \n",
       "\n",
       "[24691 rows x 53 columns]>"
      ]
     },
     "execution_count": 21,
     "metadata": {},
     "output_type": "execute_result"
    }
   ],
   "source": [
    "seasons_df.info"
   ]
  },
  {
   "cell_type": "code",
   "execution_count": 22,
   "metadata": {},
   "outputs": [
    {
     "data": {
      "text/html": [
       "<div>\n",
       "<style scoped>\n",
       "    .dataframe tbody tr th:only-of-type {\n",
       "        vertical-align: middle;\n",
       "    }\n",
       "\n",
       "    .dataframe tbody tr th {\n",
       "        vertical-align: top;\n",
       "    }\n",
       "\n",
       "    .dataframe thead th {\n",
       "        text-align: right;\n",
       "    }\n",
       "</style>\n",
       "<table border=\"1\" class=\"dataframe\">\n",
       "  <thead>\n",
       "    <tr style=\"text-align: right;\">\n",
       "      <th></th>\n",
       "      <th>Unnamed: 0</th>\n",
       "      <th>Year</th>\n",
       "      <th>Player</th>\n",
       "      <th>Pos</th>\n",
       "      <th>Age</th>\n",
       "      <th>Tm</th>\n",
       "      <th>G</th>\n",
       "      <th>GS</th>\n",
       "      <th>MP</th>\n",
       "      <th>PER</th>\n",
       "      <th>...</th>\n",
       "      <th>FT%</th>\n",
       "      <th>ORB</th>\n",
       "      <th>DRB</th>\n",
       "      <th>TRB</th>\n",
       "      <th>AST</th>\n",
       "      <th>STL</th>\n",
       "      <th>BLK</th>\n",
       "      <th>TOV</th>\n",
       "      <th>PF</th>\n",
       "      <th>PTS</th>\n",
       "    </tr>\n",
       "  </thead>\n",
       "  <tbody>\n",
       "    <tr>\n",
       "      <th>22865</th>\n",
       "      <td>22865</td>\n",
       "      <td>2015.0</td>\n",
       "      <td>Quincy Acy</td>\n",
       "      <td>PF</td>\n",
       "      <td>24.0</td>\n",
       "      <td>NYK</td>\n",
       "      <td>68.0</td>\n",
       "      <td>22.0</td>\n",
       "      <td>1287.0</td>\n",
       "      <td>11.9</td>\n",
       "      <td>...</td>\n",
       "      <td>0.784</td>\n",
       "      <td>79.0</td>\n",
       "      <td>222.0</td>\n",
       "      <td>301.0</td>\n",
       "      <td>68.0</td>\n",
       "      <td>27.0</td>\n",
       "      <td>22.0</td>\n",
       "      <td>60.0</td>\n",
       "      <td>147.0</td>\n",
       "      <td>398.0</td>\n",
       "    </tr>\n",
       "    <tr>\n",
       "      <th>22866</th>\n",
       "      <td>22866</td>\n",
       "      <td>2015.0</td>\n",
       "      <td>Jordan Adams</td>\n",
       "      <td>SG</td>\n",
       "      <td>20.0</td>\n",
       "      <td>MEM</td>\n",
       "      <td>30.0</td>\n",
       "      <td>0.0</td>\n",
       "      <td>248.0</td>\n",
       "      <td>12.8</td>\n",
       "      <td>...</td>\n",
       "      <td>0.609</td>\n",
       "      <td>9.0</td>\n",
       "      <td>19.0</td>\n",
       "      <td>28.0</td>\n",
       "      <td>16.0</td>\n",
       "      <td>16.0</td>\n",
       "      <td>7.0</td>\n",
       "      <td>14.0</td>\n",
       "      <td>24.0</td>\n",
       "      <td>94.0</td>\n",
       "    </tr>\n",
       "    <tr>\n",
       "      <th>22867</th>\n",
       "      <td>22867</td>\n",
       "      <td>2015.0</td>\n",
       "      <td>Steven Adams</td>\n",
       "      <td>C</td>\n",
       "      <td>21.0</td>\n",
       "      <td>OKC</td>\n",
       "      <td>70.0</td>\n",
       "      <td>67.0</td>\n",
       "      <td>1771.0</td>\n",
       "      <td>14.1</td>\n",
       "      <td>...</td>\n",
       "      <td>0.502</td>\n",
       "      <td>199.0</td>\n",
       "      <td>324.0</td>\n",
       "      <td>523.0</td>\n",
       "      <td>66.0</td>\n",
       "      <td>38.0</td>\n",
       "      <td>86.0</td>\n",
       "      <td>99.0</td>\n",
       "      <td>222.0</td>\n",
       "      <td>537.0</td>\n",
       "    </tr>\n",
       "    <tr>\n",
       "      <th>22868</th>\n",
       "      <td>22868</td>\n",
       "      <td>2015.0</td>\n",
       "      <td>Jeff Adrien</td>\n",
       "      <td>PF</td>\n",
       "      <td>28.0</td>\n",
       "      <td>MIN</td>\n",
       "      <td>17.0</td>\n",
       "      <td>0.0</td>\n",
       "      <td>215.0</td>\n",
       "      <td>14.2</td>\n",
       "      <td>...</td>\n",
       "      <td>0.579</td>\n",
       "      <td>23.0</td>\n",
       "      <td>54.0</td>\n",
       "      <td>77.0</td>\n",
       "      <td>15.0</td>\n",
       "      <td>4.0</td>\n",
       "      <td>9.0</td>\n",
       "      <td>9.0</td>\n",
       "      <td>30.0</td>\n",
       "      <td>60.0</td>\n",
       "    </tr>\n",
       "    <tr>\n",
       "      <th>22869</th>\n",
       "      <td>22869</td>\n",
       "      <td>2015.0</td>\n",
       "      <td>Arron Afflalo</td>\n",
       "      <td>SG</td>\n",
       "      <td>29.0</td>\n",
       "      <td>TOT</td>\n",
       "      <td>78.0</td>\n",
       "      <td>72.0</td>\n",
       "      <td>2502.0</td>\n",
       "      <td>10.7</td>\n",
       "      <td>...</td>\n",
       "      <td>0.843</td>\n",
       "      <td>27.0</td>\n",
       "      <td>220.0</td>\n",
       "      <td>247.0</td>\n",
       "      <td>129.0</td>\n",
       "      <td>41.0</td>\n",
       "      <td>7.0</td>\n",
       "      <td>116.0</td>\n",
       "      <td>167.0</td>\n",
       "      <td>1035.0</td>\n",
       "    </tr>\n",
       "  </tbody>\n",
       "</table>\n",
       "<p>5 rows × 53 columns</p>\n",
       "</div>"
      ],
      "text/plain": [
       "       Unnamed: 0    Year         Player Pos   Age   Tm     G    GS      MP  \\\n",
       "22865       22865  2015.0     Quincy Acy  PF  24.0  NYK  68.0  22.0  1287.0   \n",
       "22866       22866  2015.0   Jordan Adams  SG  20.0  MEM  30.0   0.0   248.0   \n",
       "22867       22867  2015.0   Steven Adams   C  21.0  OKC  70.0  67.0  1771.0   \n",
       "22868       22868  2015.0    Jeff Adrien  PF  28.0  MIN  17.0   0.0   215.0   \n",
       "22869       22869  2015.0  Arron Afflalo  SG  29.0  TOT  78.0  72.0  2502.0   \n",
       "\n",
       "        PER  ...    FT%    ORB    DRB    TRB    AST   STL   BLK    TOV     PF  \\\n",
       "22865  11.9  ...  0.784   79.0  222.0  301.0   68.0  27.0  22.0   60.0  147.0   \n",
       "22866  12.8  ...  0.609    9.0   19.0   28.0   16.0  16.0   7.0   14.0   24.0   \n",
       "22867  14.1  ...  0.502  199.0  324.0  523.0   66.0  38.0  86.0   99.0  222.0   \n",
       "22868  14.2  ...  0.579   23.0   54.0   77.0   15.0   4.0   9.0    9.0   30.0   \n",
       "22869  10.7  ...  0.843   27.0  220.0  247.0  129.0  41.0   7.0  116.0  167.0   \n",
       "\n",
       "          PTS  \n",
       "22865   398.0  \n",
       "22866    94.0  \n",
       "22867   537.0  \n",
       "22868    60.0  \n",
       "22869  1035.0  \n",
       "\n",
       "[5 rows x 53 columns]"
      ]
     },
     "execution_count": 22,
     "metadata": {},
     "output_type": "execute_result"
    }
   ],
   "source": [
    "# Look at just the data for 2015\n",
    "\n",
    "_2015seasons_df = seasons_df[seasons_df['Year']== 2015]\n",
    "_2015seasons_df.head()"
   ]
  },
  {
   "cell_type": "code",
   "execution_count": 23,
   "metadata": {},
   "outputs": [
    {
     "name": "stdout",
     "output_type": "stream",
     "text": [
      "<class 'pandas.core.frame.DataFrame'>\n",
      "Int64Index: 651 entries, 22865 to 23515\n",
      "Data columns (total 53 columns):\n",
      " #   Column      Non-Null Count  Dtype  \n",
      "---  ------      --------------  -----  \n",
      " 0   Unnamed: 0  651 non-null    int64  \n",
      " 1   Year        651 non-null    float64\n",
      " 2   Player      651 non-null    object \n",
      " 3   Pos         651 non-null    object \n",
      " 4   Age         651 non-null    float64\n",
      " 5   Tm          651 non-null    object \n",
      " 6   G           651 non-null    float64\n",
      " 7   GS          651 non-null    float64\n",
      " 8   MP          651 non-null    float64\n",
      " 9   PER         651 non-null    float64\n",
      " 10  TS%         649 non-null    float64\n",
      " 11  3PAr        649 non-null    float64\n",
      " 12  FTr         649 non-null    float64\n",
      " 13  ORB%        651 non-null    float64\n",
      " 14  DRB%        651 non-null    float64\n",
      " 15  TRB%        651 non-null    float64\n",
      " 16  AST%        651 non-null    float64\n",
      " 17  STL%        651 non-null    float64\n",
      " 18  BLK%        651 non-null    float64\n",
      " 19  TOV%        650 non-null    float64\n",
      " 20  USG%        651 non-null    float64\n",
      " 21  blanl       0 non-null      float64\n",
      " 22  OWS         651 non-null    float64\n",
      " 23  DWS         651 non-null    float64\n",
      " 24  WS          651 non-null    float64\n",
      " 25  WS/48       651 non-null    float64\n",
      " 26  blank2      0 non-null      float64\n",
      " 27  OBPM        651 non-null    float64\n",
      " 28  DBPM        651 non-null    float64\n",
      " 29  BPM         651 non-null    float64\n",
      " 30  VORP        651 non-null    float64\n",
      " 31  FG          651 non-null    float64\n",
      " 32  FGA         651 non-null    float64\n",
      " 33  FG%         649 non-null    float64\n",
      " 34  3P          651 non-null    float64\n",
      " 35  3PA         651 non-null    float64\n",
      " 36  3P%         570 non-null    float64\n",
      " 37  2P          651 non-null    float64\n",
      " 38  2PA         651 non-null    float64\n",
      " 39  2P%         647 non-null    float64\n",
      " 40  eFG%        649 non-null    float64\n",
      " 41  FT          651 non-null    float64\n",
      " 42  FTA         651 non-null    float64\n",
      " 43  FT%         626 non-null    float64\n",
      " 44  ORB         651 non-null    float64\n",
      " 45  DRB         651 non-null    float64\n",
      " 46  TRB         651 non-null    float64\n",
      " 47  AST         651 non-null    float64\n",
      " 48  STL         651 non-null    float64\n",
      " 49  BLK         651 non-null    float64\n",
      " 50  TOV         651 non-null    float64\n",
      " 51  PF          651 non-null    float64\n",
      " 52  PTS         651 non-null    float64\n",
      "dtypes: float64(49), int64(1), object(3)\n",
      "memory usage: 274.6+ KB\n"
     ]
    }
   ],
   "source": [
    "_2015seasons_df.info(verbose=True)"
   ]
  },
  {
   "cell_type": "code",
   "execution_count": 24,
   "metadata": {},
   "outputs": [
    {
     "data": {
      "text/html": [
       "<div>\n",
       "<style scoped>\n",
       "    .dataframe tbody tr th:only-of-type {\n",
       "        vertical-align: middle;\n",
       "    }\n",
       "\n",
       "    .dataframe tbody tr th {\n",
       "        vertical-align: top;\n",
       "    }\n",
       "\n",
       "    .dataframe thead th {\n",
       "        text-align: right;\n",
       "    }\n",
       "</style>\n",
       "<table border=\"1\" class=\"dataframe\">\n",
       "  <thead>\n",
       "    <tr style=\"text-align: right;\">\n",
       "      <th></th>\n",
       "      <th>Unnamed: 0</th>\n",
       "      <th>Year</th>\n",
       "      <th>Player</th>\n",
       "      <th>Pos</th>\n",
       "      <th>Age</th>\n",
       "      <th>Tm</th>\n",
       "      <th>G</th>\n",
       "      <th>GS</th>\n",
       "      <th>MP</th>\n",
       "      <th>PER</th>\n",
       "      <th>...</th>\n",
       "      <th>FT%</th>\n",
       "      <th>ORB</th>\n",
       "      <th>DRB</th>\n",
       "      <th>TRB</th>\n",
       "      <th>AST</th>\n",
       "      <th>STL</th>\n",
       "      <th>BLK</th>\n",
       "      <th>TOV</th>\n",
       "      <th>PF</th>\n",
       "      <th>PTS</th>\n",
       "    </tr>\n",
       "  </thead>\n",
       "  <tbody>\n",
       "    <tr>\n",
       "      <th>23114</th>\n",
       "      <td>23114</td>\n",
       "      <td>2015.0</td>\n",
       "      <td>James Harden</td>\n",
       "      <td>SG</td>\n",
       "      <td>25.0</td>\n",
       "      <td>HOU</td>\n",
       "      <td>81.0</td>\n",
       "      <td>81.0</td>\n",
       "      <td>2981.0</td>\n",
       "      <td>26.7</td>\n",
       "      <td>...</td>\n",
       "      <td>0.868</td>\n",
       "      <td>75.0</td>\n",
       "      <td>384.0</td>\n",
       "      <td>459.0</td>\n",
       "      <td>565.0</td>\n",
       "      <td>154.0</td>\n",
       "      <td>60.0</td>\n",
       "      <td>321.0</td>\n",
       "      <td>208.0</td>\n",
       "      <td>2217.0</td>\n",
       "    </tr>\n",
       "    <tr>\n",
       "      <th>23000</th>\n",
       "      <td>23000</td>\n",
       "      <td>2015.0</td>\n",
       "      <td>Stephen Curry</td>\n",
       "      <td>PG</td>\n",
       "      <td>26.0</td>\n",
       "      <td>GSW</td>\n",
       "      <td>80.0</td>\n",
       "      <td>80.0</td>\n",
       "      <td>2613.0</td>\n",
       "      <td>28.0</td>\n",
       "      <td>...</td>\n",
       "      <td>0.914</td>\n",
       "      <td>56.0</td>\n",
       "      <td>285.0</td>\n",
       "      <td>341.0</td>\n",
       "      <td>619.0</td>\n",
       "      <td>163.0</td>\n",
       "      <td>16.0</td>\n",
       "      <td>249.0</td>\n",
       "      <td>158.0</td>\n",
       "      <td>1900.0</td>\n",
       "    </tr>\n",
       "    <tr>\n",
       "      <th>23480</th>\n",
       "      <td>23480</td>\n",
       "      <td>2015.0</td>\n",
       "      <td>Russell Westbrook</td>\n",
       "      <td>PG</td>\n",
       "      <td>26.0</td>\n",
       "      <td>OKC</td>\n",
       "      <td>67.0</td>\n",
       "      <td>67.0</td>\n",
       "      <td>2302.0</td>\n",
       "      <td>29.1</td>\n",
       "      <td>...</td>\n",
       "      <td>0.835</td>\n",
       "      <td>124.0</td>\n",
       "      <td>364.0</td>\n",
       "      <td>488.0</td>\n",
       "      <td>574.0</td>\n",
       "      <td>140.0</td>\n",
       "      <td>14.0</td>\n",
       "      <td>293.0</td>\n",
       "      <td>184.0</td>\n",
       "      <td>1886.0</td>\n",
       "    </tr>\n",
       "    <tr>\n",
       "      <th>23154</th>\n",
       "      <td>23154</td>\n",
       "      <td>2015.0</td>\n",
       "      <td>LeBron James</td>\n",
       "      <td>SF</td>\n",
       "      <td>30.0</td>\n",
       "      <td>CLE</td>\n",
       "      <td>69.0</td>\n",
       "      <td>69.0</td>\n",
       "      <td>2493.0</td>\n",
       "      <td>25.9</td>\n",
       "      <td>...</td>\n",
       "      <td>0.710</td>\n",
       "      <td>51.0</td>\n",
       "      <td>365.0</td>\n",
       "      <td>416.0</td>\n",
       "      <td>511.0</td>\n",
       "      <td>109.0</td>\n",
       "      <td>49.0</td>\n",
       "      <td>272.0</td>\n",
       "      <td>135.0</td>\n",
       "      <td>1743.0</td>\n",
       "    </tr>\n",
       "    <tr>\n",
       "      <th>23215</th>\n",
       "      <td>23215</td>\n",
       "      <td>2015.0</td>\n",
       "      <td>Damian Lillard</td>\n",
       "      <td>PG</td>\n",
       "      <td>24.0</td>\n",
       "      <td>POR</td>\n",
       "      <td>82.0</td>\n",
       "      <td>82.0</td>\n",
       "      <td>2925.0</td>\n",
       "      <td>20.7</td>\n",
       "      <td>...</td>\n",
       "      <td>0.864</td>\n",
       "      <td>49.0</td>\n",
       "      <td>329.0</td>\n",
       "      <td>378.0</td>\n",
       "      <td>507.0</td>\n",
       "      <td>97.0</td>\n",
       "      <td>21.0</td>\n",
       "      <td>222.0</td>\n",
       "      <td>164.0</td>\n",
       "      <td>1720.0</td>\n",
       "    </tr>\n",
       "    <tr>\n",
       "      <th>23446</th>\n",
       "      <td>23446</td>\n",
       "      <td>2015.0</td>\n",
       "      <td>Klay Thompson</td>\n",
       "      <td>SG</td>\n",
       "      <td>24.0</td>\n",
       "      <td>GSW</td>\n",
       "      <td>77.0</td>\n",
       "      <td>77.0</td>\n",
       "      <td>2455.0</td>\n",
       "      <td>20.8</td>\n",
       "      <td>...</td>\n",
       "      <td>0.879</td>\n",
       "      <td>27.0</td>\n",
       "      <td>220.0</td>\n",
       "      <td>247.0</td>\n",
       "      <td>222.0</td>\n",
       "      <td>87.0</td>\n",
       "      <td>60.0</td>\n",
       "      <td>149.0</td>\n",
       "      <td>122.0</td>\n",
       "      <td>1668.0</td>\n",
       "    </tr>\n",
       "    <tr>\n",
       "      <th>22875</th>\n",
       "      <td>22875</td>\n",
       "      <td>2015.0</td>\n",
       "      <td>LaMarcus Aldridge</td>\n",
       "      <td>PF</td>\n",
       "      <td>29.0</td>\n",
       "      <td>POR</td>\n",
       "      <td>71.0</td>\n",
       "      <td>71.0</td>\n",
       "      <td>2512.0</td>\n",
       "      <td>22.8</td>\n",
       "      <td>...</td>\n",
       "      <td>0.845</td>\n",
       "      <td>177.0</td>\n",
       "      <td>549.0</td>\n",
       "      <td>726.0</td>\n",
       "      <td>124.0</td>\n",
       "      <td>48.0</td>\n",
       "      <td>68.0</td>\n",
       "      <td>122.0</td>\n",
       "      <td>125.0</td>\n",
       "      <td>1661.0</td>\n",
       "    </tr>\n",
       "    <tr>\n",
       "      <th>23012</th>\n",
       "      <td>23012</td>\n",
       "      <td>2015.0</td>\n",
       "      <td>Anthony Davis</td>\n",
       "      <td>PF</td>\n",
       "      <td>21.0</td>\n",
       "      <td>NOP</td>\n",
       "      <td>68.0</td>\n",
       "      <td>68.0</td>\n",
       "      <td>2455.0</td>\n",
       "      <td>30.8</td>\n",
       "      <td>...</td>\n",
       "      <td>0.805</td>\n",
       "      <td>173.0</td>\n",
       "      <td>523.0</td>\n",
       "      <td>696.0</td>\n",
       "      <td>149.0</td>\n",
       "      <td>100.0</td>\n",
       "      <td>200.0</td>\n",
       "      <td>95.0</td>\n",
       "      <td>141.0</td>\n",
       "      <td>1656.0</td>\n",
       "    </tr>\n",
       "    <tr>\n",
       "      <th>23148</th>\n",
       "      <td>23148</td>\n",
       "      <td>2015.0</td>\n",
       "      <td>Kyrie Irving</td>\n",
       "      <td>PG</td>\n",
       "      <td>22.0</td>\n",
       "      <td>CLE</td>\n",
       "      <td>75.0</td>\n",
       "      <td>75.0</td>\n",
       "      <td>2730.0</td>\n",
       "      <td>21.5</td>\n",
       "      <td>...</td>\n",
       "      <td>0.863</td>\n",
       "      <td>55.0</td>\n",
       "      <td>182.0</td>\n",
       "      <td>237.0</td>\n",
       "      <td>389.0</td>\n",
       "      <td>114.0</td>\n",
       "      <td>20.0</td>\n",
       "      <td>186.0</td>\n",
       "      <td>146.0</td>\n",
       "      <td>1628.0</td>\n",
       "    </tr>\n",
       "    <tr>\n",
       "      <th>23312</th>\n",
       "      <td>23312</td>\n",
       "      <td>2015.0</td>\n",
       "      <td>Chris Paul</td>\n",
       "      <td>PG</td>\n",
       "      <td>29.0</td>\n",
       "      <td>LAC</td>\n",
       "      <td>82.0</td>\n",
       "      <td>82.0</td>\n",
       "      <td>2857.0</td>\n",
       "      <td>26.0</td>\n",
       "      <td>...</td>\n",
       "      <td>0.900</td>\n",
       "      <td>52.0</td>\n",
       "      <td>324.0</td>\n",
       "      <td>376.0</td>\n",
       "      <td>838.0</td>\n",
       "      <td>156.0</td>\n",
       "      <td>15.0</td>\n",
       "      <td>190.0</td>\n",
       "      <td>203.0</td>\n",
       "      <td>1564.0</td>\n",
       "    </tr>\n",
       "  </tbody>\n",
       "</table>\n",
       "<p>10 rows × 53 columns</p>\n",
       "</div>"
      ],
      "text/plain": [
       "       Unnamed: 0    Year             Player Pos   Age   Tm     G    GS  \\\n",
       "23114       23114  2015.0       James Harden  SG  25.0  HOU  81.0  81.0   \n",
       "23000       23000  2015.0      Stephen Curry  PG  26.0  GSW  80.0  80.0   \n",
       "23480       23480  2015.0  Russell Westbrook  PG  26.0  OKC  67.0  67.0   \n",
       "23154       23154  2015.0       LeBron James  SF  30.0  CLE  69.0  69.0   \n",
       "23215       23215  2015.0     Damian Lillard  PG  24.0  POR  82.0  82.0   \n",
       "23446       23446  2015.0      Klay Thompson  SG  24.0  GSW  77.0  77.0   \n",
       "22875       22875  2015.0  LaMarcus Aldridge  PF  29.0  POR  71.0  71.0   \n",
       "23012       23012  2015.0      Anthony Davis  PF  21.0  NOP  68.0  68.0   \n",
       "23148       23148  2015.0       Kyrie Irving  PG  22.0  CLE  75.0  75.0   \n",
       "23312       23312  2015.0         Chris Paul  PG  29.0  LAC  82.0  82.0   \n",
       "\n",
       "           MP   PER  ...    FT%    ORB    DRB    TRB    AST    STL    BLK  \\\n",
       "23114  2981.0  26.7  ...  0.868   75.0  384.0  459.0  565.0  154.0   60.0   \n",
       "23000  2613.0  28.0  ...  0.914   56.0  285.0  341.0  619.0  163.0   16.0   \n",
       "23480  2302.0  29.1  ...  0.835  124.0  364.0  488.0  574.0  140.0   14.0   \n",
       "23154  2493.0  25.9  ...  0.710   51.0  365.0  416.0  511.0  109.0   49.0   \n",
       "23215  2925.0  20.7  ...  0.864   49.0  329.0  378.0  507.0   97.0   21.0   \n",
       "23446  2455.0  20.8  ...  0.879   27.0  220.0  247.0  222.0   87.0   60.0   \n",
       "22875  2512.0  22.8  ...  0.845  177.0  549.0  726.0  124.0   48.0   68.0   \n",
       "23012  2455.0  30.8  ...  0.805  173.0  523.0  696.0  149.0  100.0  200.0   \n",
       "23148  2730.0  21.5  ...  0.863   55.0  182.0  237.0  389.0  114.0   20.0   \n",
       "23312  2857.0  26.0  ...  0.900   52.0  324.0  376.0  838.0  156.0   15.0   \n",
       "\n",
       "         TOV     PF     PTS  \n",
       "23114  321.0  208.0  2217.0  \n",
       "23000  249.0  158.0  1900.0  \n",
       "23480  293.0  184.0  1886.0  \n",
       "23154  272.0  135.0  1743.0  \n",
       "23215  222.0  164.0  1720.0  \n",
       "23446  149.0  122.0  1668.0  \n",
       "22875  122.0  125.0  1661.0  \n",
       "23012   95.0  141.0  1656.0  \n",
       "23148  186.0  146.0  1628.0  \n",
       "23312  190.0  203.0  1564.0  \n",
       "\n",
       "[10 rows x 53 columns]"
      ]
     },
     "execution_count": 24,
     "metadata": {},
     "output_type": "execute_result"
    }
   ],
   "source": [
    "_2015seasons_df.sort_values(by=['PTS'], ascending=False).head(10)\n"
   ]
  },
  {
   "cell_type": "code",
   "execution_count": 25,
   "metadata": {},
   "outputs": [
    {
     "data": {
      "text/html": [
       "<div>\n",
       "<style scoped>\n",
       "    .dataframe tbody tr th:only-of-type {\n",
       "        vertical-align: middle;\n",
       "    }\n",
       "\n",
       "    .dataframe tbody tr th {\n",
       "        vertical-align: top;\n",
       "    }\n",
       "\n",
       "    .dataframe thead th {\n",
       "        text-align: right;\n",
       "    }\n",
       "</style>\n",
       "<table border=\"1\" class=\"dataframe\">\n",
       "  <thead>\n",
       "    <tr style=\"text-align: right;\">\n",
       "      <th></th>\n",
       "      <th>Unnamed: 0</th>\n",
       "      <th>Year</th>\n",
       "      <th>Player</th>\n",
       "      <th>Pos</th>\n",
       "      <th>Age</th>\n",
       "      <th>Tm</th>\n",
       "      <th>G</th>\n",
       "      <th>GS</th>\n",
       "      <th>MP</th>\n",
       "      <th>PER</th>\n",
       "      <th>...</th>\n",
       "      <th>FT%</th>\n",
       "      <th>ORB</th>\n",
       "      <th>DRB</th>\n",
       "      <th>TRB</th>\n",
       "      <th>AST</th>\n",
       "      <th>STL</th>\n",
       "      <th>BLK</th>\n",
       "      <th>TOV</th>\n",
       "      <th>PF</th>\n",
       "      <th>PTS</th>\n",
       "    </tr>\n",
       "  </thead>\n",
       "  <tbody>\n",
       "    <tr>\n",
       "      <th>22919</th>\n",
       "      <td>22919</td>\n",
       "      <td>2015.0</td>\n",
       "      <td>Sim Bhullar</td>\n",
       "      <td>C</td>\n",
       "      <td>22.0</td>\n",
       "      <td>SAC</td>\n",
       "      <td>3.0</td>\n",
       "      <td>0.0</td>\n",
       "      <td>3.0</td>\n",
       "      <td>44.3</td>\n",
       "      <td>...</td>\n",
       "      <td>NaN</td>\n",
       "      <td>0.0</td>\n",
       "      <td>1.0</td>\n",
       "      <td>1.0</td>\n",
       "      <td>1.0</td>\n",
       "      <td>0.0</td>\n",
       "      <td>1.0</td>\n",
       "      <td>0.0</td>\n",
       "      <td>0.0</td>\n",
       "      <td>2.0</td>\n",
       "    </tr>\n",
       "    <tr>\n",
       "      <th>23269</th>\n",
       "      <td>23269</td>\n",
       "      <td>2015.0</td>\n",
       "      <td>Eric Moreland</td>\n",
       "      <td>PF</td>\n",
       "      <td>23.0</td>\n",
       "      <td>SAC</td>\n",
       "      <td>3.0</td>\n",
       "      <td>0.0</td>\n",
       "      <td>2.0</td>\n",
       "      <td>40.8</td>\n",
       "      <td>...</td>\n",
       "      <td>NaN</td>\n",
       "      <td>0.0</td>\n",
       "      <td>1.0</td>\n",
       "      <td>1.0</td>\n",
       "      <td>0.0</td>\n",
       "      <td>0.0</td>\n",
       "      <td>0.0</td>\n",
       "      <td>0.0</td>\n",
       "      <td>1.0</td>\n",
       "      <td>2.0</td>\n",
       "    </tr>\n",
       "    <tr>\n",
       "      <th>23331</th>\n",
       "      <td>23331</td>\n",
       "      <td>2015.0</td>\n",
       "      <td>Dwight Powell</td>\n",
       "      <td>PF</td>\n",
       "      <td>23.0</td>\n",
       "      <td>BOS</td>\n",
       "      <td>5.0</td>\n",
       "      <td>0.0</td>\n",
       "      <td>9.0</td>\n",
       "      <td>34.9</td>\n",
       "      <td>...</td>\n",
       "      <td>0.500</td>\n",
       "      <td>0.0</td>\n",
       "      <td>1.0</td>\n",
       "      <td>1.0</td>\n",
       "      <td>0.0</td>\n",
       "      <td>2.0</td>\n",
       "      <td>0.0</td>\n",
       "      <td>2.0</td>\n",
       "      <td>1.0</td>\n",
       "      <td>9.0</td>\n",
       "    </tr>\n",
       "    <tr>\n",
       "      <th>23443</th>\n",
       "      <td>23443</td>\n",
       "      <td>2015.0</td>\n",
       "      <td>Tyrus Thomas</td>\n",
       "      <td>PF</td>\n",
       "      <td>28.0</td>\n",
       "      <td>MEM</td>\n",
       "      <td>2.0</td>\n",
       "      <td>0.0</td>\n",
       "      <td>7.0</td>\n",
       "      <td>31.4</td>\n",
       "      <td>...</td>\n",
       "      <td>1.000</td>\n",
       "      <td>0.0</td>\n",
       "      <td>0.0</td>\n",
       "      <td>0.0</td>\n",
       "      <td>1.0</td>\n",
       "      <td>0.0</td>\n",
       "      <td>0.0</td>\n",
       "      <td>0.0</td>\n",
       "      <td>0.0</td>\n",
       "      <td>4.0</td>\n",
       "    </tr>\n",
       "    <tr>\n",
       "      <th>23012</th>\n",
       "      <td>23012</td>\n",
       "      <td>2015.0</td>\n",
       "      <td>Anthony Davis</td>\n",
       "      <td>PF</td>\n",
       "      <td>21.0</td>\n",
       "      <td>NOP</td>\n",
       "      <td>68.0</td>\n",
       "      <td>68.0</td>\n",
       "      <td>2455.0</td>\n",
       "      <td>30.8</td>\n",
       "      <td>...</td>\n",
       "      <td>0.805</td>\n",
       "      <td>173.0</td>\n",
       "      <td>523.0</td>\n",
       "      <td>696.0</td>\n",
       "      <td>149.0</td>\n",
       "      <td>100.0</td>\n",
       "      <td>200.0</td>\n",
       "      <td>95.0</td>\n",
       "      <td>141.0</td>\n",
       "      <td>1656.0</td>\n",
       "    </tr>\n",
       "    <tr>\n",
       "      <th>23480</th>\n",
       "      <td>23480</td>\n",
       "      <td>2015.0</td>\n",
       "      <td>Russell Westbrook</td>\n",
       "      <td>PG</td>\n",
       "      <td>26.0</td>\n",
       "      <td>OKC</td>\n",
       "      <td>67.0</td>\n",
       "      <td>67.0</td>\n",
       "      <td>2302.0</td>\n",
       "      <td>29.1</td>\n",
       "      <td>...</td>\n",
       "      <td>0.835</td>\n",
       "      <td>124.0</td>\n",
       "      <td>364.0</td>\n",
       "      <td>488.0</td>\n",
       "      <td>574.0</td>\n",
       "      <td>140.0</td>\n",
       "      <td>14.0</td>\n",
       "      <td>293.0</td>\n",
       "      <td>184.0</td>\n",
       "      <td>1886.0</td>\n",
       "    </tr>\n",
       "    <tr>\n",
       "      <th>23000</th>\n",
       "      <td>23000</td>\n",
       "      <td>2015.0</td>\n",
       "      <td>Stephen Curry</td>\n",
       "      <td>PG</td>\n",
       "      <td>26.0</td>\n",
       "      <td>GSW</td>\n",
       "      <td>80.0</td>\n",
       "      <td>80.0</td>\n",
       "      <td>2613.0</td>\n",
       "      <td>28.0</td>\n",
       "      <td>...</td>\n",
       "      <td>0.914</td>\n",
       "      <td>56.0</td>\n",
       "      <td>285.0</td>\n",
       "      <td>341.0</td>\n",
       "      <td>619.0</td>\n",
       "      <td>163.0</td>\n",
       "      <td>16.0</td>\n",
       "      <td>249.0</td>\n",
       "      <td>158.0</td>\n",
       "      <td>1900.0</td>\n",
       "    </tr>\n",
       "    <tr>\n",
       "      <th>23040</th>\n",
       "      <td>23040</td>\n",
       "      <td>2015.0</td>\n",
       "      <td>Kevin Durant</td>\n",
       "      <td>SF</td>\n",
       "      <td>26.0</td>\n",
       "      <td>OKC</td>\n",
       "      <td>27.0</td>\n",
       "      <td>27.0</td>\n",
       "      <td>913.0</td>\n",
       "      <td>27.6</td>\n",
       "      <td>...</td>\n",
       "      <td>0.854</td>\n",
       "      <td>16.0</td>\n",
       "      <td>162.0</td>\n",
       "      <td>178.0</td>\n",
       "      <td>110.0</td>\n",
       "      <td>24.0</td>\n",
       "      <td>25.0</td>\n",
       "      <td>74.0</td>\n",
       "      <td>40.0</td>\n",
       "      <td>686.0</td>\n",
       "    </tr>\n",
       "    <tr>\n",
       "      <th>23114</th>\n",
       "      <td>23114</td>\n",
       "      <td>2015.0</td>\n",
       "      <td>James Harden</td>\n",
       "      <td>SG</td>\n",
       "      <td>25.0</td>\n",
       "      <td>HOU</td>\n",
       "      <td>81.0</td>\n",
       "      <td>81.0</td>\n",
       "      <td>2981.0</td>\n",
       "      <td>26.7</td>\n",
       "      <td>...</td>\n",
       "      <td>0.868</td>\n",
       "      <td>75.0</td>\n",
       "      <td>384.0</td>\n",
       "      <td>459.0</td>\n",
       "      <td>565.0</td>\n",
       "      <td>154.0</td>\n",
       "      <td>60.0</td>\n",
       "      <td>321.0</td>\n",
       "      <td>208.0</td>\n",
       "      <td>2217.0</td>\n",
       "    </tr>\n",
       "    <tr>\n",
       "      <th>23481</th>\n",
       "      <td>23481</td>\n",
       "      <td>2015.0</td>\n",
       "      <td>Hassan Whiteside</td>\n",
       "      <td>C</td>\n",
       "      <td>25.0</td>\n",
       "      <td>MIA</td>\n",
       "      <td>48.0</td>\n",
       "      <td>32.0</td>\n",
       "      <td>1142.0</td>\n",
       "      <td>26.2</td>\n",
       "      <td>...</td>\n",
       "      <td>0.500</td>\n",
       "      <td>145.0</td>\n",
       "      <td>337.0</td>\n",
       "      <td>482.0</td>\n",
       "      <td>6.0</td>\n",
       "      <td>27.0</td>\n",
       "      <td>123.0</td>\n",
       "      <td>58.0</td>\n",
       "      <td>129.0</td>\n",
       "      <td>564.0</td>\n",
       "    </tr>\n",
       "  </tbody>\n",
       "</table>\n",
       "<p>10 rows × 53 columns</p>\n",
       "</div>"
      ],
      "text/plain": [
       "       Unnamed: 0    Year             Player Pos   Age   Tm     G    GS  \\\n",
       "22919       22919  2015.0        Sim Bhullar   C  22.0  SAC   3.0   0.0   \n",
       "23269       23269  2015.0      Eric Moreland  PF  23.0  SAC   3.0   0.0   \n",
       "23331       23331  2015.0      Dwight Powell  PF  23.0  BOS   5.0   0.0   \n",
       "23443       23443  2015.0       Tyrus Thomas  PF  28.0  MEM   2.0   0.0   \n",
       "23012       23012  2015.0      Anthony Davis  PF  21.0  NOP  68.0  68.0   \n",
       "23480       23480  2015.0  Russell Westbrook  PG  26.0  OKC  67.0  67.0   \n",
       "23000       23000  2015.0      Stephen Curry  PG  26.0  GSW  80.0  80.0   \n",
       "23040       23040  2015.0       Kevin Durant  SF  26.0  OKC  27.0  27.0   \n",
       "23114       23114  2015.0       James Harden  SG  25.0  HOU  81.0  81.0   \n",
       "23481       23481  2015.0   Hassan Whiteside   C  25.0  MIA  48.0  32.0   \n",
       "\n",
       "           MP   PER  ...    FT%    ORB    DRB    TRB    AST    STL    BLK  \\\n",
       "22919     3.0  44.3  ...    NaN    0.0    1.0    1.0    1.0    0.0    1.0   \n",
       "23269     2.0  40.8  ...    NaN    0.0    1.0    1.0    0.0    0.0    0.0   \n",
       "23331     9.0  34.9  ...  0.500    0.0    1.0    1.0    0.0    2.0    0.0   \n",
       "23443     7.0  31.4  ...  1.000    0.0    0.0    0.0    1.0    0.0    0.0   \n",
       "23012  2455.0  30.8  ...  0.805  173.0  523.0  696.0  149.0  100.0  200.0   \n",
       "23480  2302.0  29.1  ...  0.835  124.0  364.0  488.0  574.0  140.0   14.0   \n",
       "23000  2613.0  28.0  ...  0.914   56.0  285.0  341.0  619.0  163.0   16.0   \n",
       "23040   913.0  27.6  ...  0.854   16.0  162.0  178.0  110.0   24.0   25.0   \n",
       "23114  2981.0  26.7  ...  0.868   75.0  384.0  459.0  565.0  154.0   60.0   \n",
       "23481  1142.0  26.2  ...  0.500  145.0  337.0  482.0    6.0   27.0  123.0   \n",
       "\n",
       "         TOV     PF     PTS  \n",
       "22919    0.0    0.0     2.0  \n",
       "23269    0.0    1.0     2.0  \n",
       "23331    2.0    1.0     9.0  \n",
       "23443    0.0    0.0     4.0  \n",
       "23012   95.0  141.0  1656.0  \n",
       "23480  293.0  184.0  1886.0  \n",
       "23000  249.0  158.0  1900.0  \n",
       "23040   74.0   40.0   686.0  \n",
       "23114  321.0  208.0  2217.0  \n",
       "23481   58.0  129.0   564.0  \n",
       "\n",
       "[10 rows x 53 columns]"
      ]
     },
     "execution_count": 25,
     "metadata": {},
     "output_type": "execute_result"
    }
   ],
   "source": [
    "_2015seasons_df.sort_values(by=['PER'], ascending=False).head(10)"
   ]
  },
  {
   "cell_type": "code",
   "execution_count": 26,
   "metadata": {},
   "outputs": [
    {
     "data": {
      "application/vnd.plotly.v1+json": {
       "config": {
        "plotlyServerURL": "https://plot.ly"
       },
       "data": [
        {
         "hovertemplate": "PTS=%{x}<br>PER=%{y}<extra></extra>",
         "legendgroup": "",
         "marker": {
          "color": "#636efa",
          "symbol": "circle"
         },
         "mode": "markers",
         "name": "",
         "orientation": "v",
         "showlegend": false,
         "type": "scatter",
         "x": [
          398,
          94,
          537,
          60,
          1035,
          771,
          264,
          443,
          93,
          338,
          1661,
          315,
          539,
          412,
          259,
          11,
          248,
          320,
          545,
          74,
          833,
          1030,
          966,
          87,
          356,
          1048,
          382,
          557,
          777,
          574,
          203,
          137,
          256,
          10,
          467,
          580,
          430,
          827,
          764,
          32,
          397,
          90,
          307,
          866,
          664,
          598,
          461,
          390,
          962,
          212,
          568,
          0,
          298,
          568,
          2,
          304,
          379,
          105,
          274,
          56,
          350,
          1377,
          22,
          700,
          422,
          264,
          567,
          836,
          928,
          1071,
          96,
          917,
          251,
          666,
          954,
          227,
          122,
          216,
          20,
          782,
          457,
          69,
          65,
          4,
          973,
          374,
          460,
          1301,
          580,
          52,
          22,
          10,
          243,
          382,
          1043,
          432,
          154,
          278,
          32,
          883,
          384,
          966,
          613,
          353,
          593,
          813,
          771,
          1085,
          15,
          6,
          27,
          57,
          44,
          13,
          703,
          24,
          573,
          295,
          278,
          725,
          273,
          1107,
          27,
          309,
          80,
          1421,
          943,
          168,
          1010,
          628,
          89,
          539,
          340,
          35,
          0,
          1900,
          128,
          176,
          46,
          53,
          77,
          105,
          11,
          94,
          142,
          126,
          16,
          1656,
          656,
          294,
          3,
          129,
          103,
          26,
          216,
          319,
          1007,
          1204,
          708,
          710,
          145,
          184,
          51,
          19,
          1275,
          843,
          432,
          28,
          6,
          22,
          46,
          1130,
          518,
          1070,
          595,
          686,
          210,
          650,
          1513,
          312,
          121,
          22,
          99,
          90,
          176,
          1313,
          393,
          201,
          946,
          167,
          1187,
          108,
          46,
          698,
          435,
          3,
          57,
          34,
          23,
          178,
          169,
          549,
          734,
          533,
          45,
          323,
          285,
          38,
          1413,
          1446,
          1432,
          241,
          190,
          51,
          53,
          640,
          738,
          686,
          277,
          231,
          243,
          349,
          17,
          818,
          1001,
          188,
          411,
          946,
          921,
          146,
          884,
          62,
          8,
          54,
          1168,
          580,
          588,
          306,
          1469,
          53,
          16,
          37,
          254,
          38,
          219,
          66,
          153,
          270,
          804,
          2217,
          158,
          665,
          188,
          136,
          1164,
          261,
          425,
          50,
          1463,
          35,
          969,
          20,
          470,
          802,
          552,
          737,
          692,
          841,
          729,
          377,
          592,
          254,
          137,
          433,
          1156,
          646,
          18,
          198,
          509,
          917,
          604,
          669,
          396,
          1628,
          957,
          1117,
          641,
          476,
          44,
          1743,
          1082,
          183,
          432,
          135,
          632,
          448,
          241,
          207,
          16,
          7,
          9,
          694,
          166,
          54,
          81,
          31,
          554,
          1154,
          74,
          190,
          753,
          21,
          250,
          184,
          386,
          946,
          138,
          535,
          638,
          1163,
          678,
          485,
          153,
          332,
          598,
          22,
          3,
          4,
          1070,
          923,
          147,
          911,
          419,
          20,
          295,
          503,
          470,
          93,
          778,
          1143,
          90,
          1,
          89,
          777,
          388,
          0,
          432,
          1057,
          327,
          286,
          1720,
          832,
          461,
          1236,
          566,
          1228,
          1244,
          0,
          98,
          299,
          265,
          37,
          276,
          118,
          36,
          20,
          779,
          956,
          203,
          806,
          660,
          62,
          503,
          424,
          487,
          476,
          11,
          109,
          201,
          106,
          88,
          18,
          996,
          9,
          72,
          663,
          6,
          1055,
          942,
          355,
          183,
          172,
          2,
          109,
          29,
          17,
          12,
          351,
          248,
          1218,
          833,
          27,
          1098,
          149,
          2,
          83,
          845,
          1258,
          790,
          855,
          785,
          299,
          486,
          512,
          6,
          0,
          6,
          197,
          261,
          543,
          413,
          130,
          523,
          167,
          29,
          327,
          194,
          485,
          744,
          6,
          63,
          48,
          15,
          1333,
          426,
          100,
          294,
          1292,
          656,
          27,
          606,
          182,
          41,
          308,
          976,
          1037,
          648,
          1564,
          213,
          5,
          208,
          731,
          386,
          246,
          202,
          44,
          868,
          717,
          294,
          233,
          61,
          538,
          134,
          404,
          445,
          90,
          9,
          81,
          177,
          133,
          105,
          22,
          6,
          221,
          274,
          201,
          73,
          434,
          190,
          76,
          168,
          8,
          2,
          24,
          17,
          7,
          1143,
          1277,
          11,
          172,
          188,
          530,
          239,
          291,
          228,
          480,
          73,
          29,
          44,
          238,
          192,
          46,
          308,
          115,
          193,
          608,
          182,
          426,
          904,
          807,
          226,
          323,
          30,
          307,
          42,
          386,
          196,
          768,
          763,
          529,
          278,
          520,
          402,
          196,
          206,
          496,
          224,
          272,
          434,
          169,
          29,
          236,
          586,
          480,
          385,
          95,
          391,
          523,
          80,
          338,
          37,
          301,
          847,
          261,
          586,
          656,
          1027,
          367,
          660,
          30,
          5,
          25,
          435,
          791,
          428,
          319,
          501,
          14,
          8,
          57,
          680,
          432,
          248,
          896,
          770,
          127,
          1162,
          339,
          134,
          204,
          541,
          1101,
          701,
          400,
          443,
          113,
          330,
          45,
          4,
          626,
          491,
          1668,
          693,
          380,
          348,
          32,
          482,
          80,
          402,
          713,
          0,
          232,
          779,
          29,
          605,
          963,
          255,
          775,
          403,
          83,
          1428,
          1331,
          940,
          345,
          595,
          175,
          1075,
          1387,
          35,
          245,
          570,
          0,
          199,
          106,
          769,
          1886,
          564,
          57,
          1387,
          41,
          884,
          617,
          37,
          18,
          19,
          1242,
          577,
          964,
          499,
          465,
          37,
          341,
          292,
          49,
          98,
          42,
          25,
          17,
          544,
          238,
          26,
          280,
          219,
          507,
          105,
          563,
          1071,
          685,
          386,
          472,
          833
         ],
         "xaxis": "x",
         "y": [
          11.9,
          12.8,
          14.1,
          14.2,
          10.7,
          11.7,
          8.2,
          19.9,
          12,
          18.1,
          22.8,
          14.9,
          14.6,
          14.4,
          11.8,
          3.8,
          12.5,
          16.1,
          10.6,
          8.2,
          15.6,
          14.8,
          21.5,
          14.7,
          9.5,
          12.7,
          11.5,
          15.5,
          13.9,
          15.8,
          10.2,
          14.4,
          11.1,
          2.1,
          15.3,
          15.1,
          16.6,
          13.4,
          11.3,
          5,
          13.6,
          8.3,
          15.9,
          16.3,
          13.1,
          11.1,
          15.9,
          9.7,
          14,
          10.6,
          12.4,
          4.7,
          11.4,
          11.3,
          44.3,
          15.2,
          14.7,
          11.6,
          16.3,
          7.7,
          9.5,
          18.4,
          4,
          11.6,
          15.8,
          10.1,
          15.3,
          16.4,
          19.8,
          11.5,
          9.4,
          13.9,
          13.8,
          14,
          14.4,
          11,
          11,
          9.1,
          4.4,
          17.6,
          12.2,
          6.2,
          8.8,
          -3.1,
          12.6,
          13,
          9.3,
          21.3,
          11.4,
          13.1,
          4.8,
          -1.8,
          12.3,
          11.3,
          11.2,
          12.4,
          11.8,
          12.8,
          12.1,
          15.9,
          9.6,
          14.1,
          12.8,
          16.3,
          14.4,
          11.7,
          20.1,
          13.2,
          5.8,
          -2.6,
          6.7,
          8.8,
          8.3,
          11.6,
          16.9,
          9.2,
          10.9,
          9.9,
          12.6,
          17.5,
          11.2,
          18.6,
          11.4,
          7.4,
          14.5,
          25.2,
          14.7,
          8.7,
          16.6,
          13.9,
          12.7,
          14.1,
          8.9,
          7.3,
          -11.4,
          28,
          11.8,
          9.6,
          4.5,
          7.4,
          16.1,
          15.1,
          16.7,
          14.9,
          10.5,
          10.7,
          8.5,
          30.8,
          20,
          10.8,
          -5,
          8.2,
          7.1,
          12.1,
          13.3,
          8.5,
          15.5,
          17.4,
          12.7,
          17.2,
          10.2,
          11.1,
          11.2,
          3.3,
          17.4,
          16.7,
          18.8,
          8.2,
          9.1,
          8,
          4.5,
          21.4,
          12.3,
          22.6,
          11.6,
          27.6,
          8.4,
          11.6,
          16.5,
          11.5,
          7.3,
          12,
          6.6,
          20.5,
          11.7,
          17.7,
          5.7,
          16.2,
          18.4,
          9.9,
          21.8,
          12.4,
          10.8,
          12.4,
          11,
          4.9,
          8.1,
          5.9,
          13.7,
          9.8,
          12.2,
          9.5,
          16.8,
          12.3,
          3.6,
          15.2,
          14.8,
          19.3,
          21.7,
          22.7,
          19.7,
          13,
          14,
          9.7,
          13,
          16.1,
          16.2,
          21.6,
          11.9,
          11.2,
          11.4,
          10.6,
          3.7,
          12.7,
          18.2,
          8.6,
          8.7,
          16.5,
          16.4,
          8.9,
          15.4,
          14.9,
          9.9,
          15.8,
          14.4,
          14.6,
          14.2,
          7.9,
          22.8,
          11,
          10.9,
          11.1,
          9,
          8.3,
          14.6,
          9.7,
          18,
          13.3,
          12.1,
          26.7,
          8.4,
          14.8,
          4.9,
          5.6,
          16.7,
          10.6,
          9.8,
          10.4,
          20.2,
          9.1,
          13.2,
          4.9,
          18,
          15.4,
          14.3,
          14.3,
          21.5,
          16.2,
          10.2,
          6.8,
          18.8,
          12.1,
          13.1,
          12.3,
          21.4,
          19.2,
          16,
          9.7,
          15.4,
          16.6,
          12.3,
          16.8,
          9.6,
          21.5,
          14.6,
          17.2,
          15.6,
          19.8,
          16,
          25.9,
          19.7,
          13.2,
          11.3,
          15.9,
          19.7,
          15,
          14.5,
          15.5,
          1.5,
          -11,
          13.6,
          15.4,
          10.2,
          6,
          14.2,
          9.7,
          17.9,
          14.1,
          4.8,
          12,
          11.1,
          1.9,
          11.1,
          6.9,
          18.3,
          21,
          16.8,
          15.5,
          17.3,
          20.3,
          17.5,
          24.9,
          10.5,
          8.6,
          15.1,
          10,
          2.8,
          8.5,
          17.1,
          18.5,
          10.5,
          14.8,
          14.2,
          12.9,
          14.9,
          14.9,
          10.9,
          10.5,
          11.3,
          18.5,
          6.3,
          -22.5,
          7.6,
          11.5,
          17.8,
          -19.7,
          13.5,
          22,
          14.8,
          11.9,
          20.7,
          15.6,
          12.9,
          22.7,
          16.2,
          18.8,
          19.3,
          -0.7,
          13,
          13.2,
          10.8,
          5.9,
          11,
          12.4,
          1.6,
          10,
          16.7,
          16.1,
          10.4,
          13.5,
          10.6,
          17.7,
          12.5,
          13.1,
          10.6,
          10.8,
          4.6,
          6.1,
          16.6,
          14.4,
          16.7,
          6.8,
          10.4,
          1.2,
          10.2,
          14.1,
          0.5,
          15.6,
          14.1,
          13.3,
          14.3,
          12.3,
          -5.1,
          4.6,
          7.4,
          11.1,
          3.6,
          13,
          7.9,
          20,
          17.9,
          8.7,
          21.2,
          10.3,
          40.8,
          6.7,
          13.7,
          15.8,
          14.8,
          14.4,
          16.6,
          13.8,
          18.7,
          19.9,
          1.1,
          -41.7,
          3.6,
          18,
          9.3,
          11.1,
          9.9,
          15.1,
          12.1,
          9.9,
          8.7,
          14.5,
          10.3,
          15.3,
          15,
          5.2,
          8.6,
          14.5,
          1.3,
          19.2,
          14.8,
          3.8,
          14.8,
          15.9,
          15.9,
          22.8,
          15.6,
          7.8,
          14.9,
          14.5,
          15.9,
          16.3,
          14.6,
          26,
          7.7,
          2.9,
          7.8,
          13.8,
          16.6,
          7,
          7.4,
          4.7,
          15.2,
          18,
          13.4,
          13.1,
          15,
          9.9,
          7.1,
          11.1,
          11.6,
          13.8,
          34.9,
          13,
          11.8,
          12,
          17.1,
          7.7,
          -1.6,
          10.2,
          12.2,
          12.7,
          11.4,
          12,
          10.6,
          16.9,
          11.8,
          3.3,
          -7.5,
          7.2,
          6.1,
          11.4,
          19.5,
          16.2,
          -3.6,
          11.7,
          10,
          10.3,
          10.1,
          10.6,
          9.1,
          11.7,
          8.5,
          8.2,
          8.6,
          10.6,
          10.6,
          10.4,
          15.3,
          11,
          19.3,
          13.5,
          15.4,
          12.4,
          15.9,
          11.2,
          15.2,
          8.2,
          0.8,
          10.9,
          5.1,
          9.4,
          15.2,
          15.7,
          16.8,
          15.1,
          13.8,
          12.5,
          11.1,
          8.1,
          14.7,
          11.4,
          11.9,
          11.1,
          19.5,
          20,
          9.3,
          20.5,
          14.5,
          8.5,
          9.4,
          5.8,
          13.1,
          11,
          10.2,
          12.3,
          9,
          13,
          13.6,
          11.5,
          14.5,
          12,
          14.9,
          14.3,
          15.2,
          5.2,
          -16.6,
          22.7,
          10.2,
          19.5,
          18.9,
          7.5,
          8.8,
          7.8,
          10.8,
          18.6,
          20.3,
          19.5,
          22.3,
          15.4,
          17.9,
          8.2,
          20.6,
          10.7,
          11.4,
          10.9,
          11.4,
          20.6,
          19.7,
          22.3,
          8,
          6.6,
          8.6,
          8.2,
          31.4,
          10.9,
          10.2,
          20.8,
          15.6,
          15,
          15.8,
          8.3,
          11.1,
          7.8,
          11.8,
          12.5,
          4.3,
          10.5,
          12.8,
          11.6,
          15.4,
          20.6,
          17.7,
          12.6,
          17.4,
          13.2,
          21.5,
          21.4,
          10.9,
          12.2,
          10.1,
          8,
          17.6,
          19.9,
          6.2,
          14,
          15.4,
          2.4,
          8.5,
          5.9,
          16,
          29.1,
          26.2,
          20,
          13.9,
          8.5,
          15.7,
          12.8,
          8.7,
          14.4,
          5.6,
          19.9,
          11.8,
          15.4,
          14.4,
          16.9,
          10.5,
          10.5,
          11.2,
          6.7,
          17.6,
          4.6,
          5.4,
          3.5,
          20.4,
          25.7,
          15,
          17.8,
          13.4,
          14.9,
          8.5,
          14.2,
          15.7,
          15,
          17.1,
          14.1,
          18.9
         ],
         "yaxis": "y"
        }
       ],
       "layout": {
        "legend": {
         "tracegroupgap": 0
        },
        "margin": {
         "t": 60
        },
        "template": {
         "data": {
          "bar": [
           {
            "error_x": {
             "color": "#2a3f5f"
            },
            "error_y": {
             "color": "#2a3f5f"
            },
            "marker": {
             "line": {
              "color": "#E5ECF6",
              "width": 0.5
             },
             "pattern": {
              "fillmode": "overlay",
              "size": 10,
              "solidity": 0.2
             }
            },
            "type": "bar"
           }
          ],
          "barpolar": [
           {
            "marker": {
             "line": {
              "color": "#E5ECF6",
              "width": 0.5
             },
             "pattern": {
              "fillmode": "overlay",
              "size": 10,
              "solidity": 0.2
             }
            },
            "type": "barpolar"
           }
          ],
          "carpet": [
           {
            "aaxis": {
             "endlinecolor": "#2a3f5f",
             "gridcolor": "white",
             "linecolor": "white",
             "minorgridcolor": "white",
             "startlinecolor": "#2a3f5f"
            },
            "baxis": {
             "endlinecolor": "#2a3f5f",
             "gridcolor": "white",
             "linecolor": "white",
             "minorgridcolor": "white",
             "startlinecolor": "#2a3f5f"
            },
            "type": "carpet"
           }
          ],
          "choropleth": [
           {
            "colorbar": {
             "outlinewidth": 0,
             "ticks": ""
            },
            "type": "choropleth"
           }
          ],
          "contour": [
           {
            "colorbar": {
             "outlinewidth": 0,
             "ticks": ""
            },
            "colorscale": [
             [
              0,
              "#0d0887"
             ],
             [
              0.1111111111111111,
              "#46039f"
             ],
             [
              0.2222222222222222,
              "#7201a8"
             ],
             [
              0.3333333333333333,
              "#9c179e"
             ],
             [
              0.4444444444444444,
              "#bd3786"
             ],
             [
              0.5555555555555556,
              "#d8576b"
             ],
             [
              0.6666666666666666,
              "#ed7953"
             ],
             [
              0.7777777777777778,
              "#fb9f3a"
             ],
             [
              0.8888888888888888,
              "#fdca26"
             ],
             [
              1,
              "#f0f921"
             ]
            ],
            "type": "contour"
           }
          ],
          "contourcarpet": [
           {
            "colorbar": {
             "outlinewidth": 0,
             "ticks": ""
            },
            "type": "contourcarpet"
           }
          ],
          "heatmap": [
           {
            "colorbar": {
             "outlinewidth": 0,
             "ticks": ""
            },
            "colorscale": [
             [
              0,
              "#0d0887"
             ],
             [
              0.1111111111111111,
              "#46039f"
             ],
             [
              0.2222222222222222,
              "#7201a8"
             ],
             [
              0.3333333333333333,
              "#9c179e"
             ],
             [
              0.4444444444444444,
              "#bd3786"
             ],
             [
              0.5555555555555556,
              "#d8576b"
             ],
             [
              0.6666666666666666,
              "#ed7953"
             ],
             [
              0.7777777777777778,
              "#fb9f3a"
             ],
             [
              0.8888888888888888,
              "#fdca26"
             ],
             [
              1,
              "#f0f921"
             ]
            ],
            "type": "heatmap"
           }
          ],
          "heatmapgl": [
           {
            "colorbar": {
             "outlinewidth": 0,
             "ticks": ""
            },
            "colorscale": [
             [
              0,
              "#0d0887"
             ],
             [
              0.1111111111111111,
              "#46039f"
             ],
             [
              0.2222222222222222,
              "#7201a8"
             ],
             [
              0.3333333333333333,
              "#9c179e"
             ],
             [
              0.4444444444444444,
              "#bd3786"
             ],
             [
              0.5555555555555556,
              "#d8576b"
             ],
             [
              0.6666666666666666,
              "#ed7953"
             ],
             [
              0.7777777777777778,
              "#fb9f3a"
             ],
             [
              0.8888888888888888,
              "#fdca26"
             ],
             [
              1,
              "#f0f921"
             ]
            ],
            "type": "heatmapgl"
           }
          ],
          "histogram": [
           {
            "marker": {
             "pattern": {
              "fillmode": "overlay",
              "size": 10,
              "solidity": 0.2
             }
            },
            "type": "histogram"
           }
          ],
          "histogram2d": [
           {
            "colorbar": {
             "outlinewidth": 0,
             "ticks": ""
            },
            "colorscale": [
             [
              0,
              "#0d0887"
             ],
             [
              0.1111111111111111,
              "#46039f"
             ],
             [
              0.2222222222222222,
              "#7201a8"
             ],
             [
              0.3333333333333333,
              "#9c179e"
             ],
             [
              0.4444444444444444,
              "#bd3786"
             ],
             [
              0.5555555555555556,
              "#d8576b"
             ],
             [
              0.6666666666666666,
              "#ed7953"
             ],
             [
              0.7777777777777778,
              "#fb9f3a"
             ],
             [
              0.8888888888888888,
              "#fdca26"
             ],
             [
              1,
              "#f0f921"
             ]
            ],
            "type": "histogram2d"
           }
          ],
          "histogram2dcontour": [
           {
            "colorbar": {
             "outlinewidth": 0,
             "ticks": ""
            },
            "colorscale": [
             [
              0,
              "#0d0887"
             ],
             [
              0.1111111111111111,
              "#46039f"
             ],
             [
              0.2222222222222222,
              "#7201a8"
             ],
             [
              0.3333333333333333,
              "#9c179e"
             ],
             [
              0.4444444444444444,
              "#bd3786"
             ],
             [
              0.5555555555555556,
              "#d8576b"
             ],
             [
              0.6666666666666666,
              "#ed7953"
             ],
             [
              0.7777777777777778,
              "#fb9f3a"
             ],
             [
              0.8888888888888888,
              "#fdca26"
             ],
             [
              1,
              "#f0f921"
             ]
            ],
            "type": "histogram2dcontour"
           }
          ],
          "mesh3d": [
           {
            "colorbar": {
             "outlinewidth": 0,
             "ticks": ""
            },
            "type": "mesh3d"
           }
          ],
          "parcoords": [
           {
            "line": {
             "colorbar": {
              "outlinewidth": 0,
              "ticks": ""
             }
            },
            "type": "parcoords"
           }
          ],
          "pie": [
           {
            "automargin": true,
            "type": "pie"
           }
          ],
          "scatter": [
           {
            "fillpattern": {
             "fillmode": "overlay",
             "size": 10,
             "solidity": 0.2
            },
            "type": "scatter"
           }
          ],
          "scatter3d": [
           {
            "line": {
             "colorbar": {
              "outlinewidth": 0,
              "ticks": ""
             }
            },
            "marker": {
             "colorbar": {
              "outlinewidth": 0,
              "ticks": ""
             }
            },
            "type": "scatter3d"
           }
          ],
          "scattercarpet": [
           {
            "marker": {
             "colorbar": {
              "outlinewidth": 0,
              "ticks": ""
             }
            },
            "type": "scattercarpet"
           }
          ],
          "scattergeo": [
           {
            "marker": {
             "colorbar": {
              "outlinewidth": 0,
              "ticks": ""
             }
            },
            "type": "scattergeo"
           }
          ],
          "scattergl": [
           {
            "marker": {
             "colorbar": {
              "outlinewidth": 0,
              "ticks": ""
             }
            },
            "type": "scattergl"
           }
          ],
          "scattermapbox": [
           {
            "marker": {
             "colorbar": {
              "outlinewidth": 0,
              "ticks": ""
             }
            },
            "type": "scattermapbox"
           }
          ],
          "scatterpolar": [
           {
            "marker": {
             "colorbar": {
              "outlinewidth": 0,
              "ticks": ""
             }
            },
            "type": "scatterpolar"
           }
          ],
          "scatterpolargl": [
           {
            "marker": {
             "colorbar": {
              "outlinewidth": 0,
              "ticks": ""
             }
            },
            "type": "scatterpolargl"
           }
          ],
          "scatterternary": [
           {
            "marker": {
             "colorbar": {
              "outlinewidth": 0,
              "ticks": ""
             }
            },
            "type": "scatterternary"
           }
          ],
          "surface": [
           {
            "colorbar": {
             "outlinewidth": 0,
             "ticks": ""
            },
            "colorscale": [
             [
              0,
              "#0d0887"
             ],
             [
              0.1111111111111111,
              "#46039f"
             ],
             [
              0.2222222222222222,
              "#7201a8"
             ],
             [
              0.3333333333333333,
              "#9c179e"
             ],
             [
              0.4444444444444444,
              "#bd3786"
             ],
             [
              0.5555555555555556,
              "#d8576b"
             ],
             [
              0.6666666666666666,
              "#ed7953"
             ],
             [
              0.7777777777777778,
              "#fb9f3a"
             ],
             [
              0.8888888888888888,
              "#fdca26"
             ],
             [
              1,
              "#f0f921"
             ]
            ],
            "type": "surface"
           }
          ],
          "table": [
           {
            "cells": {
             "fill": {
              "color": "#EBF0F8"
             },
             "line": {
              "color": "white"
             }
            },
            "header": {
             "fill": {
              "color": "#C8D4E3"
             },
             "line": {
              "color": "white"
             }
            },
            "type": "table"
           }
          ]
         },
         "layout": {
          "annotationdefaults": {
           "arrowcolor": "#2a3f5f",
           "arrowhead": 0,
           "arrowwidth": 1
          },
          "autotypenumbers": "strict",
          "coloraxis": {
           "colorbar": {
            "outlinewidth": 0,
            "ticks": ""
           }
          },
          "colorscale": {
           "diverging": [
            [
             0,
             "#8e0152"
            ],
            [
             0.1,
             "#c51b7d"
            ],
            [
             0.2,
             "#de77ae"
            ],
            [
             0.3,
             "#f1b6da"
            ],
            [
             0.4,
             "#fde0ef"
            ],
            [
             0.5,
             "#f7f7f7"
            ],
            [
             0.6,
             "#e6f5d0"
            ],
            [
             0.7,
             "#b8e186"
            ],
            [
             0.8,
             "#7fbc41"
            ],
            [
             0.9,
             "#4d9221"
            ],
            [
             1,
             "#276419"
            ]
           ],
           "sequential": [
            [
             0,
             "#0d0887"
            ],
            [
             0.1111111111111111,
             "#46039f"
            ],
            [
             0.2222222222222222,
             "#7201a8"
            ],
            [
             0.3333333333333333,
             "#9c179e"
            ],
            [
             0.4444444444444444,
             "#bd3786"
            ],
            [
             0.5555555555555556,
             "#d8576b"
            ],
            [
             0.6666666666666666,
             "#ed7953"
            ],
            [
             0.7777777777777778,
             "#fb9f3a"
            ],
            [
             0.8888888888888888,
             "#fdca26"
            ],
            [
             1,
             "#f0f921"
            ]
           ],
           "sequentialminus": [
            [
             0,
             "#0d0887"
            ],
            [
             0.1111111111111111,
             "#46039f"
            ],
            [
             0.2222222222222222,
             "#7201a8"
            ],
            [
             0.3333333333333333,
             "#9c179e"
            ],
            [
             0.4444444444444444,
             "#bd3786"
            ],
            [
             0.5555555555555556,
             "#d8576b"
            ],
            [
             0.6666666666666666,
             "#ed7953"
            ],
            [
             0.7777777777777778,
             "#fb9f3a"
            ],
            [
             0.8888888888888888,
             "#fdca26"
            ],
            [
             1,
             "#f0f921"
            ]
           ]
          },
          "colorway": [
           "#636efa",
           "#EF553B",
           "#00cc96",
           "#ab63fa",
           "#FFA15A",
           "#19d3f3",
           "#FF6692",
           "#B6E880",
           "#FF97FF",
           "#FECB52"
          ],
          "font": {
           "color": "#2a3f5f"
          },
          "geo": {
           "bgcolor": "white",
           "lakecolor": "white",
           "landcolor": "#E5ECF6",
           "showlakes": true,
           "showland": true,
           "subunitcolor": "white"
          },
          "hoverlabel": {
           "align": "left"
          },
          "hovermode": "closest",
          "mapbox": {
           "style": "light"
          },
          "paper_bgcolor": "white",
          "plot_bgcolor": "#E5ECF6",
          "polar": {
           "angularaxis": {
            "gridcolor": "white",
            "linecolor": "white",
            "ticks": ""
           },
           "bgcolor": "#E5ECF6",
           "radialaxis": {
            "gridcolor": "white",
            "linecolor": "white",
            "ticks": ""
           }
          },
          "scene": {
           "xaxis": {
            "backgroundcolor": "#E5ECF6",
            "gridcolor": "white",
            "gridwidth": 2,
            "linecolor": "white",
            "showbackground": true,
            "ticks": "",
            "zerolinecolor": "white"
           },
           "yaxis": {
            "backgroundcolor": "#E5ECF6",
            "gridcolor": "white",
            "gridwidth": 2,
            "linecolor": "white",
            "showbackground": true,
            "ticks": "",
            "zerolinecolor": "white"
           },
           "zaxis": {
            "backgroundcolor": "#E5ECF6",
            "gridcolor": "white",
            "gridwidth": 2,
            "linecolor": "white",
            "showbackground": true,
            "ticks": "",
            "zerolinecolor": "white"
           }
          },
          "shapedefaults": {
           "line": {
            "color": "#2a3f5f"
           }
          },
          "ternary": {
           "aaxis": {
            "gridcolor": "white",
            "linecolor": "white",
            "ticks": ""
           },
           "baxis": {
            "gridcolor": "white",
            "linecolor": "white",
            "ticks": ""
           },
           "bgcolor": "#E5ECF6",
           "caxis": {
            "gridcolor": "white",
            "linecolor": "white",
            "ticks": ""
           }
          },
          "title": {
           "x": 0.05
          },
          "xaxis": {
           "automargin": true,
           "gridcolor": "white",
           "linecolor": "white",
           "ticks": "",
           "title": {
            "standoff": 15
           },
           "zerolinecolor": "white",
           "zerolinewidth": 2
          },
          "yaxis": {
           "automargin": true,
           "gridcolor": "white",
           "linecolor": "white",
           "ticks": "",
           "title": {
            "standoff": 15
           },
           "zerolinecolor": "white",
           "zerolinewidth": 2
          }
         }
        },
        "xaxis": {
         "anchor": "y",
         "domain": [
          0,
          1
         ],
         "title": {
          "text": "PTS"
         }
        },
        "yaxis": {
         "anchor": "x",
         "domain": [
          0,
          1
         ],
         "title": {
          "text": "PER"
         }
        }
       }
      }
     },
     "metadata": {},
     "output_type": "display_data"
    }
   ],
   "source": [
    "import plotly.express as px\n",
    "fig = px.scatter(_2015seasons_df, x=\"PTS\", y=\"PER\")\n",
    "fig.show()"
   ]
  },
  {
   "cell_type": "code",
   "execution_count": 27,
   "metadata": {},
   "outputs": [
    {
     "data": {
      "application/vnd.plotly.v1+json": {
       "config": {
        "plotlyServerURL": "https://plot.ly"
       },
       "data": [
        {
         "hovertemplate": "Pos=PF<br>PTS=%{x}<br>PER=%{y}<extra></extra>",
         "legendgroup": "PF",
         "marker": {
          "color": "#636efa",
          "symbol": "circle"
         },
         "mode": "markers",
         "name": "PF",
         "orientation": "v",
         "showlegend": true,
         "type": "scatter",
         "x": [
          398,
          60,
          93,
          1661,
          259,
          11,
          248,
          833,
          382,
          137,
          10,
          866,
          212,
          0,
          298,
          56,
          264,
          567,
          836,
          27,
          273,
          27,
          340,
          142,
          126,
          16,
          1656,
          656,
          294,
          708,
          184,
          176,
          946,
          1187,
          549,
          323,
          285,
          38,
          1446,
          640,
          277,
          243,
          17,
          921,
          62,
          8,
          54,
          1469,
          270,
          261,
          425,
          737,
          509,
          917,
          669,
          183,
          448,
          241,
          207,
          16,
          7,
          9,
          694,
          554,
          386,
          332,
          503,
          388,
          286,
          1228,
          20,
          203,
          660,
          62,
          201,
          72,
          29,
          17,
          12,
          1218,
          833,
          1098,
          2,
          845,
          1258,
          855,
          197,
          194,
          15,
          1333,
          100,
          294,
          308,
          648,
          213,
          5,
          208,
          90,
          9,
          81,
          2,
          24,
          17,
          7,
          1143,
          308,
          115,
          193,
          763,
          529,
          80,
          1027,
          367,
          660,
          57,
          680,
          432,
          248,
          770,
          339,
          330,
          45,
          4,
          491,
          693,
          482,
          80,
          402,
          29,
          403,
          83,
          0,
          769,
          57,
          617,
          577,
          544,
          238,
          26,
          280,
          1071,
          685,
          386
         ],
         "xaxis": "x",
         "y": [
          11.9,
          14.2,
          12,
          22.8,
          11.8,
          3.8,
          12.5,
          15.6,
          11.5,
          14.4,
          2.1,
          16.3,
          10.6,
          4.7,
          11.4,
          7.7,
          10.1,
          15.3,
          16.4,
          6.7,
          11.2,
          11.4,
          8.9,
          10.5,
          10.7,
          8.5,
          30.8,
          20,
          10.8,
          12.7,
          11.1,
          11.7,
          18.4,
          21.8,
          9.5,
          15.2,
          14.8,
          19.3,
          22.7,
          16.1,
          11.9,
          11.4,
          3.7,
          16.4,
          14.9,
          9.9,
          15.8,
          22.8,
          13.3,
          10.6,
          9.8,
          14.3,
          15.4,
          16.6,
          16.8,
          13.2,
          15,
          14.5,
          15.5,
          1.5,
          -11,
          13.6,
          15.4,
          17.9,
          18.3,
          8.6,
          14.9,
          17.8,
          11.9,
          18.8,
          10,
          10.4,
          10.6,
          17.7,
          16.6,
          10.2,
          7.4,
          11.1,
          3.6,
          20,
          17.9,
          21.2,
          40.8,
          13.7,
          15.8,
          14.4,
          18,
          10.3,
          1.3,
          19.2,
          3.8,
          14.8,
          14.5,
          14.6,
          7.7,
          2.9,
          7.8,
          13.8,
          34.9,
          13,
          -7.5,
          7.2,
          6.1,
          11.4,
          19.5,
          15.3,
          11,
          19.3,
          16.8,
          15.1,
          10.2,
          14.9,
          14.3,
          15.2,
          18.6,
          20.3,
          19.5,
          22.3,
          17.9,
          10.7,
          8.6,
          8.2,
          31.4,
          10.2,
          15.6,
          11.1,
          7.8,
          11.8,
          11.6,
          17.4,
          13.2,
          2.4,
          16,
          20,
          12.8,
          11.8,
          20.4,
          25.7,
          15,
          17.8,
          15.7,
          15,
          17.1
         ],
         "yaxis": "y"
        },
        {
         "hovertemplate": "Pos=SG<br>PTS=%{x}<br>PER=%{y}<extra></extra>",
         "legendgroup": "SG",
         "marker": {
          "color": "#EF553B",
          "symbol": "circle"
         },
         "mode": "markers",
         "name": "SG",
         "orientation": "v",
         "showlegend": true,
         "type": "scatter",
         "x": [
          94,
          1035,
          771,
          264,
          539,
          545,
          1030,
          467,
          397,
          90,
          307,
          390,
          962,
          568,
          22,
          1071,
          227,
          216,
          20,
          782,
          374,
          1301,
          22,
          243,
          1043,
          384,
          6,
          57,
          44,
          13,
          168,
          1010,
          35,
          176,
          46,
          53,
          77,
          3,
          319,
          1204,
          51,
          19,
          843,
          28,
          6,
          22,
          518,
          650,
          1513,
          1313,
          698,
          435,
          3,
          738,
          231,
          349,
          818,
          946,
          884,
          306,
          254,
          804,
          2217,
          188,
          136,
          969,
          377,
          254,
          433,
          18,
          135,
          1154,
          74,
          190,
          153,
          22,
          147,
          911,
          295,
          90,
          1,
          89,
          777,
          0,
          37,
          779,
          956,
          806,
          424,
          487,
          476,
          11,
          996,
          663,
          942,
          248,
          149,
          790,
          512,
          6,
          543,
          413,
          130,
          1292,
          134,
          1277,
          11,
          172,
          239,
          228,
          29,
          30,
          496,
          224,
          272,
          434,
          169,
          29,
          236,
          847,
          261,
          586,
          319,
          501,
          204,
          541,
          626,
          1668,
          380,
          348,
          32,
          779,
          1331,
          940,
          345,
          595,
          41,
          37,
          18,
          19,
          1242,
          105,
          563
         ],
         "xaxis": "x",
         "y": [
          12.8,
          10.7,
          11.7,
          8.2,
          14.6,
          10.6,
          14.8,
          15.3,
          13.6,
          8.3,
          15.9,
          9.7,
          14,
          12.4,
          4,
          11.5,
          11,
          9.1,
          4.4,
          17.6,
          13,
          21.3,
          4.8,
          12.3,
          11.2,
          9.6,
          -2.6,
          8.8,
          8.3,
          11.6,
          8.7,
          16.6,
          7.3,
          9.6,
          4.5,
          7.4,
          16.1,
          -5,
          8.5,
          17.4,
          11.2,
          3.3,
          16.7,
          8.2,
          9.1,
          8,
          12.3,
          11.6,
          16.5,
          17.7,
          12.4,
          11,
          4.9,
          16.2,
          11.2,
          10.6,
          12.7,
          16.5,
          15.4,
          7.9,
          9,
          12.1,
          26.7,
          4.9,
          5.6,
          13.2,
          6.8,
          12.1,
          12.3,
          16,
          15.9,
          14.1,
          4.8,
          12,
          10.5,
          10,
          10.5,
          14.8,
          14.9,
          6.3,
          -22.5,
          7.6,
          11.5,
          -19.7,
          5.9,
          16.7,
          16.1,
          13.5,
          13.1,
          10.6,
          10.8,
          4.6,
          10.4,
          14.1,
          14.1,
          7.9,
          10.3,
          14.8,
          19.9,
          3.6,
          11.1,
          9.9,
          15.1,
          15.9,
          7.1,
          16.2,
          -3.6,
          11.7,
          10.1,
          9.1,
          8.2,
          0.8,
          11.4,
          11.9,
          11.1,
          19.5,
          20,
          9.3,
          20.5,
          13.6,
          11.5,
          14.5,
          7.5,
          8.8,
          10.9,
          11.4,
          10.9,
          20.8,
          15,
          15.8,
          8.3,
          12.8,
          21.4,
          10.9,
          12.2,
          10.1,
          8.5,
          8.7,
          14.4,
          5.6,
          19.9,
          8.5,
          14.2
         ],
         "yaxis": "y"
        },
        {
         "hovertemplate": "Pos=C<br>PTS=%{x}<br>PER=%{y}<extra></extra>",
         "legendgroup": "C",
         "marker": {
          "color": "#00cc96",
          "symbol": "circle"
         },
         "mode": "markers",
         "name": "C",
         "orientation": "v",
         "showlegend": true,
         "type": "scatter",
         "x": [
          537,
          443,
          338,
          315,
          320,
          87,
          356,
          557,
          430,
          32,
          461,
          2,
          304,
          379,
          105,
          274,
          422,
          928,
          96,
          32,
          771,
          1421,
          128,
          216,
          710,
          1130,
          1070,
          201,
          169,
          1413,
          686,
          1001,
          219,
          66,
          153,
          50,
          35,
          470,
          802,
          552,
          841,
          137,
          1156,
          646,
          44,
          1082,
          946,
          138,
          638,
          1163,
          678,
          485,
          4,
          419,
          20,
          93,
          432,
          327,
          1236,
          566,
          265,
          106,
          88,
          18,
          27,
          785,
          299,
          486,
          485,
          744,
          6,
          426,
          656,
          27,
          606,
          386,
          246,
          202,
          44,
          717,
          294,
          233,
          61,
          8,
          307,
          196,
          520,
          586,
          656,
          791,
          428,
          14,
          0,
          963,
          255,
          1428,
          564,
          98,
          472,
          833
         ],
         "xaxis": "x",
         "y": [
          14.1,
          19.9,
          18.1,
          14.9,
          16.1,
          14.7,
          9.5,
          15.5,
          16.6,
          5,
          15.9,
          44.3,
          15.2,
          14.7,
          11.6,
          16.3,
          15.8,
          19.8,
          9.4,
          12.1,
          20.1,
          25.2,
          11.8,
          13.3,
          17.2,
          21.4,
          22.6,
          16.2,
          12.2,
          21.7,
          21.6,
          18.2,
          14.6,
          9.7,
          18,
          10.4,
          9.1,
          18,
          15.4,
          14.3,
          16.2,
          13.1,
          21.4,
          19.2,
          16,
          19.7,
          21,
          16.8,
          17.3,
          20.3,
          17.5,
          24.9,
          8.5,
          14.2,
          12.9,
          10.5,
          13.5,
          14.8,
          22.7,
          16.2,
          10.8,
          14.4,
          16.7,
          6.8,
          8.7,
          16.6,
          13.8,
          18.7,
          15.3,
          15,
          5.2,
          14.8,
          15.9,
          22.8,
          15.6,
          16.6,
          7,
          7.4,
          4.7,
          18,
          13.4,
          13.1,
          15,
          3.3,
          10.9,
          15.2,
          12.5,
          14.5,
          12,
          19.5,
          18.9,
          7.8,
          4.3,
          20.6,
          17.7,
          21.5,
          26.2,
          17.6,
          14.1,
          18.9
         ],
         "yaxis": "y"
        },
        {
         "hovertemplate": "Pos=SF<br>PTS=%{x}<br>PER=%{y}<extra></extra>",
         "legendgroup": "SF",
         "marker": {
          "color": "#ab63fa",
          "symbol": "circle"
         },
         "mode": "markers",
         "name": "SF",
         "orientation": "v",
         "showlegend": true,
         "type": "scatter",
         "x": [
          412,
          74,
          966,
          1048,
          256,
          827,
          764,
          664,
          700,
          917,
          251,
          666,
          457,
          69,
          65,
          4,
          460,
          580,
          10,
          883,
          593,
          1085,
          24,
          309,
          943,
          628,
          89,
          539,
          105,
          11,
          94,
          129,
          103,
          26,
          1007,
          595,
          686,
          210,
          312,
          90,
          46,
          734,
          45,
          1432,
          241,
          190,
          51,
          53,
          188,
          411,
          1168,
          580,
          588,
          38,
          158,
          1164,
          1463,
          20,
          729,
          198,
          604,
          396,
          1743,
          432,
          166,
          54,
          81,
          31,
          753,
          21,
          250,
          184,
          598,
          3,
          1057,
          276,
          36,
          109,
          1055,
          2,
          109,
          48,
          182,
          1037,
          868,
          404,
          445,
          434,
          190,
          76,
          168,
          44,
          807,
          323,
          42,
          386,
          278,
          480,
          385,
          95,
          435,
          127,
          113,
          713,
          232,
          175,
          35,
          245,
          199,
          106,
          1387,
          37,
          341,
          292,
          49,
          219
         ],
         "xaxis": "x",
         "y": [
          14.4,
          8.2,
          21.5,
          12.7,
          11.1,
          13.4,
          11.3,
          13.1,
          11.6,
          13.9,
          13.8,
          14,
          12.2,
          6.2,
          8.8,
          -3.1,
          9.3,
          11.4,
          -1.8,
          15.9,
          14.4,
          13.2,
          9.2,
          7.4,
          14.7,
          13.9,
          12.7,
          14.1,
          15.1,
          16.7,
          14.9,
          8.2,
          7.1,
          12.1,
          15.5,
          11.6,
          27.6,
          8.4,
          11.5,
          20.5,
          10.8,
          16.8,
          3.6,
          19.7,
          13,
          14,
          9.7,
          13,
          8.6,
          8.7,
          14.4,
          14.6,
          14.2,
          8.3,
          8.4,
          16.7,
          20.2,
          4.9,
          10.2,
          9.7,
          12.3,
          9.6,
          25.9,
          11.3,
          10.2,
          6,
          14.2,
          9.7,
          11.1,
          1.9,
          11.1,
          6.9,
          15.1,
          2.8,
          22,
          11,
          1.6,
          6.1,
          15.6,
          -5.1,
          4.6,
          14.5,
          7.8,
          16.3,
          15.2,
          11.1,
          11.6,
          12,
          10.6,
          16.9,
          11.8,
          8.6,
          11.2,
          8.2,
          5.1,
          9.4,
          13.8,
          8.5,
          9.4,
          5.8,
          10.2,
          8.2,
          6.6,
          12.5,
          10.5,
          8,
          6.2,
          14,
          8.5,
          5.9,
          13.9,
          10.5,
          10.5,
          11.2,
          6.7,
          13.4
         ],
         "yaxis": "y"
        },
        {
         "hovertemplate": "Pos=PG<br>PTS=%{x}<br>PER=%{y}<extra></extra>",
         "legendgroup": "PG",
         "marker": {
          "color": "#FFA15A",
          "symbol": "circle"
         },
         "mode": "markers",
         "name": "PG",
         "orientation": "v",
         "showlegend": true,
         "type": "scatter",
         "x": [
          777,
          574,
          203,
          580,
          598,
          568,
          350,
          1377,
          954,
          122,
          973,
          52,
          382,
          432,
          154,
          278,
          966,
          613,
          353,
          813,
          15,
          703,
          573,
          295,
          278,
          725,
          1107,
          80,
          0,
          1900,
          145,
          432,
          46,
          121,
          22,
          99,
          393,
          167,
          108,
          57,
          34,
          23,
          178,
          533,
          146,
          53,
          16,
          37,
          665,
          692,
          592,
          1628,
          957,
          1117,
          641,
          476,
          632,
          535,
          923,
          470,
          778,
          1143,
          1720,
          832,
          461,
          1244,
          0,
          98,
          299,
          118,
          503,
          9,
          6,
          355,
          183,
          172,
          351,
          83,
          0,
          261,
          523,
          167,
          29,
          327,
          41,
          976,
          1564,
          731,
          177,
          133,
          105,
          22,
          6,
          221,
          274,
          201,
          73,
          188,
          291,
          480,
          238,
          192,
          46,
          608,
          182,
          426,
          904,
          226,
          768,
          402,
          196,
          206,
          391,
          523,
          338,
          37,
          301,
          30,
          5,
          25,
          8,
          896,
          1162,
          134,
          1101,
          701,
          400,
          605,
          775,
          1075,
          1387,
          570,
          1886,
          884,
          964,
          499,
          465,
          42,
          25,
          17,
          507
         ],
         "xaxis": "x",
         "y": [
          13.9,
          15.8,
          10.2,
          15.1,
          11.1,
          11.3,
          9.5,
          18.4,
          14.4,
          11,
          12.6,
          13.1,
          11.3,
          12.4,
          11.8,
          12.8,
          14.1,
          12.8,
          16.3,
          11.7,
          5.8,
          16.9,
          10.9,
          9.9,
          12.6,
          17.5,
          18.6,
          14.5,
          -11.4,
          28,
          10.2,
          18.8,
          4.5,
          7.3,
          12,
          6.6,
          5.7,
          9.9,
          12.4,
          8.1,
          5.9,
          13.7,
          9.8,
          12.3,
          8.9,
          11,
          10.9,
          11.1,
          14.8,
          21.5,
          18.8,
          21.5,
          14.6,
          17.2,
          15.6,
          19.8,
          19.7,
          15.5,
          18.5,
          10.9,
          11.3,
          18.5,
          20.7,
          15.6,
          12.9,
          19.3,
          -0.7,
          13,
          13.2,
          12.4,
          12.5,
          1.2,
          0.5,
          13.3,
          14.3,
          12.3,
          13,
          6.7,
          -41.7,
          9.3,
          12.1,
          9.9,
          8.7,
          14.5,
          14.9,
          15.9,
          26,
          13.8,
          11.8,
          12,
          17.1,
          7.7,
          -1.6,
          10.2,
          12.2,
          12.7,
          11.4,
          10,
          10.6,
          11.7,
          10.6,
          10.6,
          10.4,
          13.5,
          15.4,
          12.4,
          15.9,
          15.2,
          15.7,
          11.1,
          8.1,
          14.7,
          13.1,
          11,
          12.3,
          9,
          13,
          5.2,
          -16.6,
          22.7,
          10.8,
          15.4,
          20.6,
          11.4,
          20.6,
          19.7,
          22.3,
          15.4,
          12.6,
          17.6,
          19.9,
          15.4,
          29.1,
          15.7,
          15.4,
          14.4,
          16.9,
          4.6,
          5.4,
          3.5,
          14.9
         ],
         "yaxis": "y"
        },
        {
         "hovertemplate": "Pos=SG-PG<br>PTS=%{x}<br>PER=%{y}<extra></extra>",
         "legendgroup": "SG-PG",
         "marker": {
          "color": "#19d3f3",
          "symbol": "circle"
         },
         "mode": "markers",
         "name": "SG-PG",
         "orientation": "v",
         "showlegend": true,
         "type": "scatter",
         "x": [
          1275,
          6
         ],
         "xaxis": "x",
         "y": [
          17.4,
          1.1
         ],
         "yaxis": "y"
        },
        {
         "hovertemplate": "Pos=PG-SG<br>PTS=%{x}<br>PER=%{y}<extra></extra>",
         "legendgroup": "PG-SG",
         "marker": {
          "color": "#FF6692",
          "symbol": "circle"
         },
         "mode": "markers",
         "name": "PG-SG",
         "orientation": "v",
         "showlegend": true,
         "type": "scatter",
         "x": [
          1070,
          530
         ],
         "xaxis": "x",
         "y": [
          17.1,
          10.3
         ],
         "yaxis": "y"
        },
        {
         "hovertemplate": "Pos=SF-PF<br>PTS=%{x}<br>PER=%{y}<extra></extra>",
         "legendgroup": "SF-PF",
         "marker": {
          "color": "#B6E880",
          "symbol": "circle"
         },
         "mode": "markers",
         "name": "SF-PF",
         "orientation": "v",
         "showlegend": true,
         "type": "scatter",
         "x": [
          63
         ],
         "xaxis": "x",
         "y": [
          8.6
         ],
         "yaxis": "y"
        },
        {
         "hovertemplate": "Pos=SF-SG<br>PTS=%{x}<br>PER=%{y}<extra></extra>",
         "legendgroup": "SF-SG",
         "marker": {
          "color": "#FF97FF",
          "symbol": "circle"
         },
         "mode": "markers",
         "name": "SF-SG",
         "orientation": "v",
         "showlegend": true,
         "type": "scatter",
         "x": [
          538
         ],
         "xaxis": "x",
         "y": [
          9.9
         ],
         "yaxis": "y"
        },
        {
         "hovertemplate": "Pos=SG-SF<br>PTS=%{x}<br>PER=%{y}<extra></extra>",
         "legendgroup": "SG-SF",
         "marker": {
          "color": "#FECB52",
          "symbol": "circle"
         },
         "mode": "markers",
         "name": "SG-SF",
         "orientation": "v",
         "showlegend": true,
         "type": "scatter",
         "x": [
          73
         ],
         "xaxis": "x",
         "y": [
          8.5
         ],
         "yaxis": "y"
        },
        {
         "hovertemplate": "Pos=PF-SF<br>PTS=%{x}<br>PER=%{y}<extra></extra>",
         "legendgroup": "PF-SF",
         "marker": {
          "color": "#636efa",
          "symbol": "circle"
         },
         "mode": "markers",
         "name": "PF-SF",
         "orientation": "v",
         "showlegend": true,
         "type": "scatter",
         "x": [
          443
         ],
         "xaxis": "x",
         "y": [
          8
         ],
         "yaxis": "y"
        }
       ],
       "layout": {
        "legend": {
         "title": {
          "text": "Pos"
         },
         "tracegroupgap": 0
        },
        "margin": {
         "t": 60
        },
        "template": {
         "data": {
          "bar": [
           {
            "error_x": {
             "color": "#2a3f5f"
            },
            "error_y": {
             "color": "#2a3f5f"
            },
            "marker": {
             "line": {
              "color": "#E5ECF6",
              "width": 0.5
             },
             "pattern": {
              "fillmode": "overlay",
              "size": 10,
              "solidity": 0.2
             }
            },
            "type": "bar"
           }
          ],
          "barpolar": [
           {
            "marker": {
             "line": {
              "color": "#E5ECF6",
              "width": 0.5
             },
             "pattern": {
              "fillmode": "overlay",
              "size": 10,
              "solidity": 0.2
             }
            },
            "type": "barpolar"
           }
          ],
          "carpet": [
           {
            "aaxis": {
             "endlinecolor": "#2a3f5f",
             "gridcolor": "white",
             "linecolor": "white",
             "minorgridcolor": "white",
             "startlinecolor": "#2a3f5f"
            },
            "baxis": {
             "endlinecolor": "#2a3f5f",
             "gridcolor": "white",
             "linecolor": "white",
             "minorgridcolor": "white",
             "startlinecolor": "#2a3f5f"
            },
            "type": "carpet"
           }
          ],
          "choropleth": [
           {
            "colorbar": {
             "outlinewidth": 0,
             "ticks": ""
            },
            "type": "choropleth"
           }
          ],
          "contour": [
           {
            "colorbar": {
             "outlinewidth": 0,
             "ticks": ""
            },
            "colorscale": [
             [
              0,
              "#0d0887"
             ],
             [
              0.1111111111111111,
              "#46039f"
             ],
             [
              0.2222222222222222,
              "#7201a8"
             ],
             [
              0.3333333333333333,
              "#9c179e"
             ],
             [
              0.4444444444444444,
              "#bd3786"
             ],
             [
              0.5555555555555556,
              "#d8576b"
             ],
             [
              0.6666666666666666,
              "#ed7953"
             ],
             [
              0.7777777777777778,
              "#fb9f3a"
             ],
             [
              0.8888888888888888,
              "#fdca26"
             ],
             [
              1,
              "#f0f921"
             ]
            ],
            "type": "contour"
           }
          ],
          "contourcarpet": [
           {
            "colorbar": {
             "outlinewidth": 0,
             "ticks": ""
            },
            "type": "contourcarpet"
           }
          ],
          "heatmap": [
           {
            "colorbar": {
             "outlinewidth": 0,
             "ticks": ""
            },
            "colorscale": [
             [
              0,
              "#0d0887"
             ],
             [
              0.1111111111111111,
              "#46039f"
             ],
             [
              0.2222222222222222,
              "#7201a8"
             ],
             [
              0.3333333333333333,
              "#9c179e"
             ],
             [
              0.4444444444444444,
              "#bd3786"
             ],
             [
              0.5555555555555556,
              "#d8576b"
             ],
             [
              0.6666666666666666,
              "#ed7953"
             ],
             [
              0.7777777777777778,
              "#fb9f3a"
             ],
             [
              0.8888888888888888,
              "#fdca26"
             ],
             [
              1,
              "#f0f921"
             ]
            ],
            "type": "heatmap"
           }
          ],
          "heatmapgl": [
           {
            "colorbar": {
             "outlinewidth": 0,
             "ticks": ""
            },
            "colorscale": [
             [
              0,
              "#0d0887"
             ],
             [
              0.1111111111111111,
              "#46039f"
             ],
             [
              0.2222222222222222,
              "#7201a8"
             ],
             [
              0.3333333333333333,
              "#9c179e"
             ],
             [
              0.4444444444444444,
              "#bd3786"
             ],
             [
              0.5555555555555556,
              "#d8576b"
             ],
             [
              0.6666666666666666,
              "#ed7953"
             ],
             [
              0.7777777777777778,
              "#fb9f3a"
             ],
             [
              0.8888888888888888,
              "#fdca26"
             ],
             [
              1,
              "#f0f921"
             ]
            ],
            "type": "heatmapgl"
           }
          ],
          "histogram": [
           {
            "marker": {
             "pattern": {
              "fillmode": "overlay",
              "size": 10,
              "solidity": 0.2
             }
            },
            "type": "histogram"
           }
          ],
          "histogram2d": [
           {
            "colorbar": {
             "outlinewidth": 0,
             "ticks": ""
            },
            "colorscale": [
             [
              0,
              "#0d0887"
             ],
             [
              0.1111111111111111,
              "#46039f"
             ],
             [
              0.2222222222222222,
              "#7201a8"
             ],
             [
              0.3333333333333333,
              "#9c179e"
             ],
             [
              0.4444444444444444,
              "#bd3786"
             ],
             [
              0.5555555555555556,
              "#d8576b"
             ],
             [
              0.6666666666666666,
              "#ed7953"
             ],
             [
              0.7777777777777778,
              "#fb9f3a"
             ],
             [
              0.8888888888888888,
              "#fdca26"
             ],
             [
              1,
              "#f0f921"
             ]
            ],
            "type": "histogram2d"
           }
          ],
          "histogram2dcontour": [
           {
            "colorbar": {
             "outlinewidth": 0,
             "ticks": ""
            },
            "colorscale": [
             [
              0,
              "#0d0887"
             ],
             [
              0.1111111111111111,
              "#46039f"
             ],
             [
              0.2222222222222222,
              "#7201a8"
             ],
             [
              0.3333333333333333,
              "#9c179e"
             ],
             [
              0.4444444444444444,
              "#bd3786"
             ],
             [
              0.5555555555555556,
              "#d8576b"
             ],
             [
              0.6666666666666666,
              "#ed7953"
             ],
             [
              0.7777777777777778,
              "#fb9f3a"
             ],
             [
              0.8888888888888888,
              "#fdca26"
             ],
             [
              1,
              "#f0f921"
             ]
            ],
            "type": "histogram2dcontour"
           }
          ],
          "mesh3d": [
           {
            "colorbar": {
             "outlinewidth": 0,
             "ticks": ""
            },
            "type": "mesh3d"
           }
          ],
          "parcoords": [
           {
            "line": {
             "colorbar": {
              "outlinewidth": 0,
              "ticks": ""
             }
            },
            "type": "parcoords"
           }
          ],
          "pie": [
           {
            "automargin": true,
            "type": "pie"
           }
          ],
          "scatter": [
           {
            "fillpattern": {
             "fillmode": "overlay",
             "size": 10,
             "solidity": 0.2
            },
            "type": "scatter"
           }
          ],
          "scatter3d": [
           {
            "line": {
             "colorbar": {
              "outlinewidth": 0,
              "ticks": ""
             }
            },
            "marker": {
             "colorbar": {
              "outlinewidth": 0,
              "ticks": ""
             }
            },
            "type": "scatter3d"
           }
          ],
          "scattercarpet": [
           {
            "marker": {
             "colorbar": {
              "outlinewidth": 0,
              "ticks": ""
             }
            },
            "type": "scattercarpet"
           }
          ],
          "scattergeo": [
           {
            "marker": {
             "colorbar": {
              "outlinewidth": 0,
              "ticks": ""
             }
            },
            "type": "scattergeo"
           }
          ],
          "scattergl": [
           {
            "marker": {
             "colorbar": {
              "outlinewidth": 0,
              "ticks": ""
             }
            },
            "type": "scattergl"
           }
          ],
          "scattermapbox": [
           {
            "marker": {
             "colorbar": {
              "outlinewidth": 0,
              "ticks": ""
             }
            },
            "type": "scattermapbox"
           }
          ],
          "scatterpolar": [
           {
            "marker": {
             "colorbar": {
              "outlinewidth": 0,
              "ticks": ""
             }
            },
            "type": "scatterpolar"
           }
          ],
          "scatterpolargl": [
           {
            "marker": {
             "colorbar": {
              "outlinewidth": 0,
              "ticks": ""
             }
            },
            "type": "scatterpolargl"
           }
          ],
          "scatterternary": [
           {
            "marker": {
             "colorbar": {
              "outlinewidth": 0,
              "ticks": ""
             }
            },
            "type": "scatterternary"
           }
          ],
          "surface": [
           {
            "colorbar": {
             "outlinewidth": 0,
             "ticks": ""
            },
            "colorscale": [
             [
              0,
              "#0d0887"
             ],
             [
              0.1111111111111111,
              "#46039f"
             ],
             [
              0.2222222222222222,
              "#7201a8"
             ],
             [
              0.3333333333333333,
              "#9c179e"
             ],
             [
              0.4444444444444444,
              "#bd3786"
             ],
             [
              0.5555555555555556,
              "#d8576b"
             ],
             [
              0.6666666666666666,
              "#ed7953"
             ],
             [
              0.7777777777777778,
              "#fb9f3a"
             ],
             [
              0.8888888888888888,
              "#fdca26"
             ],
             [
              1,
              "#f0f921"
             ]
            ],
            "type": "surface"
           }
          ],
          "table": [
           {
            "cells": {
             "fill": {
              "color": "#EBF0F8"
             },
             "line": {
              "color": "white"
             }
            },
            "header": {
             "fill": {
              "color": "#C8D4E3"
             },
             "line": {
              "color": "white"
             }
            },
            "type": "table"
           }
          ]
         },
         "layout": {
          "annotationdefaults": {
           "arrowcolor": "#2a3f5f",
           "arrowhead": 0,
           "arrowwidth": 1
          },
          "autotypenumbers": "strict",
          "coloraxis": {
           "colorbar": {
            "outlinewidth": 0,
            "ticks": ""
           }
          },
          "colorscale": {
           "diverging": [
            [
             0,
             "#8e0152"
            ],
            [
             0.1,
             "#c51b7d"
            ],
            [
             0.2,
             "#de77ae"
            ],
            [
             0.3,
             "#f1b6da"
            ],
            [
             0.4,
             "#fde0ef"
            ],
            [
             0.5,
             "#f7f7f7"
            ],
            [
             0.6,
             "#e6f5d0"
            ],
            [
             0.7,
             "#b8e186"
            ],
            [
             0.8,
             "#7fbc41"
            ],
            [
             0.9,
             "#4d9221"
            ],
            [
             1,
             "#276419"
            ]
           ],
           "sequential": [
            [
             0,
             "#0d0887"
            ],
            [
             0.1111111111111111,
             "#46039f"
            ],
            [
             0.2222222222222222,
             "#7201a8"
            ],
            [
             0.3333333333333333,
             "#9c179e"
            ],
            [
             0.4444444444444444,
             "#bd3786"
            ],
            [
             0.5555555555555556,
             "#d8576b"
            ],
            [
             0.6666666666666666,
             "#ed7953"
            ],
            [
             0.7777777777777778,
             "#fb9f3a"
            ],
            [
             0.8888888888888888,
             "#fdca26"
            ],
            [
             1,
             "#f0f921"
            ]
           ],
           "sequentialminus": [
            [
             0,
             "#0d0887"
            ],
            [
             0.1111111111111111,
             "#46039f"
            ],
            [
             0.2222222222222222,
             "#7201a8"
            ],
            [
             0.3333333333333333,
             "#9c179e"
            ],
            [
             0.4444444444444444,
             "#bd3786"
            ],
            [
             0.5555555555555556,
             "#d8576b"
            ],
            [
             0.6666666666666666,
             "#ed7953"
            ],
            [
             0.7777777777777778,
             "#fb9f3a"
            ],
            [
             0.8888888888888888,
             "#fdca26"
            ],
            [
             1,
             "#f0f921"
            ]
           ]
          },
          "colorway": [
           "#636efa",
           "#EF553B",
           "#00cc96",
           "#ab63fa",
           "#FFA15A",
           "#19d3f3",
           "#FF6692",
           "#B6E880",
           "#FF97FF",
           "#FECB52"
          ],
          "font": {
           "color": "#2a3f5f"
          },
          "geo": {
           "bgcolor": "white",
           "lakecolor": "white",
           "landcolor": "#E5ECF6",
           "showlakes": true,
           "showland": true,
           "subunitcolor": "white"
          },
          "hoverlabel": {
           "align": "left"
          },
          "hovermode": "closest",
          "mapbox": {
           "style": "light"
          },
          "paper_bgcolor": "white",
          "plot_bgcolor": "#E5ECF6",
          "polar": {
           "angularaxis": {
            "gridcolor": "white",
            "linecolor": "white",
            "ticks": ""
           },
           "bgcolor": "#E5ECF6",
           "radialaxis": {
            "gridcolor": "white",
            "linecolor": "white",
            "ticks": ""
           }
          },
          "scene": {
           "xaxis": {
            "backgroundcolor": "#E5ECF6",
            "gridcolor": "white",
            "gridwidth": 2,
            "linecolor": "white",
            "showbackground": true,
            "ticks": "",
            "zerolinecolor": "white"
           },
           "yaxis": {
            "backgroundcolor": "#E5ECF6",
            "gridcolor": "white",
            "gridwidth": 2,
            "linecolor": "white",
            "showbackground": true,
            "ticks": "",
            "zerolinecolor": "white"
           },
           "zaxis": {
            "backgroundcolor": "#E5ECF6",
            "gridcolor": "white",
            "gridwidth": 2,
            "linecolor": "white",
            "showbackground": true,
            "ticks": "",
            "zerolinecolor": "white"
           }
          },
          "shapedefaults": {
           "line": {
            "color": "#2a3f5f"
           }
          },
          "ternary": {
           "aaxis": {
            "gridcolor": "white",
            "linecolor": "white",
            "ticks": ""
           },
           "baxis": {
            "gridcolor": "white",
            "linecolor": "white",
            "ticks": ""
           },
           "bgcolor": "#E5ECF6",
           "caxis": {
            "gridcolor": "white",
            "linecolor": "white",
            "ticks": ""
           }
          },
          "title": {
           "x": 0.05
          },
          "xaxis": {
           "automargin": true,
           "gridcolor": "white",
           "linecolor": "white",
           "ticks": "",
           "title": {
            "standoff": 15
           },
           "zerolinecolor": "white",
           "zerolinewidth": 2
          },
          "yaxis": {
           "automargin": true,
           "gridcolor": "white",
           "linecolor": "white",
           "ticks": "",
           "title": {
            "standoff": 15
           },
           "zerolinecolor": "white",
           "zerolinewidth": 2
          }
         }
        },
        "xaxis": {
         "anchor": "y",
         "domain": [
          0,
          1
         ],
         "title": {
          "text": "PTS"
         }
        },
        "yaxis": {
         "anchor": "x",
         "domain": [
          0,
          1
         ],
         "title": {
          "text": "PER"
         }
        }
       }
      }
     },
     "metadata": {},
     "output_type": "display_data"
    }
   ],
   "source": [
    "fig2 = px.scatter(_2015seasons_df, x=\"PTS\", y=\"PER\", color='Pos', size_max=25)\n",
    "fig2.show()"
   ]
  },
  {
   "cell_type": "code",
   "execution_count": 28,
   "metadata": {},
   "outputs": [
    {
     "data": {
      "application/vnd.plotly.v1+json": {
       "config": {
        "plotlyServerURL": "https://plot.ly"
       },
       "data": [
        {
         "hovertemplate": "Position=PF<br>Total Points Scored=%{x}<br>Number of Games Played=%{y}<extra></extra>",
         "legendgroup": "PF",
         "marker": {
          "color": "#636efa",
          "symbol": "circle"
         },
         "mode": "markers",
         "name": "PF",
         "orientation": "v",
         "showlegend": true,
         "type": "scatter",
         "x": [
          398,
          60,
          93,
          1661,
          259,
          11,
          248,
          833,
          382,
          137,
          10,
          866,
          212,
          0,
          298,
          56,
          264,
          567,
          836,
          27,
          273,
          27,
          340,
          142,
          126,
          16,
          1656,
          656,
          294,
          708,
          184,
          176,
          946,
          1187,
          549,
          323,
          285,
          38,
          1446,
          640,
          277,
          243,
          17,
          921,
          62,
          8,
          54,
          1469,
          270,
          261,
          425,
          737,
          509,
          917,
          669,
          183,
          448,
          241,
          207,
          16,
          7,
          9,
          694,
          554,
          386,
          332,
          503,
          388,
          286,
          1228,
          20,
          203,
          660,
          62,
          201,
          72,
          29,
          17,
          12,
          1218,
          833,
          1098,
          2,
          845,
          1258,
          855,
          197,
          194,
          15,
          1333,
          100,
          294,
          308,
          648,
          213,
          5,
          208,
          90,
          9,
          81,
          2,
          24,
          17,
          7,
          1143,
          308,
          115,
          193,
          763,
          529,
          80,
          1027,
          367,
          660,
          57,
          680,
          432,
          248,
          770,
          339,
          330,
          45,
          4,
          491,
          693,
          482,
          80,
          402,
          29,
          403,
          83,
          0,
          769,
          57,
          617,
          577,
          544,
          238,
          26,
          280,
          1071,
          685,
          386
         ],
         "xaxis": "x",
         "y": [
          68,
          17,
          41,
          71,
          53,
          12,
          41,
          61,
          58,
          51,
          18,
          82,
          24,
          2,
          57,
          29,
          72,
          79,
          71,
          10,
          66,
          16,
          66,
          27,
          20,
          7,
          68,
          79,
          74,
          81,
          69,
          47,
          75,
          74,
          75,
          47,
          42,
          5,
          78,
          62,
          51,
          47,
          9,
          79,
          24,
          4,
          20,
          67,
          74,
          62,
          73,
          67,
          64,
          64,
          58,
          50,
          75,
          46,
          29,
          8,
          5,
          3,
          75,
          70,
          33,
          52,
          70,
          49,
          63,
          75,
          11,
          61,
          67,
          15,
          32,
          17,
          10,
          6,
          4,
          73,
          82,
          69,
          3,
          81,
          82,
          71,
          40,
          40,
          13,
          77,
          34,
          51,
          25,
          81,
          32,
          3,
          29,
          29,
          5,
          24,
          1,
          21,
          16,
          5,
          71,
          54,
          32,
          22,
          81,
          68,
          42,
          83,
          28,
          55,
          19,
          59,
          36,
          23,
          58,
          40,
          40,
          17,
          2,
          81,
          82,
          76,
          24,
          52,
          33,
          64,
          25,
          2,
          66,
          20,
          74,
          78,
          75,
          27,
          8,
          40,
          76,
          48,
          28
         ],
         "yaxis": "y"
        },
        {
         "hovertemplate": "Position=SG<br>Total Points Scored=%{x}<br>Number of Games Played=%{y}<extra></extra>",
         "legendgroup": "SG",
         "marker": {
          "color": "#EF553B",
          "symbol": "circle"
         },
         "mode": "markers",
         "name": "SG",
         "orientation": "v",
         "showlegend": true,
         "type": "scatter",
         "x": [
          94,
          1035,
          771,
          264,
          539,
          545,
          1030,
          467,
          397,
          90,
          307,
          390,
          962,
          568,
          22,
          1071,
          227,
          216,
          20,
          782,
          374,
          1301,
          22,
          243,
          1043,
          384,
          6,
          57,
          44,
          13,
          168,
          1010,
          35,
          176,
          46,
          53,
          77,
          3,
          319,
          1204,
          51,
          19,
          843,
          28,
          6,
          22,
          518,
          650,
          1513,
          1313,
          698,
          435,
          3,
          738,
          231,
          349,
          818,
          946,
          884,
          306,
          254,
          804,
          2217,
          188,
          136,
          969,
          377,
          254,
          433,
          18,
          135,
          1154,
          74,
          190,
          153,
          22,
          147,
          911,
          295,
          90,
          1,
          89,
          777,
          0,
          37,
          779,
          956,
          806,
          424,
          487,
          476,
          11,
          996,
          663,
          942,
          248,
          149,
          790,
          512,
          6,
          543,
          413,
          130,
          1292,
          134,
          1277,
          11,
          172,
          239,
          228,
          29,
          30,
          496,
          224,
          272,
          434,
          169,
          29,
          236,
          847,
          261,
          586,
          319,
          501,
          204,
          541,
          626,
          1668,
          380,
          348,
          32,
          779,
          1331,
          940,
          345,
          595,
          41,
          37,
          18,
          19,
          1242,
          105,
          563
         ],
         "xaxis": "x",
         "y": [
          30,
          78,
          53,
          25,
          63,
          74,
          81,
          66,
          58,
          30,
          28,
          75,
          63,
          62,
          2,
          77,
          19,
          47,
          5,
          35,
          27,
          65,
          7,
          58,
          82,
          66,
          4,
          30,
          23,
          7,
          51,
          64,
          19,
          47,
          17,
          19,
          11,
          4,
          67,
          60,
          12,
          12,
          52,
          16,
          6,
          10,
          72,
          65,
          80,
          79,
          58,
          50,
          3,
          70,
          41,
          56,
          61,
          81,
          74,
          52,
          45,
          70,
          81,
          55,
          51,
          80,
          66,
          59,
          50,
          5,
          24,
          80,
          28,
          32,
          33,
          4,
          11,
          75,
          47,
          17,
          5,
          12,
          77,
          1,
          16,
          39,
          60,
          71,
          62,
          62,
          52,
          10,
          82,
          60,
          70,
          47,
          56,
          74,
          38,
          4,
          54,
          43,
          11,
          72,
          30,
          78,
          5,
          19,
          35,
          67,
          25,
          33,
          62,
          24,
          38,
          42,
          17,
          9,
          16,
          70,
          24,
          46,
          73,
          61,
          52,
          77,
          71,
          77,
          48,
          39,
          9,
          82,
          62,
          80,
          33,
          47,
          21,
          13,
          5,
          8,
          80,
          31,
          42
         ],
         "yaxis": "y"
        },
        {
         "hovertemplate": "Position=C<br>Total Points Scored=%{x}<br>Number of Games Played=%{y}<extra></extra>",
         "legendgroup": "C",
         "marker": {
          "color": "#00cc96",
          "symbol": "circle"
         },
         "mode": "markers",
         "name": "C",
         "orientation": "v",
         "showlegend": true,
         "type": "scatter",
         "x": [
          537,
          443,
          338,
          315,
          320,
          87,
          356,
          557,
          430,
          32,
          461,
          2,
          304,
          379,
          105,
          274,
          422,
          928,
          96,
          32,
          771,
          1421,
          128,
          216,
          710,
          1130,
          1070,
          201,
          169,
          1413,
          686,
          1001,
          219,
          66,
          153,
          50,
          35,
          470,
          802,
          552,
          841,
          137,
          1156,
          646,
          44,
          1082,
          946,
          138,
          638,
          1163,
          678,
          485,
          4,
          419,
          20,
          93,
          432,
          327,
          1236,
          566,
          265,
          106,
          88,
          18,
          27,
          785,
          299,
          486,
          485,
          744,
          6,
          426,
          656,
          27,
          606,
          386,
          246,
          202,
          44,
          717,
          294,
          233,
          61,
          8,
          307,
          196,
          520,
          586,
          656,
          791,
          428,
          14,
          0,
          963,
          255,
          1428,
          564,
          98,
          472,
          833
         ],
         "xaxis": "x",
         "y": [
          70,
          68,
          61,
          63,
          60,
          49,
          63,
          76,
          29,
          16,
          70,
          3,
          64,
          63,
          25,
          38,
          67,
          44,
          36,
          12,
          75,
          59,
          32,
          59,
          73,
          82,
          77,
          46,
          48,
          81,
          82,
          82,
          41,
          24,
          17,
          29,
          22,
          67,
          76,
          73,
          70,
          46,
          76,
          41,
          16,
          65,
          82,
          44,
          74,
          75,
          49,
          26,
          5,
          81,
          16,
          24,
          69,
          55,
          72,
          59,
          61,
          23,
          17,
          6,
          23,
          81,
          35,
          46,
          67,
          75,
          6,
          62,
          64,
          6,
          73,
          31,
          68,
          51,
          17,
          82,
          73,
          54,
          19,
          5,
          67,
          27,
          79,
          73,
          82,
          76,
          52,
          17,
          2,
          80,
          26,
          74,
          48,
          37,
          62,
          82
         ],
         "yaxis": "y"
        },
        {
         "hovertemplate": "Position=SF<br>Total Points Scored=%{x}<br>Number of Games Played=%{y}<extra></extra>",
         "legendgroup": "SF",
         "marker": {
          "color": "#ab63fa",
          "symbol": "circle"
         },
         "mode": "markers",
         "name": "SF",
         "orientation": "v",
         "showlegend": true,
         "type": "scatter",
         "x": [
          412,
          74,
          966,
          1048,
          256,
          827,
          764,
          664,
          700,
          917,
          251,
          666,
          457,
          69,
          65,
          4,
          460,
          580,
          10,
          883,
          593,
          1085,
          24,
          309,
          943,
          628,
          89,
          539,
          105,
          11,
          94,
          129,
          103,
          26,
          1007,
          595,
          686,
          210,
          312,
          90,
          46,
          734,
          45,
          1432,
          241,
          190,
          51,
          53,
          188,
          411,
          1168,
          580,
          588,
          38,
          158,
          1164,
          1463,
          20,
          729,
          198,
          604,
          396,
          1743,
          432,
          166,
          54,
          81,
          31,
          753,
          21,
          250,
          184,
          598,
          3,
          1057,
          276,
          36,
          109,
          1055,
          2,
          109,
          48,
          182,
          1037,
          868,
          404,
          445,
          434,
          190,
          76,
          168,
          44,
          807,
          323,
          42,
          386,
          278,
          480,
          385,
          95,
          435,
          127,
          113,
          713,
          232,
          175,
          35,
          245,
          199,
          106,
          1387,
          37,
          341,
          292,
          49,
          219
         ],
         "xaxis": "x",
         "y": [
          74,
          33,
          40,
          82,
          63,
          82,
          76,
          71,
          78,
          80,
          24,
          56,
          67,
          36,
          25,
          11,
          78,
          75,
          8,
          70,
          67,
          78,
          10,
          50,
          70,
          82,
          25,
          57,
          21,
          3,
          18,
          34,
          26,
          8,
          72,
          63,
          27,
          39,
          62,
          38,
          26,
          59,
          14,
          68,
          54,
          39,
          15,
          6,
          30,
          65,
          78,
          33,
          45,
          14,
          45,
          68,
          76,
          9,
          82,
          45,
          77,
          79,
          69,
          74,
          29,
          9,
          12,
          8,
          76,
          33,
          57,
          43,
          55,
          7,
          64,
          57,
          23,
          36,
          79,
          5,
          52,
          22,
          43,
          66,
          73,
          45,
          74,
          58,
          26,
          9,
          23,
          10,
          82,
          68,
          21,
          74,
          52,
          80,
          54,
          26,
          72,
          29,
          22,
          78,
          62,
          24,
          32,
          40,
          51,
          32,
          82,
          20,
          63,
          44,
          19,
          48
         ],
         "yaxis": "y"
        },
        {
         "hovertemplate": "Position=PG<br>Total Points Scored=%{x}<br>Number of Games Played=%{y}<extra></extra>",
         "legendgroup": "PG",
         "marker": {
          "color": "#FFA15A",
          "symbol": "circle"
         },
         "mode": "markers",
         "name": "PG",
         "orientation": "v",
         "showlegend": true,
         "type": "scatter",
         "x": [
          777,
          574,
          203,
          580,
          598,
          568,
          350,
          1377,
          954,
          122,
          973,
          52,
          382,
          432,
          154,
          278,
          966,
          613,
          353,
          813,
          15,
          703,
          573,
          295,
          278,
          725,
          1107,
          80,
          0,
          1900,
          145,
          432,
          46,
          121,
          22,
          99,
          393,
          167,
          108,
          57,
          34,
          23,
          178,
          533,
          146,
          53,
          16,
          37,
          665,
          692,
          592,
          1628,
          957,
          1117,
          641,
          476,
          632,
          535,
          923,
          470,
          778,
          1143,
          1720,
          832,
          461,
          1244,
          0,
          98,
          299,
          118,
          503,
          9,
          6,
          355,
          183,
          172,
          351,
          83,
          0,
          261,
          523,
          167,
          29,
          327,
          41,
          976,
          1564,
          731,
          177,
          133,
          105,
          22,
          6,
          221,
          274,
          201,
          73,
          188,
          291,
          480,
          238,
          192,
          46,
          608,
          182,
          426,
          904,
          226,
          768,
          402,
          196,
          206,
          391,
          523,
          338,
          37,
          301,
          30,
          5,
          25,
          8,
          896,
          1162,
          134,
          1101,
          701,
          400,
          605,
          775,
          1075,
          1387,
          570,
          1886,
          884,
          964,
          499,
          465,
          42,
          25,
          17,
          507
         ],
         "xaxis": "x",
         "y": [
          82,
          54,
          28,
          77,
          77,
          56,
          81,
          81,
          82,
          29,
          76,
          6,
          42,
          47,
          25,
          22,
          66,
          41,
          25,
          80,
          8,
          59,
          75,
          47,
          28,
          45,
          70,
          15,
          2,
          80,
          34,
          26,
          12,
          33,
          8,
          25,
          82,
          36,
          29,
          11,
          6,
          5,
          50,
          45,
          43,
          20,
          10,
          10,
          76,
          43,
          40,
          75,
          80,
          77,
          50,
          27,
          41,
          79,
          52,
          76,
          77,
          75,
          82,
          74,
          78,
          70,
          1,
          21,
          55,
          28,
          68,
          6,
          4,
          81,
          51,
          30,
          51,
          38,
          1,
          51,
          63,
          23,
          6,
          34,
          9,
          68,
          82,
          82,
          50,
          26,
          10,
          11,
          5,
          43,
          67,
          43,
          24,
          47,
          41,
          72,
          42,
          33,
          9,
          68,
          22,
          46,
          51,
          22,
          77,
          64,
          36,
          28,
          53,
          67,
          55,
          30,
          25,
          12,
          6,
          6,
          3,
          71,
          73,
          16,
          67,
          46,
          21,
          79,
          82,
          62,
          79,
          57,
          67,
          68,
          68,
          41,
          27,
          21,
          11,
          10,
          30
         ],
         "yaxis": "y"
        },
        {
         "hovertemplate": "Position=SG-PG<br>Total Points Scored=%{x}<br>Number of Games Played=%{y}<extra></extra>",
         "legendgroup": "SG-PG",
         "marker": {
          "color": "#19d3f3",
          "symbol": "circle"
         },
         "mode": "markers",
         "name": "SG-PG",
         "orientation": "v",
         "showlegend": true,
         "type": "scatter",
         "x": [
          1275,
          6
         ],
         "xaxis": "x",
         "y": [
          78,
          5
         ],
         "yaxis": "y"
        },
        {
         "hovertemplate": "Position=PG-SG<br>Total Points Scored=%{x}<br>Number of Games Played=%{y}<extra></extra>",
         "legendgroup": "PG-SG",
         "marker": {
          "color": "#FF6692",
          "symbol": "circle"
         },
         "mode": "markers",
         "name": "PG-SG",
         "orientation": "v",
         "showlegend": true,
         "type": "scatter",
         "x": [
          1070,
          530
         ],
         "xaxis": "x",
         "y": [
          63,
          76
         ],
         "yaxis": "y"
        },
        {
         "hovertemplate": "Position=SF-PF<br>Total Points Scored=%{x}<br>Number of Games Played=%{y}<extra></extra>",
         "legendgroup": "SF-PF",
         "marker": {
          "color": "#B6E880",
          "symbol": "circle"
         },
         "mode": "markers",
         "name": "SF-PF",
         "orientation": "v",
         "showlegend": true,
         "type": "scatter",
         "x": [
          63
         ],
         "xaxis": "x",
         "y": [
          35
         ],
         "yaxis": "y"
        },
        {
         "hovertemplate": "Position=SF-SG<br>Total Points Scored=%{x}<br>Number of Games Played=%{y}<extra></extra>",
         "legendgroup": "SF-SG",
         "marker": {
          "color": "#FF97FF",
          "symbol": "circle"
         },
         "mode": "markers",
         "name": "SF-SG",
         "orientation": "v",
         "showlegend": true,
         "type": "scatter",
         "x": [
          538
         ],
         "xaxis": "x",
         "y": [
          75
         ],
         "yaxis": "y"
        },
        {
         "hovertemplate": "Position=SG-SF<br>Total Points Scored=%{x}<br>Number of Games Played=%{y}<extra></extra>",
         "legendgroup": "SG-SF",
         "marker": {
          "color": "#FECB52",
          "symbol": "circle"
         },
         "mode": "markers",
         "name": "SG-SF",
         "orientation": "v",
         "showlegend": true,
         "type": "scatter",
         "x": [
          73
         ],
         "xaxis": "x",
         "y": [
          35
         ],
         "yaxis": "y"
        },
        {
         "hovertemplate": "Position=PF-SF<br>Total Points Scored=%{x}<br>Number of Games Played=%{y}<extra></extra>",
         "legendgroup": "PF-SF",
         "marker": {
          "color": "#636efa",
          "symbol": "circle"
         },
         "mode": "markers",
         "name": "PF-SF",
         "orientation": "v",
         "showlegend": true,
         "type": "scatter",
         "x": [
          443
         ],
         "xaxis": "x",
         "y": [
          62
         ],
         "yaxis": "y"
        }
       ],
       "layout": {
        "legend": {
         "title": {
          "text": "Position"
         },
         "tracegroupgap": 0
        },
        "template": {
         "data": {
          "bar": [
           {
            "error_x": {
             "color": "#2a3f5f"
            },
            "error_y": {
             "color": "#2a3f5f"
            },
            "marker": {
             "line": {
              "color": "#E5ECF6",
              "width": 0.5
             },
             "pattern": {
              "fillmode": "overlay",
              "size": 10,
              "solidity": 0.2
             }
            },
            "type": "bar"
           }
          ],
          "barpolar": [
           {
            "marker": {
             "line": {
              "color": "#E5ECF6",
              "width": 0.5
             },
             "pattern": {
              "fillmode": "overlay",
              "size": 10,
              "solidity": 0.2
             }
            },
            "type": "barpolar"
           }
          ],
          "carpet": [
           {
            "aaxis": {
             "endlinecolor": "#2a3f5f",
             "gridcolor": "white",
             "linecolor": "white",
             "minorgridcolor": "white",
             "startlinecolor": "#2a3f5f"
            },
            "baxis": {
             "endlinecolor": "#2a3f5f",
             "gridcolor": "white",
             "linecolor": "white",
             "minorgridcolor": "white",
             "startlinecolor": "#2a3f5f"
            },
            "type": "carpet"
           }
          ],
          "choropleth": [
           {
            "colorbar": {
             "outlinewidth": 0,
             "ticks": ""
            },
            "type": "choropleth"
           }
          ],
          "contour": [
           {
            "colorbar": {
             "outlinewidth": 0,
             "ticks": ""
            },
            "colorscale": [
             [
              0,
              "#0d0887"
             ],
             [
              0.1111111111111111,
              "#46039f"
             ],
             [
              0.2222222222222222,
              "#7201a8"
             ],
             [
              0.3333333333333333,
              "#9c179e"
             ],
             [
              0.4444444444444444,
              "#bd3786"
             ],
             [
              0.5555555555555556,
              "#d8576b"
             ],
             [
              0.6666666666666666,
              "#ed7953"
             ],
             [
              0.7777777777777778,
              "#fb9f3a"
             ],
             [
              0.8888888888888888,
              "#fdca26"
             ],
             [
              1,
              "#f0f921"
             ]
            ],
            "type": "contour"
           }
          ],
          "contourcarpet": [
           {
            "colorbar": {
             "outlinewidth": 0,
             "ticks": ""
            },
            "type": "contourcarpet"
           }
          ],
          "heatmap": [
           {
            "colorbar": {
             "outlinewidth": 0,
             "ticks": ""
            },
            "colorscale": [
             [
              0,
              "#0d0887"
             ],
             [
              0.1111111111111111,
              "#46039f"
             ],
             [
              0.2222222222222222,
              "#7201a8"
             ],
             [
              0.3333333333333333,
              "#9c179e"
             ],
             [
              0.4444444444444444,
              "#bd3786"
             ],
             [
              0.5555555555555556,
              "#d8576b"
             ],
             [
              0.6666666666666666,
              "#ed7953"
             ],
             [
              0.7777777777777778,
              "#fb9f3a"
             ],
             [
              0.8888888888888888,
              "#fdca26"
             ],
             [
              1,
              "#f0f921"
             ]
            ],
            "type": "heatmap"
           }
          ],
          "heatmapgl": [
           {
            "colorbar": {
             "outlinewidth": 0,
             "ticks": ""
            },
            "colorscale": [
             [
              0,
              "#0d0887"
             ],
             [
              0.1111111111111111,
              "#46039f"
             ],
             [
              0.2222222222222222,
              "#7201a8"
             ],
             [
              0.3333333333333333,
              "#9c179e"
             ],
             [
              0.4444444444444444,
              "#bd3786"
             ],
             [
              0.5555555555555556,
              "#d8576b"
             ],
             [
              0.6666666666666666,
              "#ed7953"
             ],
             [
              0.7777777777777778,
              "#fb9f3a"
             ],
             [
              0.8888888888888888,
              "#fdca26"
             ],
             [
              1,
              "#f0f921"
             ]
            ],
            "type": "heatmapgl"
           }
          ],
          "histogram": [
           {
            "marker": {
             "pattern": {
              "fillmode": "overlay",
              "size": 10,
              "solidity": 0.2
             }
            },
            "type": "histogram"
           }
          ],
          "histogram2d": [
           {
            "colorbar": {
             "outlinewidth": 0,
             "ticks": ""
            },
            "colorscale": [
             [
              0,
              "#0d0887"
             ],
             [
              0.1111111111111111,
              "#46039f"
             ],
             [
              0.2222222222222222,
              "#7201a8"
             ],
             [
              0.3333333333333333,
              "#9c179e"
             ],
             [
              0.4444444444444444,
              "#bd3786"
             ],
             [
              0.5555555555555556,
              "#d8576b"
             ],
             [
              0.6666666666666666,
              "#ed7953"
             ],
             [
              0.7777777777777778,
              "#fb9f3a"
             ],
             [
              0.8888888888888888,
              "#fdca26"
             ],
             [
              1,
              "#f0f921"
             ]
            ],
            "type": "histogram2d"
           }
          ],
          "histogram2dcontour": [
           {
            "colorbar": {
             "outlinewidth": 0,
             "ticks": ""
            },
            "colorscale": [
             [
              0,
              "#0d0887"
             ],
             [
              0.1111111111111111,
              "#46039f"
             ],
             [
              0.2222222222222222,
              "#7201a8"
             ],
             [
              0.3333333333333333,
              "#9c179e"
             ],
             [
              0.4444444444444444,
              "#bd3786"
             ],
             [
              0.5555555555555556,
              "#d8576b"
             ],
             [
              0.6666666666666666,
              "#ed7953"
             ],
             [
              0.7777777777777778,
              "#fb9f3a"
             ],
             [
              0.8888888888888888,
              "#fdca26"
             ],
             [
              1,
              "#f0f921"
             ]
            ],
            "type": "histogram2dcontour"
           }
          ],
          "mesh3d": [
           {
            "colorbar": {
             "outlinewidth": 0,
             "ticks": ""
            },
            "type": "mesh3d"
           }
          ],
          "parcoords": [
           {
            "line": {
             "colorbar": {
              "outlinewidth": 0,
              "ticks": ""
             }
            },
            "type": "parcoords"
           }
          ],
          "pie": [
           {
            "automargin": true,
            "type": "pie"
           }
          ],
          "scatter": [
           {
            "fillpattern": {
             "fillmode": "overlay",
             "size": 10,
             "solidity": 0.2
            },
            "type": "scatter"
           }
          ],
          "scatter3d": [
           {
            "line": {
             "colorbar": {
              "outlinewidth": 0,
              "ticks": ""
             }
            },
            "marker": {
             "colorbar": {
              "outlinewidth": 0,
              "ticks": ""
             }
            },
            "type": "scatter3d"
           }
          ],
          "scattercarpet": [
           {
            "marker": {
             "colorbar": {
              "outlinewidth": 0,
              "ticks": ""
             }
            },
            "type": "scattercarpet"
           }
          ],
          "scattergeo": [
           {
            "marker": {
             "colorbar": {
              "outlinewidth": 0,
              "ticks": ""
             }
            },
            "type": "scattergeo"
           }
          ],
          "scattergl": [
           {
            "marker": {
             "colorbar": {
              "outlinewidth": 0,
              "ticks": ""
             }
            },
            "type": "scattergl"
           }
          ],
          "scattermapbox": [
           {
            "marker": {
             "colorbar": {
              "outlinewidth": 0,
              "ticks": ""
             }
            },
            "type": "scattermapbox"
           }
          ],
          "scatterpolar": [
           {
            "marker": {
             "colorbar": {
              "outlinewidth": 0,
              "ticks": ""
             }
            },
            "type": "scatterpolar"
           }
          ],
          "scatterpolargl": [
           {
            "marker": {
             "colorbar": {
              "outlinewidth": 0,
              "ticks": ""
             }
            },
            "type": "scatterpolargl"
           }
          ],
          "scatterternary": [
           {
            "marker": {
             "colorbar": {
              "outlinewidth": 0,
              "ticks": ""
             }
            },
            "type": "scatterternary"
           }
          ],
          "surface": [
           {
            "colorbar": {
             "outlinewidth": 0,
             "ticks": ""
            },
            "colorscale": [
             [
              0,
              "#0d0887"
             ],
             [
              0.1111111111111111,
              "#46039f"
             ],
             [
              0.2222222222222222,
              "#7201a8"
             ],
             [
              0.3333333333333333,
              "#9c179e"
             ],
             [
              0.4444444444444444,
              "#bd3786"
             ],
             [
              0.5555555555555556,
              "#d8576b"
             ],
             [
              0.6666666666666666,
              "#ed7953"
             ],
             [
              0.7777777777777778,
              "#fb9f3a"
             ],
             [
              0.8888888888888888,
              "#fdca26"
             ],
             [
              1,
              "#f0f921"
             ]
            ],
            "type": "surface"
           }
          ],
          "table": [
           {
            "cells": {
             "fill": {
              "color": "#EBF0F8"
             },
             "line": {
              "color": "white"
             }
            },
            "header": {
             "fill": {
              "color": "#C8D4E3"
             },
             "line": {
              "color": "white"
             }
            },
            "type": "table"
           }
          ]
         },
         "layout": {
          "annotationdefaults": {
           "arrowcolor": "#2a3f5f",
           "arrowhead": 0,
           "arrowwidth": 1
          },
          "autotypenumbers": "strict",
          "coloraxis": {
           "colorbar": {
            "outlinewidth": 0,
            "ticks": ""
           }
          },
          "colorscale": {
           "diverging": [
            [
             0,
             "#8e0152"
            ],
            [
             0.1,
             "#c51b7d"
            ],
            [
             0.2,
             "#de77ae"
            ],
            [
             0.3,
             "#f1b6da"
            ],
            [
             0.4,
             "#fde0ef"
            ],
            [
             0.5,
             "#f7f7f7"
            ],
            [
             0.6,
             "#e6f5d0"
            ],
            [
             0.7,
             "#b8e186"
            ],
            [
             0.8,
             "#7fbc41"
            ],
            [
             0.9,
             "#4d9221"
            ],
            [
             1,
             "#276419"
            ]
           ],
           "sequential": [
            [
             0,
             "#0d0887"
            ],
            [
             0.1111111111111111,
             "#46039f"
            ],
            [
             0.2222222222222222,
             "#7201a8"
            ],
            [
             0.3333333333333333,
             "#9c179e"
            ],
            [
             0.4444444444444444,
             "#bd3786"
            ],
            [
             0.5555555555555556,
             "#d8576b"
            ],
            [
             0.6666666666666666,
             "#ed7953"
            ],
            [
             0.7777777777777778,
             "#fb9f3a"
            ],
            [
             0.8888888888888888,
             "#fdca26"
            ],
            [
             1,
             "#f0f921"
            ]
           ],
           "sequentialminus": [
            [
             0,
             "#0d0887"
            ],
            [
             0.1111111111111111,
             "#46039f"
            ],
            [
             0.2222222222222222,
             "#7201a8"
            ],
            [
             0.3333333333333333,
             "#9c179e"
            ],
            [
             0.4444444444444444,
             "#bd3786"
            ],
            [
             0.5555555555555556,
             "#d8576b"
            ],
            [
             0.6666666666666666,
             "#ed7953"
            ],
            [
             0.7777777777777778,
             "#fb9f3a"
            ],
            [
             0.8888888888888888,
             "#fdca26"
            ],
            [
             1,
             "#f0f921"
            ]
           ]
          },
          "colorway": [
           "#636efa",
           "#EF553B",
           "#00cc96",
           "#ab63fa",
           "#FFA15A",
           "#19d3f3",
           "#FF6692",
           "#B6E880",
           "#FF97FF",
           "#FECB52"
          ],
          "font": {
           "color": "#2a3f5f"
          },
          "geo": {
           "bgcolor": "white",
           "lakecolor": "white",
           "landcolor": "#E5ECF6",
           "showlakes": true,
           "showland": true,
           "subunitcolor": "white"
          },
          "hoverlabel": {
           "align": "left"
          },
          "hovermode": "closest",
          "mapbox": {
           "style": "light"
          },
          "paper_bgcolor": "white",
          "plot_bgcolor": "#E5ECF6",
          "polar": {
           "angularaxis": {
            "gridcolor": "white",
            "linecolor": "white",
            "ticks": ""
           },
           "bgcolor": "#E5ECF6",
           "radialaxis": {
            "gridcolor": "white",
            "linecolor": "white",
            "ticks": ""
           }
          },
          "scene": {
           "xaxis": {
            "backgroundcolor": "#E5ECF6",
            "gridcolor": "white",
            "gridwidth": 2,
            "linecolor": "white",
            "showbackground": true,
            "ticks": "",
            "zerolinecolor": "white"
           },
           "yaxis": {
            "backgroundcolor": "#E5ECF6",
            "gridcolor": "white",
            "gridwidth": 2,
            "linecolor": "white",
            "showbackground": true,
            "ticks": "",
            "zerolinecolor": "white"
           },
           "zaxis": {
            "backgroundcolor": "#E5ECF6",
            "gridcolor": "white",
            "gridwidth": 2,
            "linecolor": "white",
            "showbackground": true,
            "ticks": "",
            "zerolinecolor": "white"
           }
          },
          "shapedefaults": {
           "line": {
            "color": "#2a3f5f"
           }
          },
          "ternary": {
           "aaxis": {
            "gridcolor": "white",
            "linecolor": "white",
            "ticks": ""
           },
           "baxis": {
            "gridcolor": "white",
            "linecolor": "white",
            "ticks": ""
           },
           "bgcolor": "#E5ECF6",
           "caxis": {
            "gridcolor": "white",
            "linecolor": "white",
            "ticks": ""
           }
          },
          "title": {
           "x": 0.05
          },
          "xaxis": {
           "automargin": true,
           "gridcolor": "white",
           "linecolor": "white",
           "ticks": "",
           "title": {
            "standoff": 15
           },
           "zerolinecolor": "white",
           "zerolinewidth": 2
          },
          "yaxis": {
           "automargin": true,
           "gridcolor": "white",
           "linecolor": "white",
           "ticks": "",
           "title": {
            "standoff": 15
           },
           "zerolinecolor": "white",
           "zerolinewidth": 2
          }
         }
        },
        "title": {
         "text": "Total Points Scored by Players 2015"
        },
        "xaxis": {
         "anchor": "y",
         "domain": [
          0,
          1
         ],
         "title": {
          "text": "Total Points Scored"
         }
        },
        "yaxis": {
         "anchor": "x",
         "domain": [
          0,
          1
         ],
         "title": {
          "text": "Number of Games Played"
         }
        }
       }
      }
     },
     "metadata": {},
     "output_type": "display_data"
    }
   ],
   "source": [
    "fig3 = px.scatter(_2015seasons_df, x=\"PTS\", y=\"G\", color='Pos', size_max=25, \n",
    "                    title=\"Total Points Scored by Players 2015\", \n",
    "                    labels= {\n",
    "                        \"Pos\" : \"Position\", \"G\" : \"Number of Games Played\", \"PTS\": \"Total Points Scored\"\n",
    "                    })\n",
    "fig3.show()"
   ]
  },
  {
   "cell_type": "code",
   "execution_count": 29,
   "metadata": {},
   "outputs": [],
   "source": [
    "#write the figure to images folder\n",
    "\n",
    "fig3.write_image(\"images/2015points.jpeg\")"
   ]
  },
  {
   "cell_type": "code",
   "execution_count": 30,
   "metadata": {},
   "outputs": [
    {
     "data": {
      "text/html": [
       "<div>\n",
       "<style scoped>\n",
       "    .dataframe tbody tr th:only-of-type {\n",
       "        vertical-align: middle;\n",
       "    }\n",
       "\n",
       "    .dataframe tbody tr th {\n",
       "        vertical-align: top;\n",
       "    }\n",
       "\n",
       "    .dataframe thead th {\n",
       "        text-align: right;\n",
       "    }\n",
       "</style>\n",
       "<table border=\"1\" class=\"dataframe\">\n",
       "  <thead>\n",
       "    <tr style=\"text-align: right;\">\n",
       "      <th></th>\n",
       "      <th>Unnamed: 0</th>\n",
       "      <th>Year</th>\n",
       "      <th>Age</th>\n",
       "      <th>G</th>\n",
       "      <th>GS</th>\n",
       "      <th>MP</th>\n",
       "      <th>PER</th>\n",
       "      <th>TS%</th>\n",
       "      <th>3PAr</th>\n",
       "      <th>FTr</th>\n",
       "      <th>...</th>\n",
       "      <th>FT%</th>\n",
       "      <th>ORB</th>\n",
       "      <th>DRB</th>\n",
       "      <th>TRB</th>\n",
       "      <th>AST</th>\n",
       "      <th>STL</th>\n",
       "      <th>BLK</th>\n",
       "      <th>TOV</th>\n",
       "      <th>PF</th>\n",
       "      <th>PTS</th>\n",
       "    </tr>\n",
       "  </thead>\n",
       "  <tbody>\n",
       "    <tr>\n",
       "      <th>count</th>\n",
       "      <td>24691.000000</td>\n",
       "      <td>24624.000000</td>\n",
       "      <td>24616.000000</td>\n",
       "      <td>24624.000000</td>\n",
       "      <td>18233.000000</td>\n",
       "      <td>24138.000000</td>\n",
       "      <td>24101.000000</td>\n",
       "      <td>24538.000000</td>\n",
       "      <td>18839.000000</td>\n",
       "      <td>24525.000000</td>\n",
       "      <td>...</td>\n",
       "      <td>23766.000000</td>\n",
       "      <td>20797.000000</td>\n",
       "      <td>20797.000000</td>\n",
       "      <td>24312.000000</td>\n",
       "      <td>24624.000000</td>\n",
       "      <td>20797.000000</td>\n",
       "      <td>20797.000000</td>\n",
       "      <td>19645.000000</td>\n",
       "      <td>24624.000000</td>\n",
       "      <td>24624.000000</td>\n",
       "    </tr>\n",
       "    <tr>\n",
       "      <th>mean</th>\n",
       "      <td>12345.000000</td>\n",
       "      <td>1992.594989</td>\n",
       "      <td>26.664405</td>\n",
       "      <td>50.837110</td>\n",
       "      <td>23.593375</td>\n",
       "      <td>1209.720317</td>\n",
       "      <td>12.479071</td>\n",
       "      <td>0.493001</td>\n",
       "      <td>0.158604</td>\n",
       "      <td>0.325455</td>\n",
       "      <td>...</td>\n",
       "      <td>0.719279</td>\n",
       "      <td>62.189210</td>\n",
       "      <td>147.199404</td>\n",
       "      <td>224.637381</td>\n",
       "      <td>114.852623</td>\n",
       "      <td>39.897052</td>\n",
       "      <td>24.470260</td>\n",
       "      <td>73.939832</td>\n",
       "      <td>116.339222</td>\n",
       "      <td>510.116350</td>\n",
       "    </tr>\n",
       "    <tr>\n",
       "      <th>std</th>\n",
       "      <td>7127.822084</td>\n",
       "      <td>17.429594</td>\n",
       "      <td>3.841892</td>\n",
       "      <td>26.496161</td>\n",
       "      <td>28.632387</td>\n",
       "      <td>941.146575</td>\n",
       "      <td>6.039014</td>\n",
       "      <td>0.094469</td>\n",
       "      <td>0.187495</td>\n",
       "      <td>0.218971</td>\n",
       "      <td>...</td>\n",
       "      <td>0.141824</td>\n",
       "      <td>67.324881</td>\n",
       "      <td>145.921912</td>\n",
       "      <td>228.190203</td>\n",
       "      <td>135.863913</td>\n",
       "      <td>38.713053</td>\n",
       "      <td>36.935084</td>\n",
       "      <td>67.713803</td>\n",
       "      <td>84.791873</td>\n",
       "      <td>492.922981</td>\n",
       "    </tr>\n",
       "    <tr>\n",
       "      <th>min</th>\n",
       "      <td>0.000000</td>\n",
       "      <td>1950.000000</td>\n",
       "      <td>18.000000</td>\n",
       "      <td>1.000000</td>\n",
       "      <td>0.000000</td>\n",
       "      <td>0.000000</td>\n",
       "      <td>-90.600000</td>\n",
       "      <td>0.000000</td>\n",
       "      <td>0.000000</td>\n",
       "      <td>0.000000</td>\n",
       "      <td>...</td>\n",
       "      <td>0.000000</td>\n",
       "      <td>0.000000</td>\n",
       "      <td>0.000000</td>\n",
       "      <td>0.000000</td>\n",
       "      <td>0.000000</td>\n",
       "      <td>0.000000</td>\n",
       "      <td>0.000000</td>\n",
       "      <td>0.000000</td>\n",
       "      <td>0.000000</td>\n",
       "      <td>0.000000</td>\n",
       "    </tr>\n",
       "    <tr>\n",
       "      <th>25%</th>\n",
       "      <td>6172.500000</td>\n",
       "      <td>1981.000000</td>\n",
       "      <td>24.000000</td>\n",
       "      <td>27.000000</td>\n",
       "      <td>0.000000</td>\n",
       "      <td>340.000000</td>\n",
       "      <td>9.800000</td>\n",
       "      <td>0.458000</td>\n",
       "      <td>0.005000</td>\n",
       "      <td>0.208000</td>\n",
       "      <td>...</td>\n",
       "      <td>0.657000</td>\n",
       "      <td>12.000000</td>\n",
       "      <td>33.000000</td>\n",
       "      <td>51.000000</td>\n",
       "      <td>19.000000</td>\n",
       "      <td>9.000000</td>\n",
       "      <td>3.000000</td>\n",
       "      <td>18.000000</td>\n",
       "      <td>39.000000</td>\n",
       "      <td>106.000000</td>\n",
       "    </tr>\n",
       "    <tr>\n",
       "      <th>50%</th>\n",
       "      <td>12345.000000</td>\n",
       "      <td>1996.000000</td>\n",
       "      <td>26.000000</td>\n",
       "      <td>58.000000</td>\n",
       "      <td>8.000000</td>\n",
       "      <td>1053.000000</td>\n",
       "      <td>12.700000</td>\n",
       "      <td>0.506000</td>\n",
       "      <td>0.064000</td>\n",
       "      <td>0.296000</td>\n",
       "      <td>...</td>\n",
       "      <td>0.743000</td>\n",
       "      <td>38.000000</td>\n",
       "      <td>106.000000</td>\n",
       "      <td>159.000000</td>\n",
       "      <td>68.000000</td>\n",
       "      <td>29.000000</td>\n",
       "      <td>11.000000</td>\n",
       "      <td>55.000000</td>\n",
       "      <td>109.000000</td>\n",
       "      <td>364.000000</td>\n",
       "    </tr>\n",
       "    <tr>\n",
       "      <th>75%</th>\n",
       "      <td>18517.500000</td>\n",
       "      <td>2007.000000</td>\n",
       "      <td>29.000000</td>\n",
       "      <td>75.000000</td>\n",
       "      <td>45.000000</td>\n",
       "      <td>1971.000000</td>\n",
       "      <td>15.600000</td>\n",
       "      <td>0.544000</td>\n",
       "      <td>0.288000</td>\n",
       "      <td>0.400000</td>\n",
       "      <td>...</td>\n",
       "      <td>0.808000</td>\n",
       "      <td>91.000000</td>\n",
       "      <td>212.000000</td>\n",
       "      <td>322.000000</td>\n",
       "      <td>160.000000</td>\n",
       "      <td>60.000000</td>\n",
       "      <td>29.000000</td>\n",
       "      <td>112.000000</td>\n",
       "      <td>182.000000</td>\n",
       "      <td>778.000000</td>\n",
       "    </tr>\n",
       "    <tr>\n",
       "      <th>max</th>\n",
       "      <td>24690.000000</td>\n",
       "      <td>2017.000000</td>\n",
       "      <td>44.000000</td>\n",
       "      <td>88.000000</td>\n",
       "      <td>83.000000</td>\n",
       "      <td>3882.000000</td>\n",
       "      <td>129.100000</td>\n",
       "      <td>1.136000</td>\n",
       "      <td>1.000000</td>\n",
       "      <td>6.000000</td>\n",
       "      <td>...</td>\n",
       "      <td>1.000000</td>\n",
       "      <td>587.000000</td>\n",
       "      <td>1111.000000</td>\n",
       "      <td>2149.000000</td>\n",
       "      <td>1164.000000</td>\n",
       "      <td>301.000000</td>\n",
       "      <td>456.000000</td>\n",
       "      <td>464.000000</td>\n",
       "      <td>386.000000</td>\n",
       "      <td>4029.000000</td>\n",
       "    </tr>\n",
       "  </tbody>\n",
       "</table>\n",
       "<p>8 rows × 50 columns</p>\n",
       "</div>"
      ],
      "text/plain": [
       "         Unnamed: 0          Year           Age             G            GS  \\\n",
       "count  24691.000000  24624.000000  24616.000000  24624.000000  18233.000000   \n",
       "mean   12345.000000   1992.594989     26.664405     50.837110     23.593375   \n",
       "std     7127.822084     17.429594      3.841892     26.496161     28.632387   \n",
       "min        0.000000   1950.000000     18.000000      1.000000      0.000000   \n",
       "25%     6172.500000   1981.000000     24.000000     27.000000      0.000000   \n",
       "50%    12345.000000   1996.000000     26.000000     58.000000      8.000000   \n",
       "75%    18517.500000   2007.000000     29.000000     75.000000     45.000000   \n",
       "max    24690.000000   2017.000000     44.000000     88.000000     83.000000   \n",
       "\n",
       "                 MP           PER           TS%          3PAr           FTr  \\\n",
       "count  24138.000000  24101.000000  24538.000000  18839.000000  24525.000000   \n",
       "mean    1209.720317     12.479071      0.493001      0.158604      0.325455   \n",
       "std      941.146575      6.039014      0.094469      0.187495      0.218971   \n",
       "min        0.000000    -90.600000      0.000000      0.000000      0.000000   \n",
       "25%      340.000000      9.800000      0.458000      0.005000      0.208000   \n",
       "50%     1053.000000     12.700000      0.506000      0.064000      0.296000   \n",
       "75%     1971.000000     15.600000      0.544000      0.288000      0.400000   \n",
       "max     3882.000000    129.100000      1.136000      1.000000      6.000000   \n",
       "\n",
       "       ...           FT%           ORB           DRB           TRB  \\\n",
       "count  ...  23766.000000  20797.000000  20797.000000  24312.000000   \n",
       "mean   ...      0.719279     62.189210    147.199404    224.637381   \n",
       "std    ...      0.141824     67.324881    145.921912    228.190203   \n",
       "min    ...      0.000000      0.000000      0.000000      0.000000   \n",
       "25%    ...      0.657000     12.000000     33.000000     51.000000   \n",
       "50%    ...      0.743000     38.000000    106.000000    159.000000   \n",
       "75%    ...      0.808000     91.000000    212.000000    322.000000   \n",
       "max    ...      1.000000    587.000000   1111.000000   2149.000000   \n",
       "\n",
       "                AST           STL           BLK           TOV            PF  \\\n",
       "count  24624.000000  20797.000000  20797.000000  19645.000000  24624.000000   \n",
       "mean     114.852623     39.897052     24.470260     73.939832    116.339222   \n",
       "std      135.863913     38.713053     36.935084     67.713803     84.791873   \n",
       "min        0.000000      0.000000      0.000000      0.000000      0.000000   \n",
       "25%       19.000000      9.000000      3.000000     18.000000     39.000000   \n",
       "50%       68.000000     29.000000     11.000000     55.000000    109.000000   \n",
       "75%      160.000000     60.000000     29.000000    112.000000    182.000000   \n",
       "max     1164.000000    301.000000    456.000000    464.000000    386.000000   \n",
       "\n",
       "                PTS  \n",
       "count  24624.000000  \n",
       "mean     510.116350  \n",
       "std      492.922981  \n",
       "min        0.000000  \n",
       "25%      106.000000  \n",
       "50%      364.000000  \n",
       "75%      778.000000  \n",
       "max     4029.000000  \n",
       "\n",
       "[8 rows x 50 columns]"
      ]
     },
     "execution_count": 30,
     "metadata": {},
     "output_type": "execute_result"
    }
   ],
   "source": [
    "seasons_df.describe()"
   ]
  },
  {
   "cell_type": "code",
   "execution_count": 31,
   "metadata": {},
   "outputs": [
    {
     "data": {
      "application/vnd.plotly.v1+json": {
       "config": {
        "plotlyServerURL": "https://plot.ly"
       },
       "data": [
        {
         "hovertemplate": "Position=PF<br>Total Points Scored=%{x}<br>Number of Games Played=%{y}<br>Player=%{text}<extra></extra>",
         "legendgroup": "PF",
         "marker": {
          "color": "#636efa",
          "symbol": "circle"
         },
         "mode": "markers+text",
         "name": "PF",
         "orientation": "v",
         "showlegend": true,
         "text": [
          "Quincy Acy",
          "Jeff Adrien",
          "Furkan Aldemir",
          "LaMarcus Aldridge",
          "Lou Amundson",
          "Lou Amundson",
          "Lou Amundson",
          "Ryan Anderson",
          "Darrell Arthur",
          "Jeff Ayres",
          "Cameron Bairstow",
          "Brandon Bass",
          "Michael Beasley",
          "Jerrelle Benimon",
          "Anthony Bennett",
          "DeJuan Blair",
          "Matt Bonner",
          "Trevor Booker",
          "Carlos Boozer",
          "Earl Clark",
          "Nick Collison",
          "Jack Cooley",
          "Dante Cunningham",
          "Brandon Davies",
          "Brandon Davies",
          "Brandon Davies",
          "Anthony Davis",
          "Ed Davis",
          "Glen Davis",
          "Boris Diaw",
          "Joey Dorsey",
          "Reggie Evans",
          "Kenneth Faried",
          "Derrick Favors",
          "Channing Frye",
          "Kevin Garnett",
          "Kevin Garnett",
          "Kevin Garnett",
          "Pau Gasol",
          "Taj Gibson",
          "Drew Gooden",
          "Aaron Gordon",
          "Drew Gordon",
          "Draymond Green",
          "JaMychal Green",
          "JaMychal Green",
          "JaMychal Green",
          "Blake Griffin",
          "Tyler Hansbrough",
          "Udonis Haslem",
          "Spencer Hawes",
          "Nene Hilario",
          "Kris Humphries",
          "Serge Ibaka",
          "Ersan Ilyasova",
          "Cory Jefferson",
          "Jonas Jerebko",
          "Jonas Jerebko",
          "Jonas Jerebko",
          "Grant Jerrett",
          "Grant Jerrett",
          "Grant Jerrett",
          "Amir Johnson",
          "James Johnson",
          "Terrence Jones",
          "Ryan Kelly",
          "Carl Landry",
          "David Lee",
          "Jon Leuer",
          "Kevin Love",
          "Kenyon Martin",
          "Jason Maxiell",
          "Luc Mbah",
          "James Michael",
          "Mitch McGary",
          "Josh McRoberts",
          "Quincy Miller",
          "Quincy Miller",
          "Quincy Miller",
          "Paul Millsap",
          "Nikola Mirotic",
          "Greg Monroe",
          "Eric Moreland",
          "Marcus Morris",
          "Markieff Morris",
          "Donatas Motiejunas",
          "Mike Muscala",
          "Andrew Nicholson",
          "Steve Novak",
          "Dirk Nowitzki",
          "Johnny O'Bryant",
          "Kyle O'Quinn",
          "Jabari Parker",
          "Patrick Patterson",
          "Adreian Payne",
          "Adreian Payne",
          "Adreian Payne",
          "Dwight Powell",
          "Dwight Powell",
          "Dwight Powell",
          "Julius Randle",
          "Shavlik Randolph",
          "Shavlik Randolph",
          "Shavlik Randolph",
          "Zach Randolph",
          "Thomas Robinson",
          "Thomas Robinson",
          "Thomas Robinson",
          "Luis Scola",
          "Mike Scott",
          "Greg Smith",
          "Josh Smith",
          "Josh Smith",
          "Josh Smith",
          "Jarnell Stokes",
          "Amar'e Stoudemire",
          "Amar'e Stoudemire",
          "Amar'e Stoudemire",
          "Jared Sullinger",
          "Mirza Teletovic",
          "Lance Thomas",
          "Malcolm Thomas",
          "Tyrus Thomas",
          "Jason Thompson",
          "Tristan Thompson",
          "Anthony Tolliver",
          "Anthony Tolliver",
          "Anthony Tolliver",
          "Ekpe Udoh",
          "Charlie Villanueva",
          "Noah Vonleh",
          "David Wear",
          "David West",
          "Shayne Whittington",
          "Derrick Williams",
          "Marvin Williams",
          "Brandan Wright",
          "Brandan Wright",
          "Brandan Wright",
          "Brandan Wright",
          "Thaddeus Young",
          "Thaddeus Young",
          "Thaddeus Young"
         ],
         "type": "scatter",
         "x": [
          398,
          60,
          93,
          1661,
          259,
          11,
          248,
          833,
          382,
          137,
          10,
          866,
          212,
          0,
          298,
          56,
          264,
          567,
          836,
          27,
          273,
          27,
          340,
          142,
          126,
          16,
          1656,
          656,
          294,
          708,
          184,
          176,
          946,
          1187,
          549,
          323,
          285,
          38,
          1446,
          640,
          277,
          243,
          17,
          921,
          62,
          8,
          54,
          1469,
          270,
          261,
          425,
          737,
          509,
          917,
          669,
          183,
          448,
          241,
          207,
          16,
          7,
          9,
          694,
          554,
          386,
          332,
          503,
          388,
          286,
          1228,
          20,
          203,
          660,
          62,
          201,
          72,
          29,
          17,
          12,
          1218,
          833,
          1098,
          2,
          845,
          1258,
          855,
          197,
          194,
          15,
          1333,
          100,
          294,
          308,
          648,
          213,
          5,
          208,
          90,
          9,
          81,
          2,
          24,
          17,
          7,
          1143,
          308,
          115,
          193,
          763,
          529,
          80,
          1027,
          367,
          660,
          57,
          680,
          432,
          248,
          770,
          339,
          330,
          45,
          4,
          491,
          693,
          482,
          80,
          402,
          29,
          403,
          83,
          0,
          769,
          57,
          617,
          577,
          544,
          238,
          26,
          280,
          1071,
          685,
          386
         ],
         "xaxis": "x",
         "y": [
          68,
          17,
          41,
          71,
          53,
          12,
          41,
          61,
          58,
          51,
          18,
          82,
          24,
          2,
          57,
          29,
          72,
          79,
          71,
          10,
          66,
          16,
          66,
          27,
          20,
          7,
          68,
          79,
          74,
          81,
          69,
          47,
          75,
          74,
          75,
          47,
          42,
          5,
          78,
          62,
          51,
          47,
          9,
          79,
          24,
          4,
          20,
          67,
          74,
          62,
          73,
          67,
          64,
          64,
          58,
          50,
          75,
          46,
          29,
          8,
          5,
          3,
          75,
          70,
          33,
          52,
          70,
          49,
          63,
          75,
          11,
          61,
          67,
          15,
          32,
          17,
          10,
          6,
          4,
          73,
          82,
          69,
          3,
          81,
          82,
          71,
          40,
          40,
          13,
          77,
          34,
          51,
          25,
          81,
          32,
          3,
          29,
          29,
          5,
          24,
          1,
          21,
          16,
          5,
          71,
          54,
          32,
          22,
          81,
          68,
          42,
          83,
          28,
          55,
          19,
          59,
          36,
          23,
          58,
          40,
          40,
          17,
          2,
          81,
          82,
          76,
          24,
          52,
          33,
          64,
          25,
          2,
          66,
          20,
          74,
          78,
          75,
          27,
          8,
          40,
          76,
          48,
          28
         ],
         "yaxis": "y"
        },
        {
         "hovertemplate": "Position=SG<br>Total Points Scored=%{x}<br>Number of Games Played=%{y}<br>Player=%{text}<extra></extra>",
         "legendgroup": "SG",
         "marker": {
          "color": "#EF553B",
          "symbol": "circle"
         },
         "mode": "markers+text",
         "name": "SG",
         "orientation": "v",
         "showlegend": true,
         "text": [
          "Jordan Adams",
          "Arron Afflalo",
          "Arron Afflalo",
          "Arron Afflalo",
          "Tony Allen",
          "Alan Anderson",
          "Giannis Antetokounmpo",
          "Leandro Barbosa",
          "Will Barton",
          "Will Barton",
          "Will Barton",
          "Kent Bazemore",
          "Bradley Beal",
          "Marco Belinelli",
          "Vander Blue",
          "Avery Bradley",
          "Jabari Brown",
          "Markel Brown",
          "Shannon Brown",
          "Kobe Bryant",
          "Alec Burks",
          "Jimmy Butler",
          "Will Bynum",
          "Nick Calathes",
          "Kentavious Caldwell-Pope",
          "Vince Carter",
          "Patrick Christopher",
          "Ian Clark",
          "Ian Clark",
          "Ian Clark",
          "Allen Crabbe",
          "Jamal Crawford",
          "Jared Cunningham",
          "Troy Daniels",
          "Troy Daniels",
          "Troy Daniels",
          "Troy Daniels",
          "Andre Dawkins",
          "Matthew Dellavedova",
          "DeMar DeRozan",
          "Toney Douglas",
          "Chris Douglas-Roberts",
          "Goran Dragic",
          "Zoran Dragic",
          "Zoran Dragic",
          "Zoran Dragic",
          "Jared Dudley",
          "Wayne Ellington",
          "Monta Ellis",
          "Tyreke Evans",
          "Evan Fournier",
          "Randy Foye",
          "Jamaal Franklin",
          "Manu Ginobili",
          "Archie Goodwin",
          "Ben Gordon",
          "Eric Gordon",
          "Danny Green",
          "Gerald Green",
          "Willie Green",
          "P.J. Hairston",
          "Tim Hardaway",
          "James Harden",
          "Gary Harris",
          "Joe Harris",
          "Gerald Henderson",
          "Kirk Hinrich",
          "Justin Holiday",
          "Rodney Hood",
          "Lester Hudson",
          "John Jenkins",
          "Joe Johnson",
          "Nick Johnson",
          "Tyler Johnson",
          "Sergey Karasev",
          "Sean Kilpatrick",
          "Brandon Knight",
          "Kyle Korver",
          "Jeremy Lamb",
          "Ricky Ledo",
          "Ricky Ledo",
          "Ricky Ledo",
          "Courtney Lee",
          "Malcolm Lee",
          "Devyn Marble",
          "Kevin Martin",
          "Wesley Matthews",
          "O.J. Mayo",
          "C.J. McCollum",
          "K.J. McDaniels",
          "K.J. McDaniels",
          "K.J. McDaniels",
          "Ben McLemore",
          "Jodie Meeks",
          "C.J. Miles",
          "Elijah Millsap",
          "E'Twaun Moore",
          "Anthony Morrow",
          "Shabazz Muhammad",
          "Toure' Murry",
          "Gary Neal",
          "Gary Neal",
          "Gary Neal",
          "Victor Oladipo",
          "Quincy Pondexter",
          "J.J. Redick",
          "Glen Rice",
          "Jason Richardson",
          "Austin Rivers",
          "Andre Roberson",
          "Glenn Robinson",
          "Brandon Rush",
          "Iman Shumpert",
          "Iman Shumpert",
          "Iman Shumpert",
          "Alexey Shved",
          "Alexey Shved",
          "Alexey Shved",
          "Alexey Shved",
          "J.R. Smith",
          "J.R. Smith",
          "J.R. Smith",
          "Nik Stauskas",
          "Lance Stephenson",
          "Garrett Temple",
          "Jason Terry",
          "Hollis Thompson",
          "Klay Thompson",
          "Marcus Thornton",
          "Marcus Thornton",
          "Marcus Thornton",
          "Evan Turner",
          "Dwyane Wade",
          "Dion Waiters",
          "Dion Waiters",
          "Dion Waiters",
          "C.J. Wilcox",
          "Elliot Williams",
          "Elliot Williams",
          "Elliot Williams",
          "Lou Williams",
          "James Young",
          "Nick Young"
         ],
         "type": "scatter",
         "x": [
          94,
          1035,
          771,
          264,
          539,
          545,
          1030,
          467,
          397,
          90,
          307,
          390,
          962,
          568,
          22,
          1071,
          227,
          216,
          20,
          782,
          374,
          1301,
          22,
          243,
          1043,
          384,
          6,
          57,
          44,
          13,
          168,
          1010,
          35,
          176,
          46,
          53,
          77,
          3,
          319,
          1204,
          51,
          19,
          843,
          28,
          6,
          22,
          518,
          650,
          1513,
          1313,
          698,
          435,
          3,
          738,
          231,
          349,
          818,
          946,
          884,
          306,
          254,
          804,
          2217,
          188,
          136,
          969,
          377,
          254,
          433,
          18,
          135,
          1154,
          74,
          190,
          153,
          22,
          147,
          911,
          295,
          90,
          1,
          89,
          777,
          0,
          37,
          779,
          956,
          806,
          424,
          487,
          476,
          11,
          996,
          663,
          942,
          248,
          149,
          790,
          512,
          6,
          543,
          413,
          130,
          1292,
          134,
          1277,
          11,
          172,
          239,
          228,
          29,
          30,
          496,
          224,
          272,
          434,
          169,
          29,
          236,
          847,
          261,
          586,
          319,
          501,
          204,
          541,
          626,
          1668,
          380,
          348,
          32,
          779,
          1331,
          940,
          345,
          595,
          41,
          37,
          18,
          19,
          1242,
          105,
          563
         ],
         "xaxis": "x",
         "y": [
          30,
          78,
          53,
          25,
          63,
          74,
          81,
          66,
          58,
          30,
          28,
          75,
          63,
          62,
          2,
          77,
          19,
          47,
          5,
          35,
          27,
          65,
          7,
          58,
          82,
          66,
          4,
          30,
          23,
          7,
          51,
          64,
          19,
          47,
          17,
          19,
          11,
          4,
          67,
          60,
          12,
          12,
          52,
          16,
          6,
          10,
          72,
          65,
          80,
          79,
          58,
          50,
          3,
          70,
          41,
          56,
          61,
          81,
          74,
          52,
          45,
          70,
          81,
          55,
          51,
          80,
          66,
          59,
          50,
          5,
          24,
          80,
          28,
          32,
          33,
          4,
          11,
          75,
          47,
          17,
          5,
          12,
          77,
          1,
          16,
          39,
          60,
          71,
          62,
          62,
          52,
          10,
          82,
          60,
          70,
          47,
          56,
          74,
          38,
          4,
          54,
          43,
          11,
          72,
          30,
          78,
          5,
          19,
          35,
          67,
          25,
          33,
          62,
          24,
          38,
          42,
          17,
          9,
          16,
          70,
          24,
          46,
          73,
          61,
          52,
          77,
          71,
          77,
          48,
          39,
          9,
          82,
          62,
          80,
          33,
          47,
          21,
          13,
          5,
          8,
          80,
          31,
          42
         ],
         "yaxis": "y"
        },
        {
         "hovertemplate": "Position=C<br>Total Points Scored=%{x}<br>Number of Games Played=%{y}<br>Player=%{text}<extra></extra>",
         "legendgroup": "C",
         "marker": {
          "color": "#00cc96",
          "symbol": "circle"
         },
         "mode": "markers+text",
         "name": "C",
         "orientation": "v",
         "showlegend": true,
         "text": [
          "Steven Adams",
          "Alexis Ajinca",
          "Cole Aldrich",
          "Lavoy Allen",
          "Chris Andersen",
          "Joel Anthony",
          "Pero Antic",
          "Omer Asik",
          "Andrea Bargnani",
          "Earl Barron",
          "Aron Baynes",
          "Sim Bhullar",
          "Bismack Biyombo",
          "Tarik Black",
          "Tarik Black",
          "Tarik Black",
          "Andrew Bogut",
          "Chris Bosh",
          "Elton Brand",
          "Clint Capela",
          "Tyson Chandler",
          "DeMarcus Cousins",
          "Samuel Dalembert",
          "Dewayne Dedmon",
          "Gorgui Dieng",
          "Andre Drummond",
          "Tim Duncan",
          "Festus Ezeli",
          "Joel Freeland",
          "Marc Gasol",
          "Rudy Gobert",
          "Marcin Gortat",
          "Justin Hamilton",
          "Justin Hamilton",
          "Justin Hamilton",
          "Chuck Hayes",
          "Brendan Haywood",
          "John Henson",
          "Roy Hibbert",
          "J.J. Hickson",
          "Jordan Hill",
          "Ryan Hollins",
          "Al Horford",
          "Dwight Howard",
          "Bernard James",
          "Al Jefferson",
          "DeAndre Jordan",
          "Jerome Jordan",
          "Chris Kaman",
          "Enes Kanter",
          "Enes Kanter",
          "Enes Kanter",
          "Alex Kirk",
          "Kosta Koufos",
          "Ognjen Kuzmic",
          "Joffrey Lauvergne",
          "Alex Len",
          "Meyers Leonard",
          "Brook Lopez",
          "Robin Lopez",
          "Ian Mahinmi",
          "JaVale McGee",
          "JaVale McGee",
          "JaVale McGee",
          "Nazr Mohammed",
          "Timofey Mozgov",
          "Timofey Mozgov",
          "Timofey Mozgov",
          "Joakim Noah",
          "Nerlens Noel",
          "Lucas Nogueira",
          "Jusuf Nurkic",
          "Kelly Olynyk",
          "Arinze Onuaku",
          "Zaza Pachulia",
          "Nikola Pekovic",
          "Kendrick Perkins",
          "Kendrick Perkins",
          "Kendrick Perkins",
          "Mason Plumlee",
          "Miles Plumlee",
          "Miles Plumlee",
          "Miles Plumlee",
          "Miroslav Raduljica",
          "Robert Sacre",
          "Larry Sanders",
          "Kevin Seraphin",
          "Henry Sims",
          "Jason Smith",
          "Marreese Speights",
          "Tiago Splitter",
          "Greg Stiemsma",
          "Ronny Turiaf",
          "Jonas Valanciunas",
          "Anderson Varejao",
          "Nikola Vucevic",
          "Hassan Whiteside",
          "Jeff Withey",
          "Cody Zeller",
          "Tyler Zeller"
         ],
         "type": "scatter",
         "x": [
          537,
          443,
          338,
          315,
          320,
          87,
          356,
          557,
          430,
          32,
          461,
          2,
          304,
          379,
          105,
          274,
          422,
          928,
          96,
          32,
          771,
          1421,
          128,
          216,
          710,
          1130,
          1070,
          201,
          169,
          1413,
          686,
          1001,
          219,
          66,
          153,
          50,
          35,
          470,
          802,
          552,
          841,
          137,
          1156,
          646,
          44,
          1082,
          946,
          138,
          638,
          1163,
          678,
          485,
          4,
          419,
          20,
          93,
          432,
          327,
          1236,
          566,
          265,
          106,
          88,
          18,
          27,
          785,
          299,
          486,
          485,
          744,
          6,
          426,
          656,
          27,
          606,
          386,
          246,
          202,
          44,
          717,
          294,
          233,
          61,
          8,
          307,
          196,
          520,
          586,
          656,
          791,
          428,
          14,
          0,
          963,
          255,
          1428,
          564,
          98,
          472,
          833
         ],
         "xaxis": "x",
         "y": [
          70,
          68,
          61,
          63,
          60,
          49,
          63,
          76,
          29,
          16,
          70,
          3,
          64,
          63,
          25,
          38,
          67,
          44,
          36,
          12,
          75,
          59,
          32,
          59,
          73,
          82,
          77,
          46,
          48,
          81,
          82,
          82,
          41,
          24,
          17,
          29,
          22,
          67,
          76,
          73,
          70,
          46,
          76,
          41,
          16,
          65,
          82,
          44,
          74,
          75,
          49,
          26,
          5,
          81,
          16,
          24,
          69,
          55,
          72,
          59,
          61,
          23,
          17,
          6,
          23,
          81,
          35,
          46,
          67,
          75,
          6,
          62,
          64,
          6,
          73,
          31,
          68,
          51,
          17,
          82,
          73,
          54,
          19,
          5,
          67,
          27,
          79,
          73,
          82,
          76,
          52,
          17,
          2,
          80,
          26,
          74,
          48,
          37,
          62,
          82
         ],
         "yaxis": "y"
        },
        {
         "hovertemplate": "Position=SF<br>Total Points Scored=%{x}<br>Number of Games Played=%{y}<br>Player=%{text}<extra></extra>",
         "legendgroup": "SF",
         "marker": {
          "color": "#ab63fa",
          "symbol": "circle"
         },
         "mode": "markers+text",
         "name": "SF",
         "orientation": "v",
         "showlegend": true,
         "text": [
          "Al-Farouq Aminu",
          "Kyle Anderson",
          "Carmelo Anthony",
          "Trevor Ariza",
          "Luke Babbitt",
          "Harrison Barnes",
          "Matt Barnes",
          "Nicolas Batum",
          "Bojan Bogdanovic",
          "Corey Brewer",
          "Corey Brewer",
          "Corey Brewer",
          "Chase Budinger",
          "Reggie Bullock",
          "Reggie Bullock",
          "Reggie Bullock",
          "Caron Butler",
          "Rasual Butler",
          "Bruno Caboclo",
          "DeMarre Carroll",
          "Omri Casspi",
          "Wilson Chandler",
          "Victor Claver",
          "Chris Copeland",
          "Robert Covington",
          "Jae Crowder",
          "Jae Crowder",
          "Jae Crowder",
          "Luigi Datome",
          "Luigi Datome",
          "Luigi Datome",
          "Austin Daye",
          "Austin Daye",
          "Austin Daye",
          "Luol Deng",
          "Mike Dunleavy",
          "Kevin Durant",
          "Cleanthony Early",
          "James Ennis",
          "Jeremy Evans",
          "Landry Fields",
          "Danilo Gallinari",
          "Francisco Garcia",
          "Rudy Gay",
          "Alonzo Gee",
          "Alonzo Gee",
          "Alonzo Gee",
          "Paul George",
          "Danny Granger",
          "Jerami Grant",
          "Jeff Green",
          "Jeff Green",
          "Jeff Green",
          "Jordan Hamilton",
          "Maurice Harkless",
          "Tobias Harris",
          "Gordon Hayward",
          "Xavier Henry",
          "Solomon Hill",
          "Robbie Hummel",
          "Andre Iguodala",
          "Joe Ingles",
          "LeBron James",
          "Richard Jefferson",
          "Chris Johnson",
          "Chris Johnson",
          "Chris Johnson",
          "Chris Johnson",
          "Wesley Johnson",
          "Dahntay Jones",
          "James Jones",
          "Perry Jones",
          "Michael Kidd-Gilchrist",
          "Andrei Kirilenko",
          "Kawhi Leonard",
          "Shawn Marion",
          "Cartier Martin",
          "Doug McDermott",
          "Khris Middleton",
          "Darius Miller",
          "Mike Miller",
          "Steve Novak",
          "Kostas Papanikolaou",
          "Chandler Parsons",
          "Paul Pierce",
          "Quincy Pondexter",
          "Otto Porter",
          "Tayshaun Prince",
          "Tayshaun Prince",
          "Tayshaun Prince",
          "Tayshaun Prince",
          "Glenn Robinson",
          "Terrence Ross",
          "Damjan Rudez",
          "John Salmons",
          "JaKarr Sampson",
          "Thabo Sefolosha",
          "Kyle Singler",
          "Kyle Singler",
          "Kyle Singler",
          "Tony Snell",
          "Jeffery Taylor",
          "Lance Thomas",
          "P.J. Tucker",
          "Hedo Turkoglu",
          "Henry Walker",
          "Gerald Wallace",
          "T.J. Warren",
          "Travis Wear",
          "Martell Webster",
          "Andrew Wiggins",
          "Reggie Williams",
          "Shawne Williams",
          "Shawne Williams",
          "Shawne Williams",
          "Dorell Wright"
         ],
         "type": "scatter",
         "x": [
          412,
          74,
          966,
          1048,
          256,
          827,
          764,
          664,
          700,
          917,
          251,
          666,
          457,
          69,
          65,
          4,
          460,
          580,
          10,
          883,
          593,
          1085,
          24,
          309,
          943,
          628,
          89,
          539,
          105,
          11,
          94,
          129,
          103,
          26,
          1007,
          595,
          686,
          210,
          312,
          90,
          46,
          734,
          45,
          1432,
          241,
          190,
          51,
          53,
          188,
          411,
          1168,
          580,
          588,
          38,
          158,
          1164,
          1463,
          20,
          729,
          198,
          604,
          396,
          1743,
          432,
          166,
          54,
          81,
          31,
          753,
          21,
          250,
          184,
          598,
          3,
          1057,
          276,
          36,
          109,
          1055,
          2,
          109,
          48,
          182,
          1037,
          868,
          404,
          445,
          434,
          190,
          76,
          168,
          44,
          807,
          323,
          42,
          386,
          278,
          480,
          385,
          95,
          435,
          127,
          113,
          713,
          232,
          175,
          35,
          245,
          199,
          106,
          1387,
          37,
          341,
          292,
          49,
          219
         ],
         "xaxis": "x",
         "y": [
          74,
          33,
          40,
          82,
          63,
          82,
          76,
          71,
          78,
          80,
          24,
          56,
          67,
          36,
          25,
          11,
          78,
          75,
          8,
          70,
          67,
          78,
          10,
          50,
          70,
          82,
          25,
          57,
          21,
          3,
          18,
          34,
          26,
          8,
          72,
          63,
          27,
          39,
          62,
          38,
          26,
          59,
          14,
          68,
          54,
          39,
          15,
          6,
          30,
          65,
          78,
          33,
          45,
          14,
          45,
          68,
          76,
          9,
          82,
          45,
          77,
          79,
          69,
          74,
          29,
          9,
          12,
          8,
          76,
          33,
          57,
          43,
          55,
          7,
          64,
          57,
          23,
          36,
          79,
          5,
          52,
          22,
          43,
          66,
          73,
          45,
          74,
          58,
          26,
          9,
          23,
          10,
          82,
          68,
          21,
          74,
          52,
          80,
          54,
          26,
          72,
          29,
          22,
          78,
          62,
          24,
          32,
          40,
          51,
          32,
          82,
          20,
          63,
          44,
          19,
          48
         ],
         "yaxis": "y"
        },
        {
         "hovertemplate": "Position=PG<br>Total Points Scored=%{x}<br>Number of Games Played=%{y}<br>Player=%{text}<extra></extra>",
         "legendgroup": "PG",
         "marker": {
          "color": "#FFA15A",
          "symbol": "circle"
         },
         "mode": "markers+text",
         "name": "PG",
         "orientation": "v",
         "showlegend": true,
         "text": [
          "D.J. Augustin",
          "D.J. Augustin",
          "D.J. Augustin",
          "J.J. Barea",
          "Jerryd Bayless",
          "Patrick Beverley",
          "Steve Blake",
          "Eric Bledsoe",
          "Aaron Brooks",
          "Lorenzo Brown",
          "Trey Burke",
          "Dwight Buycks",
          "Jose Calderon",
          "Isaiah Canaan",
          "Isaiah Canaan",
          "Isaiah Canaan",
          "Michael Carter-Williams",
          "Michael Carter-Williams",
          "Michael Carter-Williams",
          "Mario Chalmers",
          "Will Cherry",
          "Jordan Clarkson",
          "Norris Cole",
          "Norris Cole",
          "Norris Cole",
          "Darren Collison",
          "Mike Conley",
          "Bryce Cotton",
          "Seth Curry",
          "Stephen Curry",
          "Spencer Dinwiddie",
          "Goran Dragic",
          "Larry Drew",
          "Tyler Ennis",
          "Tyler Ennis",
          "Tyler Ennis",
          "Dante Exum",
          "Jordan Farmar",
          "Raymond Felton",
          "Tim Frazier",
          "Tim Frazier",
          "Tim Frazier",
          "Jimmer Fredette",
          "Langston Galloway",
          "Erick Green",
          "Jorge Gutierrez",
          "Jorge Gutierrez",
          "Jorge Gutierrez",
          "Devin Harris",
          "George Hill",
          "Jrue Holiday",
          "Kyrie Irving",
          "Jarrett Jack",
          "Reggie Jackson",
          "Reggie Jackson",
          "Reggie Jackson",
          "Brandon Jennings",
          "Cory Joseph",
          "Brandon Knight",
          "Shane Larkin",
          "Zach LaVine",
          "Ty Lawson",
          "Damian Lillard",
          "Jeremy Lin",
          "Shaun Livingston",
          "Kyle Lowry",
          "Kalin Lucas",
          "John Lucas",
          "Shelvin Mack",
          "Kendall Marshall",
          "Ray McCallum",
          "Jerel McNeal",
          "Gal Mekel",
          "Andre Miller",
          "Andre Miller",
          "Andre Miller",
          "Patty Mills",
          "Darius Morris",
          "Toure' Murry",
          "Shabazz Napier",
          "Jameer Nelson",
          "Jameer Nelson",
          "Jameer Nelson",
          "Jameer Nelson",
          "Jannero Pargo",
          "Tony Parker",
          "Chris Paul",
          "Elfrid Payton",
          "Phil Pressey",
          "A.J. Price",
          "A.J. Price",
          "A.J. Price",
          "A.J. Price",
          "Ronnie Price",
          "Pablo Prigioni",
          "Pablo Prigioni",
          "Pablo Prigioni",
          "Luke Ridnour",
          "Austin Rivers",
          "Brian Roberts",
          "Nate Robinson",
          "Nate Robinson",
          "Nate Robinson",
          "Rajon Rondo",
          "Rajon Rondo",
          "Rajon Rondo",
          "Derrick Rose",
          "Ricky Rubio",
          "Dennis Schroder",
          "Ramon Sessions",
          "Ramon Sessions",
          "Ramon Sessions",
          "Donald Sloan",
          "Marcus Smart",
          "Ish Smith",
          "Ish Smith",
          "Ish Smith",
          "Russ Smith",
          "Russ Smith",
          "Russ Smith",
          "David Stockton",
          "Rodney Stuckey",
          "Jeff Teague",
          "Sebastian Telfair",
          "Isaiah Thomas",
          "Isaiah Thomas",
          "Isaiah Thomas",
          "Beno Udrih",
          "Greivis Vasquez",
          "Kemba Walker",
          "John Wall",
          "C.J. Watson",
          "Russell Westbrook",
          "Deron Williams",
          "Mo Williams",
          "Mo Williams",
          "Mo Williams",
          "Nate Wolters",
          "Nate Wolters",
          "Nate Wolters",
          "Tony Wroten"
         ],
         "type": "scatter",
         "x": [
          777,
          574,
          203,
          580,
          598,
          568,
          350,
          1377,
          954,
          122,
          973,
          52,
          382,
          432,
          154,
          278,
          966,
          613,
          353,
          813,
          15,
          703,
          573,
          295,
          278,
          725,
          1107,
          80,
          0,
          1900,
          145,
          432,
          46,
          121,
          22,
          99,
          393,
          167,
          108,
          57,
          34,
          23,
          178,
          533,
          146,
          53,
          16,
          37,
          665,
          692,
          592,
          1628,
          957,
          1117,
          641,
          476,
          632,
          535,
          923,
          470,
          778,
          1143,
          1720,
          832,
          461,
          1244,
          0,
          98,
          299,
          118,
          503,
          9,
          6,
          355,
          183,
          172,
          351,
          83,
          0,
          261,
          523,
          167,
          29,
          327,
          41,
          976,
          1564,
          731,
          177,
          133,
          105,
          22,
          6,
          221,
          274,
          201,
          73,
          188,
          291,
          480,
          238,
          192,
          46,
          608,
          182,
          426,
          904,
          226,
          768,
          402,
          196,
          206,
          391,
          523,
          338,
          37,
          301,
          30,
          5,
          25,
          8,
          896,
          1162,
          134,
          1101,
          701,
          400,
          605,
          775,
          1075,
          1387,
          570,
          1886,
          884,
          964,
          499,
          465,
          42,
          25,
          17,
          507
         ],
         "xaxis": "x",
         "y": [
          82,
          54,
          28,
          77,
          77,
          56,
          81,
          81,
          82,
          29,
          76,
          6,
          42,
          47,
          25,
          22,
          66,
          41,
          25,
          80,
          8,
          59,
          75,
          47,
          28,
          45,
          70,
          15,
          2,
          80,
          34,
          26,
          12,
          33,
          8,
          25,
          82,
          36,
          29,
          11,
          6,
          5,
          50,
          45,
          43,
          20,
          10,
          10,
          76,
          43,
          40,
          75,
          80,
          77,
          50,
          27,
          41,
          79,
          52,
          76,
          77,
          75,
          82,
          74,
          78,
          70,
          1,
          21,
          55,
          28,
          68,
          6,
          4,
          81,
          51,
          30,
          51,
          38,
          1,
          51,
          63,
          23,
          6,
          34,
          9,
          68,
          82,
          82,
          50,
          26,
          10,
          11,
          5,
          43,
          67,
          43,
          24,
          47,
          41,
          72,
          42,
          33,
          9,
          68,
          22,
          46,
          51,
          22,
          77,
          64,
          36,
          28,
          53,
          67,
          55,
          30,
          25,
          12,
          6,
          6,
          3,
          71,
          73,
          16,
          67,
          46,
          21,
          79,
          82,
          62,
          79,
          57,
          67,
          68,
          68,
          41,
          27,
          21,
          11,
          10,
          30
         ],
         "yaxis": "y"
        },
        {
         "hovertemplate": "Position=SG-PG<br>Total Points Scored=%{x}<br>Number of Games Played=%{y}<br>Player=%{text}<extra></extra>",
         "legendgroup": "SG-PG",
         "marker": {
          "color": "#19d3f3",
          "symbol": "circle"
         },
         "mode": "markers+text",
         "name": "SG-PG",
         "orientation": "v",
         "showlegend": true,
         "text": [
          "Goran Dragic",
          "Toure' Murry"
         ],
         "type": "scatter",
         "x": [
          1275,
          6
         ],
         "xaxis": "x",
         "y": [
          78,
          5
         ],
         "yaxis": "y"
        },
        {
         "hovertemplate": "Position=PG-SG<br>Total Points Scored=%{x}<br>Number of Games Played=%{y}<br>Player=%{text}<extra></extra>",
         "legendgroup": "PG-SG",
         "marker": {
          "color": "#FF6692",
          "symbol": "circle"
         },
         "mode": "markers+text",
         "name": "PG-SG",
         "orientation": "v",
         "showlegend": true,
         "text": [
          "Brandon Knight",
          "Austin Rivers"
         ],
         "type": "scatter",
         "x": [
          1070,
          530
         ],
         "xaxis": "x",
         "y": [
          63,
          76
         ],
         "yaxis": "y"
        },
        {
         "hovertemplate": "Position=SF-PF<br>Total Points Scored=%{x}<br>Number of Games Played=%{y}<br>Player=%{text}<extra></extra>",
         "legendgroup": "SF-PF",
         "marker": {
          "color": "#B6E880",
          "symbol": "circle"
         },
         "mode": "markers+text",
         "name": "SF-PF",
         "orientation": "v",
         "showlegend": true,
         "text": [
          "Steve Novak"
         ],
         "type": "scatter",
         "x": [
          63
         ],
         "xaxis": "x",
         "y": [
          35
         ],
         "yaxis": "y"
        },
        {
         "hovertemplate": "Position=SF-SG<br>Total Points Scored=%{x}<br>Number of Games Played=%{y}<br>Player=%{text}<extra></extra>",
         "legendgroup": "SF-SG",
         "marker": {
          "color": "#FF97FF",
          "symbol": "circle"
         },
         "mode": "markers+text",
         "name": "SF-SG",
         "orientation": "v",
         "showlegend": true,
         "text": [
          "Quincy Pondexter"
         ],
         "type": "scatter",
         "x": [
          538
         ],
         "xaxis": "x",
         "y": [
          75
         ],
         "yaxis": "y"
        },
        {
         "hovertemplate": "Position=SG-SF<br>Total Points Scored=%{x}<br>Number of Games Played=%{y}<br>Player=%{text}<extra></extra>",
         "legendgroup": "SG-SF",
         "marker": {
          "color": "#FECB52",
          "symbol": "circle"
         },
         "mode": "markers+text",
         "name": "SG-SF",
         "orientation": "v",
         "showlegend": true,
         "text": [
          "Glenn Robinson"
         ],
         "type": "scatter",
         "x": [
          73
         ],
         "xaxis": "x",
         "y": [
          35
         ],
         "yaxis": "y"
        },
        {
         "hovertemplate": "Position=PF-SF<br>Total Points Scored=%{x}<br>Number of Games Played=%{y}<br>Player=%{text}<extra></extra>",
         "legendgroup": "PF-SF",
         "marker": {
          "color": "#636efa",
          "symbol": "circle"
         },
         "mode": "markers+text",
         "name": "PF-SF",
         "orientation": "v",
         "showlegend": true,
         "text": [
          "Lance Thomas"
         ],
         "type": "scatter",
         "x": [
          443
         ],
         "xaxis": "x",
         "y": [
          62
         ],
         "yaxis": "y"
        }
       ],
       "layout": {
        "legend": {
         "title": {
          "text": "Position"
         },
         "tracegroupgap": 0
        },
        "template": {
         "data": {
          "bar": [
           {
            "error_x": {
             "color": "#2a3f5f"
            },
            "error_y": {
             "color": "#2a3f5f"
            },
            "marker": {
             "line": {
              "color": "#E5ECF6",
              "width": 0.5
             },
             "pattern": {
              "fillmode": "overlay",
              "size": 10,
              "solidity": 0.2
             }
            },
            "type": "bar"
           }
          ],
          "barpolar": [
           {
            "marker": {
             "line": {
              "color": "#E5ECF6",
              "width": 0.5
             },
             "pattern": {
              "fillmode": "overlay",
              "size": 10,
              "solidity": 0.2
             }
            },
            "type": "barpolar"
           }
          ],
          "carpet": [
           {
            "aaxis": {
             "endlinecolor": "#2a3f5f",
             "gridcolor": "white",
             "linecolor": "white",
             "minorgridcolor": "white",
             "startlinecolor": "#2a3f5f"
            },
            "baxis": {
             "endlinecolor": "#2a3f5f",
             "gridcolor": "white",
             "linecolor": "white",
             "minorgridcolor": "white",
             "startlinecolor": "#2a3f5f"
            },
            "type": "carpet"
           }
          ],
          "choropleth": [
           {
            "colorbar": {
             "outlinewidth": 0,
             "ticks": ""
            },
            "type": "choropleth"
           }
          ],
          "contour": [
           {
            "colorbar": {
             "outlinewidth": 0,
             "ticks": ""
            },
            "colorscale": [
             [
              0,
              "#0d0887"
             ],
             [
              0.1111111111111111,
              "#46039f"
             ],
             [
              0.2222222222222222,
              "#7201a8"
             ],
             [
              0.3333333333333333,
              "#9c179e"
             ],
             [
              0.4444444444444444,
              "#bd3786"
             ],
             [
              0.5555555555555556,
              "#d8576b"
             ],
             [
              0.6666666666666666,
              "#ed7953"
             ],
             [
              0.7777777777777778,
              "#fb9f3a"
             ],
             [
              0.8888888888888888,
              "#fdca26"
             ],
             [
              1,
              "#f0f921"
             ]
            ],
            "type": "contour"
           }
          ],
          "contourcarpet": [
           {
            "colorbar": {
             "outlinewidth": 0,
             "ticks": ""
            },
            "type": "contourcarpet"
           }
          ],
          "heatmap": [
           {
            "colorbar": {
             "outlinewidth": 0,
             "ticks": ""
            },
            "colorscale": [
             [
              0,
              "#0d0887"
             ],
             [
              0.1111111111111111,
              "#46039f"
             ],
             [
              0.2222222222222222,
              "#7201a8"
             ],
             [
              0.3333333333333333,
              "#9c179e"
             ],
             [
              0.4444444444444444,
              "#bd3786"
             ],
             [
              0.5555555555555556,
              "#d8576b"
             ],
             [
              0.6666666666666666,
              "#ed7953"
             ],
             [
              0.7777777777777778,
              "#fb9f3a"
             ],
             [
              0.8888888888888888,
              "#fdca26"
             ],
             [
              1,
              "#f0f921"
             ]
            ],
            "type": "heatmap"
           }
          ],
          "heatmapgl": [
           {
            "colorbar": {
             "outlinewidth": 0,
             "ticks": ""
            },
            "colorscale": [
             [
              0,
              "#0d0887"
             ],
             [
              0.1111111111111111,
              "#46039f"
             ],
             [
              0.2222222222222222,
              "#7201a8"
             ],
             [
              0.3333333333333333,
              "#9c179e"
             ],
             [
              0.4444444444444444,
              "#bd3786"
             ],
             [
              0.5555555555555556,
              "#d8576b"
             ],
             [
              0.6666666666666666,
              "#ed7953"
             ],
             [
              0.7777777777777778,
              "#fb9f3a"
             ],
             [
              0.8888888888888888,
              "#fdca26"
             ],
             [
              1,
              "#f0f921"
             ]
            ],
            "type": "heatmapgl"
           }
          ],
          "histogram": [
           {
            "marker": {
             "pattern": {
              "fillmode": "overlay",
              "size": 10,
              "solidity": 0.2
             }
            },
            "type": "histogram"
           }
          ],
          "histogram2d": [
           {
            "colorbar": {
             "outlinewidth": 0,
             "ticks": ""
            },
            "colorscale": [
             [
              0,
              "#0d0887"
             ],
             [
              0.1111111111111111,
              "#46039f"
             ],
             [
              0.2222222222222222,
              "#7201a8"
             ],
             [
              0.3333333333333333,
              "#9c179e"
             ],
             [
              0.4444444444444444,
              "#bd3786"
             ],
             [
              0.5555555555555556,
              "#d8576b"
             ],
             [
              0.6666666666666666,
              "#ed7953"
             ],
             [
              0.7777777777777778,
              "#fb9f3a"
             ],
             [
              0.8888888888888888,
              "#fdca26"
             ],
             [
              1,
              "#f0f921"
             ]
            ],
            "type": "histogram2d"
           }
          ],
          "histogram2dcontour": [
           {
            "colorbar": {
             "outlinewidth": 0,
             "ticks": ""
            },
            "colorscale": [
             [
              0,
              "#0d0887"
             ],
             [
              0.1111111111111111,
              "#46039f"
             ],
             [
              0.2222222222222222,
              "#7201a8"
             ],
             [
              0.3333333333333333,
              "#9c179e"
             ],
             [
              0.4444444444444444,
              "#bd3786"
             ],
             [
              0.5555555555555556,
              "#d8576b"
             ],
             [
              0.6666666666666666,
              "#ed7953"
             ],
             [
              0.7777777777777778,
              "#fb9f3a"
             ],
             [
              0.8888888888888888,
              "#fdca26"
             ],
             [
              1,
              "#f0f921"
             ]
            ],
            "type": "histogram2dcontour"
           }
          ],
          "mesh3d": [
           {
            "colorbar": {
             "outlinewidth": 0,
             "ticks": ""
            },
            "type": "mesh3d"
           }
          ],
          "parcoords": [
           {
            "line": {
             "colorbar": {
              "outlinewidth": 0,
              "ticks": ""
             }
            },
            "type": "parcoords"
           }
          ],
          "pie": [
           {
            "automargin": true,
            "type": "pie"
           }
          ],
          "scatter": [
           {
            "fillpattern": {
             "fillmode": "overlay",
             "size": 10,
             "solidity": 0.2
            },
            "type": "scatter"
           }
          ],
          "scatter3d": [
           {
            "line": {
             "colorbar": {
              "outlinewidth": 0,
              "ticks": ""
             }
            },
            "marker": {
             "colorbar": {
              "outlinewidth": 0,
              "ticks": ""
             }
            },
            "type": "scatter3d"
           }
          ],
          "scattercarpet": [
           {
            "marker": {
             "colorbar": {
              "outlinewidth": 0,
              "ticks": ""
             }
            },
            "type": "scattercarpet"
           }
          ],
          "scattergeo": [
           {
            "marker": {
             "colorbar": {
              "outlinewidth": 0,
              "ticks": ""
             }
            },
            "type": "scattergeo"
           }
          ],
          "scattergl": [
           {
            "marker": {
             "colorbar": {
              "outlinewidth": 0,
              "ticks": ""
             }
            },
            "type": "scattergl"
           }
          ],
          "scattermapbox": [
           {
            "marker": {
             "colorbar": {
              "outlinewidth": 0,
              "ticks": ""
             }
            },
            "type": "scattermapbox"
           }
          ],
          "scatterpolar": [
           {
            "marker": {
             "colorbar": {
              "outlinewidth": 0,
              "ticks": ""
             }
            },
            "type": "scatterpolar"
           }
          ],
          "scatterpolargl": [
           {
            "marker": {
             "colorbar": {
              "outlinewidth": 0,
              "ticks": ""
             }
            },
            "type": "scatterpolargl"
           }
          ],
          "scatterternary": [
           {
            "marker": {
             "colorbar": {
              "outlinewidth": 0,
              "ticks": ""
             }
            },
            "type": "scatterternary"
           }
          ],
          "surface": [
           {
            "colorbar": {
             "outlinewidth": 0,
             "ticks": ""
            },
            "colorscale": [
             [
              0,
              "#0d0887"
             ],
             [
              0.1111111111111111,
              "#46039f"
             ],
             [
              0.2222222222222222,
              "#7201a8"
             ],
             [
              0.3333333333333333,
              "#9c179e"
             ],
             [
              0.4444444444444444,
              "#bd3786"
             ],
             [
              0.5555555555555556,
              "#d8576b"
             ],
             [
              0.6666666666666666,
              "#ed7953"
             ],
             [
              0.7777777777777778,
              "#fb9f3a"
             ],
             [
              0.8888888888888888,
              "#fdca26"
             ],
             [
              1,
              "#f0f921"
             ]
            ],
            "type": "surface"
           }
          ],
          "table": [
           {
            "cells": {
             "fill": {
              "color": "#EBF0F8"
             },
             "line": {
              "color": "white"
             }
            },
            "header": {
             "fill": {
              "color": "#C8D4E3"
             },
             "line": {
              "color": "white"
             }
            },
            "type": "table"
           }
          ]
         },
         "layout": {
          "annotationdefaults": {
           "arrowcolor": "#2a3f5f",
           "arrowhead": 0,
           "arrowwidth": 1
          },
          "autotypenumbers": "strict",
          "coloraxis": {
           "colorbar": {
            "outlinewidth": 0,
            "ticks": ""
           }
          },
          "colorscale": {
           "diverging": [
            [
             0,
             "#8e0152"
            ],
            [
             0.1,
             "#c51b7d"
            ],
            [
             0.2,
             "#de77ae"
            ],
            [
             0.3,
             "#f1b6da"
            ],
            [
             0.4,
             "#fde0ef"
            ],
            [
             0.5,
             "#f7f7f7"
            ],
            [
             0.6,
             "#e6f5d0"
            ],
            [
             0.7,
             "#b8e186"
            ],
            [
             0.8,
             "#7fbc41"
            ],
            [
             0.9,
             "#4d9221"
            ],
            [
             1,
             "#276419"
            ]
           ],
           "sequential": [
            [
             0,
             "#0d0887"
            ],
            [
             0.1111111111111111,
             "#46039f"
            ],
            [
             0.2222222222222222,
             "#7201a8"
            ],
            [
             0.3333333333333333,
             "#9c179e"
            ],
            [
             0.4444444444444444,
             "#bd3786"
            ],
            [
             0.5555555555555556,
             "#d8576b"
            ],
            [
             0.6666666666666666,
             "#ed7953"
            ],
            [
             0.7777777777777778,
             "#fb9f3a"
            ],
            [
             0.8888888888888888,
             "#fdca26"
            ],
            [
             1,
             "#f0f921"
            ]
           ],
           "sequentialminus": [
            [
             0,
             "#0d0887"
            ],
            [
             0.1111111111111111,
             "#46039f"
            ],
            [
             0.2222222222222222,
             "#7201a8"
            ],
            [
             0.3333333333333333,
             "#9c179e"
            ],
            [
             0.4444444444444444,
             "#bd3786"
            ],
            [
             0.5555555555555556,
             "#d8576b"
            ],
            [
             0.6666666666666666,
             "#ed7953"
            ],
            [
             0.7777777777777778,
             "#fb9f3a"
            ],
            [
             0.8888888888888888,
             "#fdca26"
            ],
            [
             1,
             "#f0f921"
            ]
           ]
          },
          "colorway": [
           "#636efa",
           "#EF553B",
           "#00cc96",
           "#ab63fa",
           "#FFA15A",
           "#19d3f3",
           "#FF6692",
           "#B6E880",
           "#FF97FF",
           "#FECB52"
          ],
          "font": {
           "color": "#2a3f5f"
          },
          "geo": {
           "bgcolor": "white",
           "lakecolor": "white",
           "landcolor": "#E5ECF6",
           "showlakes": true,
           "showland": true,
           "subunitcolor": "white"
          },
          "hoverlabel": {
           "align": "left"
          },
          "hovermode": "closest",
          "mapbox": {
           "style": "light"
          },
          "paper_bgcolor": "white",
          "plot_bgcolor": "#E5ECF6",
          "polar": {
           "angularaxis": {
            "gridcolor": "white",
            "linecolor": "white",
            "ticks": ""
           },
           "bgcolor": "#E5ECF6",
           "radialaxis": {
            "gridcolor": "white",
            "linecolor": "white",
            "ticks": ""
           }
          },
          "scene": {
           "xaxis": {
            "backgroundcolor": "#E5ECF6",
            "gridcolor": "white",
            "gridwidth": 2,
            "linecolor": "white",
            "showbackground": true,
            "ticks": "",
            "zerolinecolor": "white"
           },
           "yaxis": {
            "backgroundcolor": "#E5ECF6",
            "gridcolor": "white",
            "gridwidth": 2,
            "linecolor": "white",
            "showbackground": true,
            "ticks": "",
            "zerolinecolor": "white"
           },
           "zaxis": {
            "backgroundcolor": "#E5ECF6",
            "gridcolor": "white",
            "gridwidth": 2,
            "linecolor": "white",
            "showbackground": true,
            "ticks": "",
            "zerolinecolor": "white"
           }
          },
          "shapedefaults": {
           "line": {
            "color": "#2a3f5f"
           }
          },
          "ternary": {
           "aaxis": {
            "gridcolor": "white",
            "linecolor": "white",
            "ticks": ""
           },
           "baxis": {
            "gridcolor": "white",
            "linecolor": "white",
            "ticks": ""
           },
           "bgcolor": "#E5ECF6",
           "caxis": {
            "gridcolor": "white",
            "linecolor": "white",
            "ticks": ""
           }
          },
          "title": {
           "x": 0.05
          },
          "xaxis": {
           "automargin": true,
           "gridcolor": "white",
           "linecolor": "white",
           "ticks": "",
           "title": {
            "standoff": 15
           },
           "zerolinecolor": "white",
           "zerolinewidth": 2
          },
          "yaxis": {
           "automargin": true,
           "gridcolor": "white",
           "linecolor": "white",
           "ticks": "",
           "title": {
            "standoff": 15
           },
           "zerolinecolor": "white",
           "zerolinewidth": 2
          }
         }
        },
        "title": {
         "text": "Total Points Scored by Players 2015"
        },
        "xaxis": {
         "anchor": "y",
         "domain": [
          0,
          1
         ],
         "title": {
          "text": "Total Points Scored"
         }
        },
        "yaxis": {
         "anchor": "x",
         "domain": [
          0,
          1
         ],
         "title": {
          "text": "Number of Games Played"
         }
        }
       }
      }
     },
     "metadata": {},
     "output_type": "display_data"
    }
   ],
   "source": [
    "# Try adding Player Names to plot\n",
    "fig4 = px.scatter(_2015seasons_df, x=\"PTS\", y=\"G\", color='Pos', size_max=25, \n",
    "                    title=\"Total Points Scored by Players 2015\", \n",
    "                    labels= {\n",
    "                        \"Pos\" : \"Position\", \"G\" : \"Number of Games Played\", \"PTS\": \"Total Points Scored\"\n",
    "                    }, text=_2015seasons_df[\"Player\"])\n",
    "fig4.show()"
   ]
  },
  {
   "cell_type": "code",
   "execution_count": 32,
   "metadata": {},
   "outputs": [
    {
     "data": {
      "application/vnd.plotly.v1+json": {
       "config": {
        "plotlyServerURL": "https://plot.ly"
       },
       "data": [
        {
         "hovertemplate": "<b>%{hovertext}</b><br><br>Position=PF<br>Total Points Scored=%{x}<br>Number of Games Played=%{y}<extra></extra>",
         "hovertext": [
          "Quincy Acy",
          "Jeff Adrien",
          "Furkan Aldemir",
          "LaMarcus Aldridge",
          "Lou Amundson",
          "Lou Amundson",
          "Lou Amundson",
          "Ryan Anderson",
          "Darrell Arthur",
          "Jeff Ayres",
          "Cameron Bairstow",
          "Brandon Bass",
          "Michael Beasley",
          "Jerrelle Benimon",
          "Anthony Bennett",
          "DeJuan Blair",
          "Matt Bonner",
          "Trevor Booker",
          "Carlos Boozer",
          "Earl Clark",
          "Nick Collison",
          "Jack Cooley",
          "Dante Cunningham",
          "Brandon Davies",
          "Brandon Davies",
          "Brandon Davies",
          "Anthony Davis",
          "Ed Davis",
          "Glen Davis",
          "Boris Diaw",
          "Joey Dorsey",
          "Reggie Evans",
          "Kenneth Faried",
          "Derrick Favors",
          "Channing Frye",
          "Kevin Garnett",
          "Kevin Garnett",
          "Kevin Garnett",
          "Pau Gasol",
          "Taj Gibson",
          "Drew Gooden",
          "Aaron Gordon",
          "Drew Gordon",
          "Draymond Green",
          "JaMychal Green",
          "JaMychal Green",
          "JaMychal Green",
          "Blake Griffin",
          "Tyler Hansbrough",
          "Udonis Haslem",
          "Spencer Hawes",
          "Nene Hilario",
          "Kris Humphries",
          "Serge Ibaka",
          "Ersan Ilyasova",
          "Cory Jefferson",
          "Jonas Jerebko",
          "Jonas Jerebko",
          "Jonas Jerebko",
          "Grant Jerrett",
          "Grant Jerrett",
          "Grant Jerrett",
          "Amir Johnson",
          "James Johnson",
          "Terrence Jones",
          "Ryan Kelly",
          "Carl Landry",
          "David Lee",
          "Jon Leuer",
          "Kevin Love",
          "Kenyon Martin",
          "Jason Maxiell",
          "Luc Mbah",
          "James Michael",
          "Mitch McGary",
          "Josh McRoberts",
          "Quincy Miller",
          "Quincy Miller",
          "Quincy Miller",
          "Paul Millsap",
          "Nikola Mirotic",
          "Greg Monroe",
          "Eric Moreland",
          "Marcus Morris",
          "Markieff Morris",
          "Donatas Motiejunas",
          "Mike Muscala",
          "Andrew Nicholson",
          "Steve Novak",
          "Dirk Nowitzki",
          "Johnny O'Bryant",
          "Kyle O'Quinn",
          "Jabari Parker",
          "Patrick Patterson",
          "Adreian Payne",
          "Adreian Payne",
          "Adreian Payne",
          "Dwight Powell",
          "Dwight Powell",
          "Dwight Powell",
          "Julius Randle",
          "Shavlik Randolph",
          "Shavlik Randolph",
          "Shavlik Randolph",
          "Zach Randolph",
          "Thomas Robinson",
          "Thomas Robinson",
          "Thomas Robinson",
          "Luis Scola",
          "Mike Scott",
          "Greg Smith",
          "Josh Smith",
          "Josh Smith",
          "Josh Smith",
          "Jarnell Stokes",
          "Amar'e Stoudemire",
          "Amar'e Stoudemire",
          "Amar'e Stoudemire",
          "Jared Sullinger",
          "Mirza Teletovic",
          "Lance Thomas",
          "Malcolm Thomas",
          "Tyrus Thomas",
          "Jason Thompson",
          "Tristan Thompson",
          "Anthony Tolliver",
          "Anthony Tolliver",
          "Anthony Tolliver",
          "Ekpe Udoh",
          "Charlie Villanueva",
          "Noah Vonleh",
          "David Wear",
          "David West",
          "Shayne Whittington",
          "Derrick Williams",
          "Marvin Williams",
          "Brandan Wright",
          "Brandan Wright",
          "Brandan Wright",
          "Brandan Wright",
          "Thaddeus Young",
          "Thaddeus Young",
          "Thaddeus Young"
         ],
         "legendgroup": "PF",
         "marker": {
          "color": "#636efa",
          "symbol": "circle"
         },
         "mode": "markers",
         "name": "PF",
         "orientation": "v",
         "showlegend": true,
         "type": "scatter",
         "x": [
          398,
          60,
          93,
          1661,
          259,
          11,
          248,
          833,
          382,
          137,
          10,
          866,
          212,
          0,
          298,
          56,
          264,
          567,
          836,
          27,
          273,
          27,
          340,
          142,
          126,
          16,
          1656,
          656,
          294,
          708,
          184,
          176,
          946,
          1187,
          549,
          323,
          285,
          38,
          1446,
          640,
          277,
          243,
          17,
          921,
          62,
          8,
          54,
          1469,
          270,
          261,
          425,
          737,
          509,
          917,
          669,
          183,
          448,
          241,
          207,
          16,
          7,
          9,
          694,
          554,
          386,
          332,
          503,
          388,
          286,
          1228,
          20,
          203,
          660,
          62,
          201,
          72,
          29,
          17,
          12,
          1218,
          833,
          1098,
          2,
          845,
          1258,
          855,
          197,
          194,
          15,
          1333,
          100,
          294,
          308,
          648,
          213,
          5,
          208,
          90,
          9,
          81,
          2,
          24,
          17,
          7,
          1143,
          308,
          115,
          193,
          763,
          529,
          80,
          1027,
          367,
          660,
          57,
          680,
          432,
          248,
          770,
          339,
          330,
          45,
          4,
          491,
          693,
          482,
          80,
          402,
          29,
          403,
          83,
          0,
          769,
          57,
          617,
          577,
          544,
          238,
          26,
          280,
          1071,
          685,
          386
         ],
         "xaxis": "x",
         "y": [
          68,
          17,
          41,
          71,
          53,
          12,
          41,
          61,
          58,
          51,
          18,
          82,
          24,
          2,
          57,
          29,
          72,
          79,
          71,
          10,
          66,
          16,
          66,
          27,
          20,
          7,
          68,
          79,
          74,
          81,
          69,
          47,
          75,
          74,
          75,
          47,
          42,
          5,
          78,
          62,
          51,
          47,
          9,
          79,
          24,
          4,
          20,
          67,
          74,
          62,
          73,
          67,
          64,
          64,
          58,
          50,
          75,
          46,
          29,
          8,
          5,
          3,
          75,
          70,
          33,
          52,
          70,
          49,
          63,
          75,
          11,
          61,
          67,
          15,
          32,
          17,
          10,
          6,
          4,
          73,
          82,
          69,
          3,
          81,
          82,
          71,
          40,
          40,
          13,
          77,
          34,
          51,
          25,
          81,
          32,
          3,
          29,
          29,
          5,
          24,
          1,
          21,
          16,
          5,
          71,
          54,
          32,
          22,
          81,
          68,
          42,
          83,
          28,
          55,
          19,
          59,
          36,
          23,
          58,
          40,
          40,
          17,
          2,
          81,
          82,
          76,
          24,
          52,
          33,
          64,
          25,
          2,
          66,
          20,
          74,
          78,
          75,
          27,
          8,
          40,
          76,
          48,
          28
         ],
         "yaxis": "y"
        },
        {
         "hovertemplate": "<b>%{hovertext}</b><br><br>Position=SG<br>Total Points Scored=%{x}<br>Number of Games Played=%{y}<extra></extra>",
         "hovertext": [
          "Jordan Adams",
          "Arron Afflalo",
          "Arron Afflalo",
          "Arron Afflalo",
          "Tony Allen",
          "Alan Anderson",
          "Giannis Antetokounmpo",
          "Leandro Barbosa",
          "Will Barton",
          "Will Barton",
          "Will Barton",
          "Kent Bazemore",
          "Bradley Beal",
          "Marco Belinelli",
          "Vander Blue",
          "Avery Bradley",
          "Jabari Brown",
          "Markel Brown",
          "Shannon Brown",
          "Kobe Bryant",
          "Alec Burks",
          "Jimmy Butler",
          "Will Bynum",
          "Nick Calathes",
          "Kentavious Caldwell-Pope",
          "Vince Carter",
          "Patrick Christopher",
          "Ian Clark",
          "Ian Clark",
          "Ian Clark",
          "Allen Crabbe",
          "Jamal Crawford",
          "Jared Cunningham",
          "Troy Daniels",
          "Troy Daniels",
          "Troy Daniels",
          "Troy Daniels",
          "Andre Dawkins",
          "Matthew Dellavedova",
          "DeMar DeRozan",
          "Toney Douglas",
          "Chris Douglas-Roberts",
          "Goran Dragic",
          "Zoran Dragic",
          "Zoran Dragic",
          "Zoran Dragic",
          "Jared Dudley",
          "Wayne Ellington",
          "Monta Ellis",
          "Tyreke Evans",
          "Evan Fournier",
          "Randy Foye",
          "Jamaal Franklin",
          "Manu Ginobili",
          "Archie Goodwin",
          "Ben Gordon",
          "Eric Gordon",
          "Danny Green",
          "Gerald Green",
          "Willie Green",
          "P.J. Hairston",
          "Tim Hardaway",
          "James Harden",
          "Gary Harris",
          "Joe Harris",
          "Gerald Henderson",
          "Kirk Hinrich",
          "Justin Holiday",
          "Rodney Hood",
          "Lester Hudson",
          "John Jenkins",
          "Joe Johnson",
          "Nick Johnson",
          "Tyler Johnson",
          "Sergey Karasev",
          "Sean Kilpatrick",
          "Brandon Knight",
          "Kyle Korver",
          "Jeremy Lamb",
          "Ricky Ledo",
          "Ricky Ledo",
          "Ricky Ledo",
          "Courtney Lee",
          "Malcolm Lee",
          "Devyn Marble",
          "Kevin Martin",
          "Wesley Matthews",
          "O.J. Mayo",
          "C.J. McCollum",
          "K.J. McDaniels",
          "K.J. McDaniels",
          "K.J. McDaniels",
          "Ben McLemore",
          "Jodie Meeks",
          "C.J. Miles",
          "Elijah Millsap",
          "E'Twaun Moore",
          "Anthony Morrow",
          "Shabazz Muhammad",
          "Toure' Murry",
          "Gary Neal",
          "Gary Neal",
          "Gary Neal",
          "Victor Oladipo",
          "Quincy Pondexter",
          "J.J. Redick",
          "Glen Rice",
          "Jason Richardson",
          "Austin Rivers",
          "Andre Roberson",
          "Glenn Robinson",
          "Brandon Rush",
          "Iman Shumpert",
          "Iman Shumpert",
          "Iman Shumpert",
          "Alexey Shved",
          "Alexey Shved",
          "Alexey Shved",
          "Alexey Shved",
          "J.R. Smith",
          "J.R. Smith",
          "J.R. Smith",
          "Nik Stauskas",
          "Lance Stephenson",
          "Garrett Temple",
          "Jason Terry",
          "Hollis Thompson",
          "Klay Thompson",
          "Marcus Thornton",
          "Marcus Thornton",
          "Marcus Thornton",
          "Evan Turner",
          "Dwyane Wade",
          "Dion Waiters",
          "Dion Waiters",
          "Dion Waiters",
          "C.J. Wilcox",
          "Elliot Williams",
          "Elliot Williams",
          "Elliot Williams",
          "Lou Williams",
          "James Young",
          "Nick Young"
         ],
         "legendgroup": "SG",
         "marker": {
          "color": "#EF553B",
          "symbol": "circle"
         },
         "mode": "markers",
         "name": "SG",
         "orientation": "v",
         "showlegend": true,
         "type": "scatter",
         "x": [
          94,
          1035,
          771,
          264,
          539,
          545,
          1030,
          467,
          397,
          90,
          307,
          390,
          962,
          568,
          22,
          1071,
          227,
          216,
          20,
          782,
          374,
          1301,
          22,
          243,
          1043,
          384,
          6,
          57,
          44,
          13,
          168,
          1010,
          35,
          176,
          46,
          53,
          77,
          3,
          319,
          1204,
          51,
          19,
          843,
          28,
          6,
          22,
          518,
          650,
          1513,
          1313,
          698,
          435,
          3,
          738,
          231,
          349,
          818,
          946,
          884,
          306,
          254,
          804,
          2217,
          188,
          136,
          969,
          377,
          254,
          433,
          18,
          135,
          1154,
          74,
          190,
          153,
          22,
          147,
          911,
          295,
          90,
          1,
          89,
          777,
          0,
          37,
          779,
          956,
          806,
          424,
          487,
          476,
          11,
          996,
          663,
          942,
          248,
          149,
          790,
          512,
          6,
          543,
          413,
          130,
          1292,
          134,
          1277,
          11,
          172,
          239,
          228,
          29,
          30,
          496,
          224,
          272,
          434,
          169,
          29,
          236,
          847,
          261,
          586,
          319,
          501,
          204,
          541,
          626,
          1668,
          380,
          348,
          32,
          779,
          1331,
          940,
          345,
          595,
          41,
          37,
          18,
          19,
          1242,
          105,
          563
         ],
         "xaxis": "x",
         "y": [
          30,
          78,
          53,
          25,
          63,
          74,
          81,
          66,
          58,
          30,
          28,
          75,
          63,
          62,
          2,
          77,
          19,
          47,
          5,
          35,
          27,
          65,
          7,
          58,
          82,
          66,
          4,
          30,
          23,
          7,
          51,
          64,
          19,
          47,
          17,
          19,
          11,
          4,
          67,
          60,
          12,
          12,
          52,
          16,
          6,
          10,
          72,
          65,
          80,
          79,
          58,
          50,
          3,
          70,
          41,
          56,
          61,
          81,
          74,
          52,
          45,
          70,
          81,
          55,
          51,
          80,
          66,
          59,
          50,
          5,
          24,
          80,
          28,
          32,
          33,
          4,
          11,
          75,
          47,
          17,
          5,
          12,
          77,
          1,
          16,
          39,
          60,
          71,
          62,
          62,
          52,
          10,
          82,
          60,
          70,
          47,
          56,
          74,
          38,
          4,
          54,
          43,
          11,
          72,
          30,
          78,
          5,
          19,
          35,
          67,
          25,
          33,
          62,
          24,
          38,
          42,
          17,
          9,
          16,
          70,
          24,
          46,
          73,
          61,
          52,
          77,
          71,
          77,
          48,
          39,
          9,
          82,
          62,
          80,
          33,
          47,
          21,
          13,
          5,
          8,
          80,
          31,
          42
         ],
         "yaxis": "y"
        },
        {
         "hovertemplate": "<b>%{hovertext}</b><br><br>Position=C<br>Total Points Scored=%{x}<br>Number of Games Played=%{y}<extra></extra>",
         "hovertext": [
          "Steven Adams",
          "Alexis Ajinca",
          "Cole Aldrich",
          "Lavoy Allen",
          "Chris Andersen",
          "Joel Anthony",
          "Pero Antic",
          "Omer Asik",
          "Andrea Bargnani",
          "Earl Barron",
          "Aron Baynes",
          "Sim Bhullar",
          "Bismack Biyombo",
          "Tarik Black",
          "Tarik Black",
          "Tarik Black",
          "Andrew Bogut",
          "Chris Bosh",
          "Elton Brand",
          "Clint Capela",
          "Tyson Chandler",
          "DeMarcus Cousins",
          "Samuel Dalembert",
          "Dewayne Dedmon",
          "Gorgui Dieng",
          "Andre Drummond",
          "Tim Duncan",
          "Festus Ezeli",
          "Joel Freeland",
          "Marc Gasol",
          "Rudy Gobert",
          "Marcin Gortat",
          "Justin Hamilton",
          "Justin Hamilton",
          "Justin Hamilton",
          "Chuck Hayes",
          "Brendan Haywood",
          "John Henson",
          "Roy Hibbert",
          "J.J. Hickson",
          "Jordan Hill",
          "Ryan Hollins",
          "Al Horford",
          "Dwight Howard",
          "Bernard James",
          "Al Jefferson",
          "DeAndre Jordan",
          "Jerome Jordan",
          "Chris Kaman",
          "Enes Kanter",
          "Enes Kanter",
          "Enes Kanter",
          "Alex Kirk",
          "Kosta Koufos",
          "Ognjen Kuzmic",
          "Joffrey Lauvergne",
          "Alex Len",
          "Meyers Leonard",
          "Brook Lopez",
          "Robin Lopez",
          "Ian Mahinmi",
          "JaVale McGee",
          "JaVale McGee",
          "JaVale McGee",
          "Nazr Mohammed",
          "Timofey Mozgov",
          "Timofey Mozgov",
          "Timofey Mozgov",
          "Joakim Noah",
          "Nerlens Noel",
          "Lucas Nogueira",
          "Jusuf Nurkic",
          "Kelly Olynyk",
          "Arinze Onuaku",
          "Zaza Pachulia",
          "Nikola Pekovic",
          "Kendrick Perkins",
          "Kendrick Perkins",
          "Kendrick Perkins",
          "Mason Plumlee",
          "Miles Plumlee",
          "Miles Plumlee",
          "Miles Plumlee",
          "Miroslav Raduljica",
          "Robert Sacre",
          "Larry Sanders",
          "Kevin Seraphin",
          "Henry Sims",
          "Jason Smith",
          "Marreese Speights",
          "Tiago Splitter",
          "Greg Stiemsma",
          "Ronny Turiaf",
          "Jonas Valanciunas",
          "Anderson Varejao",
          "Nikola Vucevic",
          "Hassan Whiteside",
          "Jeff Withey",
          "Cody Zeller",
          "Tyler Zeller"
         ],
         "legendgroup": "C",
         "marker": {
          "color": "#00cc96",
          "symbol": "circle"
         },
         "mode": "markers",
         "name": "C",
         "orientation": "v",
         "showlegend": true,
         "type": "scatter",
         "x": [
          537,
          443,
          338,
          315,
          320,
          87,
          356,
          557,
          430,
          32,
          461,
          2,
          304,
          379,
          105,
          274,
          422,
          928,
          96,
          32,
          771,
          1421,
          128,
          216,
          710,
          1130,
          1070,
          201,
          169,
          1413,
          686,
          1001,
          219,
          66,
          153,
          50,
          35,
          470,
          802,
          552,
          841,
          137,
          1156,
          646,
          44,
          1082,
          946,
          138,
          638,
          1163,
          678,
          485,
          4,
          419,
          20,
          93,
          432,
          327,
          1236,
          566,
          265,
          106,
          88,
          18,
          27,
          785,
          299,
          486,
          485,
          744,
          6,
          426,
          656,
          27,
          606,
          386,
          246,
          202,
          44,
          717,
          294,
          233,
          61,
          8,
          307,
          196,
          520,
          586,
          656,
          791,
          428,
          14,
          0,
          963,
          255,
          1428,
          564,
          98,
          472,
          833
         ],
         "xaxis": "x",
         "y": [
          70,
          68,
          61,
          63,
          60,
          49,
          63,
          76,
          29,
          16,
          70,
          3,
          64,
          63,
          25,
          38,
          67,
          44,
          36,
          12,
          75,
          59,
          32,
          59,
          73,
          82,
          77,
          46,
          48,
          81,
          82,
          82,
          41,
          24,
          17,
          29,
          22,
          67,
          76,
          73,
          70,
          46,
          76,
          41,
          16,
          65,
          82,
          44,
          74,
          75,
          49,
          26,
          5,
          81,
          16,
          24,
          69,
          55,
          72,
          59,
          61,
          23,
          17,
          6,
          23,
          81,
          35,
          46,
          67,
          75,
          6,
          62,
          64,
          6,
          73,
          31,
          68,
          51,
          17,
          82,
          73,
          54,
          19,
          5,
          67,
          27,
          79,
          73,
          82,
          76,
          52,
          17,
          2,
          80,
          26,
          74,
          48,
          37,
          62,
          82
         ],
         "yaxis": "y"
        },
        {
         "hovertemplate": "<b>%{hovertext}</b><br><br>Position=SF<br>Total Points Scored=%{x}<br>Number of Games Played=%{y}<extra></extra>",
         "hovertext": [
          "Al-Farouq Aminu",
          "Kyle Anderson",
          "Carmelo Anthony",
          "Trevor Ariza",
          "Luke Babbitt",
          "Harrison Barnes",
          "Matt Barnes",
          "Nicolas Batum",
          "Bojan Bogdanovic",
          "Corey Brewer",
          "Corey Brewer",
          "Corey Brewer",
          "Chase Budinger",
          "Reggie Bullock",
          "Reggie Bullock",
          "Reggie Bullock",
          "Caron Butler",
          "Rasual Butler",
          "Bruno Caboclo",
          "DeMarre Carroll",
          "Omri Casspi",
          "Wilson Chandler",
          "Victor Claver",
          "Chris Copeland",
          "Robert Covington",
          "Jae Crowder",
          "Jae Crowder",
          "Jae Crowder",
          "Luigi Datome",
          "Luigi Datome",
          "Luigi Datome",
          "Austin Daye",
          "Austin Daye",
          "Austin Daye",
          "Luol Deng",
          "Mike Dunleavy",
          "Kevin Durant",
          "Cleanthony Early",
          "James Ennis",
          "Jeremy Evans",
          "Landry Fields",
          "Danilo Gallinari",
          "Francisco Garcia",
          "Rudy Gay",
          "Alonzo Gee",
          "Alonzo Gee",
          "Alonzo Gee",
          "Paul George",
          "Danny Granger",
          "Jerami Grant",
          "Jeff Green",
          "Jeff Green",
          "Jeff Green",
          "Jordan Hamilton",
          "Maurice Harkless",
          "Tobias Harris",
          "Gordon Hayward",
          "Xavier Henry",
          "Solomon Hill",
          "Robbie Hummel",
          "Andre Iguodala",
          "Joe Ingles",
          "LeBron James",
          "Richard Jefferson",
          "Chris Johnson",
          "Chris Johnson",
          "Chris Johnson",
          "Chris Johnson",
          "Wesley Johnson",
          "Dahntay Jones",
          "James Jones",
          "Perry Jones",
          "Michael Kidd-Gilchrist",
          "Andrei Kirilenko",
          "Kawhi Leonard",
          "Shawn Marion",
          "Cartier Martin",
          "Doug McDermott",
          "Khris Middleton",
          "Darius Miller",
          "Mike Miller",
          "Steve Novak",
          "Kostas Papanikolaou",
          "Chandler Parsons",
          "Paul Pierce",
          "Quincy Pondexter",
          "Otto Porter",
          "Tayshaun Prince",
          "Tayshaun Prince",
          "Tayshaun Prince",
          "Tayshaun Prince",
          "Glenn Robinson",
          "Terrence Ross",
          "Damjan Rudez",
          "John Salmons",
          "JaKarr Sampson",
          "Thabo Sefolosha",
          "Kyle Singler",
          "Kyle Singler",
          "Kyle Singler",
          "Tony Snell",
          "Jeffery Taylor",
          "Lance Thomas",
          "P.J. Tucker",
          "Hedo Turkoglu",
          "Henry Walker",
          "Gerald Wallace",
          "T.J. Warren",
          "Travis Wear",
          "Martell Webster",
          "Andrew Wiggins",
          "Reggie Williams",
          "Shawne Williams",
          "Shawne Williams",
          "Shawne Williams",
          "Dorell Wright"
         ],
         "legendgroup": "SF",
         "marker": {
          "color": "#ab63fa",
          "symbol": "circle"
         },
         "mode": "markers",
         "name": "SF",
         "orientation": "v",
         "showlegend": true,
         "type": "scatter",
         "x": [
          412,
          74,
          966,
          1048,
          256,
          827,
          764,
          664,
          700,
          917,
          251,
          666,
          457,
          69,
          65,
          4,
          460,
          580,
          10,
          883,
          593,
          1085,
          24,
          309,
          943,
          628,
          89,
          539,
          105,
          11,
          94,
          129,
          103,
          26,
          1007,
          595,
          686,
          210,
          312,
          90,
          46,
          734,
          45,
          1432,
          241,
          190,
          51,
          53,
          188,
          411,
          1168,
          580,
          588,
          38,
          158,
          1164,
          1463,
          20,
          729,
          198,
          604,
          396,
          1743,
          432,
          166,
          54,
          81,
          31,
          753,
          21,
          250,
          184,
          598,
          3,
          1057,
          276,
          36,
          109,
          1055,
          2,
          109,
          48,
          182,
          1037,
          868,
          404,
          445,
          434,
          190,
          76,
          168,
          44,
          807,
          323,
          42,
          386,
          278,
          480,
          385,
          95,
          435,
          127,
          113,
          713,
          232,
          175,
          35,
          245,
          199,
          106,
          1387,
          37,
          341,
          292,
          49,
          219
         ],
         "xaxis": "x",
         "y": [
          74,
          33,
          40,
          82,
          63,
          82,
          76,
          71,
          78,
          80,
          24,
          56,
          67,
          36,
          25,
          11,
          78,
          75,
          8,
          70,
          67,
          78,
          10,
          50,
          70,
          82,
          25,
          57,
          21,
          3,
          18,
          34,
          26,
          8,
          72,
          63,
          27,
          39,
          62,
          38,
          26,
          59,
          14,
          68,
          54,
          39,
          15,
          6,
          30,
          65,
          78,
          33,
          45,
          14,
          45,
          68,
          76,
          9,
          82,
          45,
          77,
          79,
          69,
          74,
          29,
          9,
          12,
          8,
          76,
          33,
          57,
          43,
          55,
          7,
          64,
          57,
          23,
          36,
          79,
          5,
          52,
          22,
          43,
          66,
          73,
          45,
          74,
          58,
          26,
          9,
          23,
          10,
          82,
          68,
          21,
          74,
          52,
          80,
          54,
          26,
          72,
          29,
          22,
          78,
          62,
          24,
          32,
          40,
          51,
          32,
          82,
          20,
          63,
          44,
          19,
          48
         ],
         "yaxis": "y"
        },
        {
         "hovertemplate": "<b>%{hovertext}</b><br><br>Position=PG<br>Total Points Scored=%{x}<br>Number of Games Played=%{y}<extra></extra>",
         "hovertext": [
          "D.J. Augustin",
          "D.J. Augustin",
          "D.J. Augustin",
          "J.J. Barea",
          "Jerryd Bayless",
          "Patrick Beverley",
          "Steve Blake",
          "Eric Bledsoe",
          "Aaron Brooks",
          "Lorenzo Brown",
          "Trey Burke",
          "Dwight Buycks",
          "Jose Calderon",
          "Isaiah Canaan",
          "Isaiah Canaan",
          "Isaiah Canaan",
          "Michael Carter-Williams",
          "Michael Carter-Williams",
          "Michael Carter-Williams",
          "Mario Chalmers",
          "Will Cherry",
          "Jordan Clarkson",
          "Norris Cole",
          "Norris Cole",
          "Norris Cole",
          "Darren Collison",
          "Mike Conley",
          "Bryce Cotton",
          "Seth Curry",
          "Stephen Curry",
          "Spencer Dinwiddie",
          "Goran Dragic",
          "Larry Drew",
          "Tyler Ennis",
          "Tyler Ennis",
          "Tyler Ennis",
          "Dante Exum",
          "Jordan Farmar",
          "Raymond Felton",
          "Tim Frazier",
          "Tim Frazier",
          "Tim Frazier",
          "Jimmer Fredette",
          "Langston Galloway",
          "Erick Green",
          "Jorge Gutierrez",
          "Jorge Gutierrez",
          "Jorge Gutierrez",
          "Devin Harris",
          "George Hill",
          "Jrue Holiday",
          "Kyrie Irving",
          "Jarrett Jack",
          "Reggie Jackson",
          "Reggie Jackson",
          "Reggie Jackson",
          "Brandon Jennings",
          "Cory Joseph",
          "Brandon Knight",
          "Shane Larkin",
          "Zach LaVine",
          "Ty Lawson",
          "Damian Lillard",
          "Jeremy Lin",
          "Shaun Livingston",
          "Kyle Lowry",
          "Kalin Lucas",
          "John Lucas",
          "Shelvin Mack",
          "Kendall Marshall",
          "Ray McCallum",
          "Jerel McNeal",
          "Gal Mekel",
          "Andre Miller",
          "Andre Miller",
          "Andre Miller",
          "Patty Mills",
          "Darius Morris",
          "Toure' Murry",
          "Shabazz Napier",
          "Jameer Nelson",
          "Jameer Nelson",
          "Jameer Nelson",
          "Jameer Nelson",
          "Jannero Pargo",
          "Tony Parker",
          "Chris Paul",
          "Elfrid Payton",
          "Phil Pressey",
          "A.J. Price",
          "A.J. Price",
          "A.J. Price",
          "A.J. Price",
          "Ronnie Price",
          "Pablo Prigioni",
          "Pablo Prigioni",
          "Pablo Prigioni",
          "Luke Ridnour",
          "Austin Rivers",
          "Brian Roberts",
          "Nate Robinson",
          "Nate Robinson",
          "Nate Robinson",
          "Rajon Rondo",
          "Rajon Rondo",
          "Rajon Rondo",
          "Derrick Rose",
          "Ricky Rubio",
          "Dennis Schroder",
          "Ramon Sessions",
          "Ramon Sessions",
          "Ramon Sessions",
          "Donald Sloan",
          "Marcus Smart",
          "Ish Smith",
          "Ish Smith",
          "Ish Smith",
          "Russ Smith",
          "Russ Smith",
          "Russ Smith",
          "David Stockton",
          "Rodney Stuckey",
          "Jeff Teague",
          "Sebastian Telfair",
          "Isaiah Thomas",
          "Isaiah Thomas",
          "Isaiah Thomas",
          "Beno Udrih",
          "Greivis Vasquez",
          "Kemba Walker",
          "John Wall",
          "C.J. Watson",
          "Russell Westbrook",
          "Deron Williams",
          "Mo Williams",
          "Mo Williams",
          "Mo Williams",
          "Nate Wolters",
          "Nate Wolters",
          "Nate Wolters",
          "Tony Wroten"
         ],
         "legendgroup": "PG",
         "marker": {
          "color": "#FFA15A",
          "symbol": "circle"
         },
         "mode": "markers",
         "name": "PG",
         "orientation": "v",
         "showlegend": true,
         "type": "scatter",
         "x": [
          777,
          574,
          203,
          580,
          598,
          568,
          350,
          1377,
          954,
          122,
          973,
          52,
          382,
          432,
          154,
          278,
          966,
          613,
          353,
          813,
          15,
          703,
          573,
          295,
          278,
          725,
          1107,
          80,
          0,
          1900,
          145,
          432,
          46,
          121,
          22,
          99,
          393,
          167,
          108,
          57,
          34,
          23,
          178,
          533,
          146,
          53,
          16,
          37,
          665,
          692,
          592,
          1628,
          957,
          1117,
          641,
          476,
          632,
          535,
          923,
          470,
          778,
          1143,
          1720,
          832,
          461,
          1244,
          0,
          98,
          299,
          118,
          503,
          9,
          6,
          355,
          183,
          172,
          351,
          83,
          0,
          261,
          523,
          167,
          29,
          327,
          41,
          976,
          1564,
          731,
          177,
          133,
          105,
          22,
          6,
          221,
          274,
          201,
          73,
          188,
          291,
          480,
          238,
          192,
          46,
          608,
          182,
          426,
          904,
          226,
          768,
          402,
          196,
          206,
          391,
          523,
          338,
          37,
          301,
          30,
          5,
          25,
          8,
          896,
          1162,
          134,
          1101,
          701,
          400,
          605,
          775,
          1075,
          1387,
          570,
          1886,
          884,
          964,
          499,
          465,
          42,
          25,
          17,
          507
         ],
         "xaxis": "x",
         "y": [
          82,
          54,
          28,
          77,
          77,
          56,
          81,
          81,
          82,
          29,
          76,
          6,
          42,
          47,
          25,
          22,
          66,
          41,
          25,
          80,
          8,
          59,
          75,
          47,
          28,
          45,
          70,
          15,
          2,
          80,
          34,
          26,
          12,
          33,
          8,
          25,
          82,
          36,
          29,
          11,
          6,
          5,
          50,
          45,
          43,
          20,
          10,
          10,
          76,
          43,
          40,
          75,
          80,
          77,
          50,
          27,
          41,
          79,
          52,
          76,
          77,
          75,
          82,
          74,
          78,
          70,
          1,
          21,
          55,
          28,
          68,
          6,
          4,
          81,
          51,
          30,
          51,
          38,
          1,
          51,
          63,
          23,
          6,
          34,
          9,
          68,
          82,
          82,
          50,
          26,
          10,
          11,
          5,
          43,
          67,
          43,
          24,
          47,
          41,
          72,
          42,
          33,
          9,
          68,
          22,
          46,
          51,
          22,
          77,
          64,
          36,
          28,
          53,
          67,
          55,
          30,
          25,
          12,
          6,
          6,
          3,
          71,
          73,
          16,
          67,
          46,
          21,
          79,
          82,
          62,
          79,
          57,
          67,
          68,
          68,
          41,
          27,
          21,
          11,
          10,
          30
         ],
         "yaxis": "y"
        },
        {
         "hovertemplate": "<b>%{hovertext}</b><br><br>Position=SG-PG<br>Total Points Scored=%{x}<br>Number of Games Played=%{y}<extra></extra>",
         "hovertext": [
          "Goran Dragic",
          "Toure' Murry"
         ],
         "legendgroup": "SG-PG",
         "marker": {
          "color": "#19d3f3",
          "symbol": "circle"
         },
         "mode": "markers",
         "name": "SG-PG",
         "orientation": "v",
         "showlegend": true,
         "type": "scatter",
         "x": [
          1275,
          6
         ],
         "xaxis": "x",
         "y": [
          78,
          5
         ],
         "yaxis": "y"
        },
        {
         "hovertemplate": "<b>%{hovertext}</b><br><br>Position=PG-SG<br>Total Points Scored=%{x}<br>Number of Games Played=%{y}<extra></extra>",
         "hovertext": [
          "Brandon Knight",
          "Austin Rivers"
         ],
         "legendgroup": "PG-SG",
         "marker": {
          "color": "#FF6692",
          "symbol": "circle"
         },
         "mode": "markers",
         "name": "PG-SG",
         "orientation": "v",
         "showlegend": true,
         "type": "scatter",
         "x": [
          1070,
          530
         ],
         "xaxis": "x",
         "y": [
          63,
          76
         ],
         "yaxis": "y"
        },
        {
         "hovertemplate": "<b>%{hovertext}</b><br><br>Position=SF-PF<br>Total Points Scored=%{x}<br>Number of Games Played=%{y}<extra></extra>",
         "hovertext": [
          "Steve Novak"
         ],
         "legendgroup": "SF-PF",
         "marker": {
          "color": "#B6E880",
          "symbol": "circle"
         },
         "mode": "markers",
         "name": "SF-PF",
         "orientation": "v",
         "showlegend": true,
         "type": "scatter",
         "x": [
          63
         ],
         "xaxis": "x",
         "y": [
          35
         ],
         "yaxis": "y"
        },
        {
         "hovertemplate": "<b>%{hovertext}</b><br><br>Position=SF-SG<br>Total Points Scored=%{x}<br>Number of Games Played=%{y}<extra></extra>",
         "hovertext": [
          "Quincy Pondexter"
         ],
         "legendgroup": "SF-SG",
         "marker": {
          "color": "#FF97FF",
          "symbol": "circle"
         },
         "mode": "markers",
         "name": "SF-SG",
         "orientation": "v",
         "showlegend": true,
         "type": "scatter",
         "x": [
          538
         ],
         "xaxis": "x",
         "y": [
          75
         ],
         "yaxis": "y"
        },
        {
         "hovertemplate": "<b>%{hovertext}</b><br><br>Position=SG-SF<br>Total Points Scored=%{x}<br>Number of Games Played=%{y}<extra></extra>",
         "hovertext": [
          "Glenn Robinson"
         ],
         "legendgroup": "SG-SF",
         "marker": {
          "color": "#FECB52",
          "symbol": "circle"
         },
         "mode": "markers",
         "name": "SG-SF",
         "orientation": "v",
         "showlegend": true,
         "type": "scatter",
         "x": [
          73
         ],
         "xaxis": "x",
         "y": [
          35
         ],
         "yaxis": "y"
        },
        {
         "hovertemplate": "<b>%{hovertext}</b><br><br>Position=PF-SF<br>Total Points Scored=%{x}<br>Number of Games Played=%{y}<extra></extra>",
         "hovertext": [
          "Lance Thomas"
         ],
         "legendgroup": "PF-SF",
         "marker": {
          "color": "#636efa",
          "symbol": "circle"
         },
         "mode": "markers",
         "name": "PF-SF",
         "orientation": "v",
         "showlegend": true,
         "type": "scatter",
         "x": [
          443
         ],
         "xaxis": "x",
         "y": [
          62
         ],
         "yaxis": "y"
        }
       ],
       "layout": {
        "legend": {
         "title": {
          "text": "Position"
         },
         "tracegroupgap": 0
        },
        "template": {
         "data": {
          "bar": [
           {
            "error_x": {
             "color": "#2a3f5f"
            },
            "error_y": {
             "color": "#2a3f5f"
            },
            "marker": {
             "line": {
              "color": "#E5ECF6",
              "width": 0.5
             },
             "pattern": {
              "fillmode": "overlay",
              "size": 10,
              "solidity": 0.2
             }
            },
            "type": "bar"
           }
          ],
          "barpolar": [
           {
            "marker": {
             "line": {
              "color": "#E5ECF6",
              "width": 0.5
             },
             "pattern": {
              "fillmode": "overlay",
              "size": 10,
              "solidity": 0.2
             }
            },
            "type": "barpolar"
           }
          ],
          "carpet": [
           {
            "aaxis": {
             "endlinecolor": "#2a3f5f",
             "gridcolor": "white",
             "linecolor": "white",
             "minorgridcolor": "white",
             "startlinecolor": "#2a3f5f"
            },
            "baxis": {
             "endlinecolor": "#2a3f5f",
             "gridcolor": "white",
             "linecolor": "white",
             "minorgridcolor": "white",
             "startlinecolor": "#2a3f5f"
            },
            "type": "carpet"
           }
          ],
          "choropleth": [
           {
            "colorbar": {
             "outlinewidth": 0,
             "ticks": ""
            },
            "type": "choropleth"
           }
          ],
          "contour": [
           {
            "colorbar": {
             "outlinewidth": 0,
             "ticks": ""
            },
            "colorscale": [
             [
              0,
              "#0d0887"
             ],
             [
              0.1111111111111111,
              "#46039f"
             ],
             [
              0.2222222222222222,
              "#7201a8"
             ],
             [
              0.3333333333333333,
              "#9c179e"
             ],
             [
              0.4444444444444444,
              "#bd3786"
             ],
             [
              0.5555555555555556,
              "#d8576b"
             ],
             [
              0.6666666666666666,
              "#ed7953"
             ],
             [
              0.7777777777777778,
              "#fb9f3a"
             ],
             [
              0.8888888888888888,
              "#fdca26"
             ],
             [
              1,
              "#f0f921"
             ]
            ],
            "type": "contour"
           }
          ],
          "contourcarpet": [
           {
            "colorbar": {
             "outlinewidth": 0,
             "ticks": ""
            },
            "type": "contourcarpet"
           }
          ],
          "heatmap": [
           {
            "colorbar": {
             "outlinewidth": 0,
             "ticks": ""
            },
            "colorscale": [
             [
              0,
              "#0d0887"
             ],
             [
              0.1111111111111111,
              "#46039f"
             ],
             [
              0.2222222222222222,
              "#7201a8"
             ],
             [
              0.3333333333333333,
              "#9c179e"
             ],
             [
              0.4444444444444444,
              "#bd3786"
             ],
             [
              0.5555555555555556,
              "#d8576b"
             ],
             [
              0.6666666666666666,
              "#ed7953"
             ],
             [
              0.7777777777777778,
              "#fb9f3a"
             ],
             [
              0.8888888888888888,
              "#fdca26"
             ],
             [
              1,
              "#f0f921"
             ]
            ],
            "type": "heatmap"
           }
          ],
          "heatmapgl": [
           {
            "colorbar": {
             "outlinewidth": 0,
             "ticks": ""
            },
            "colorscale": [
             [
              0,
              "#0d0887"
             ],
             [
              0.1111111111111111,
              "#46039f"
             ],
             [
              0.2222222222222222,
              "#7201a8"
             ],
             [
              0.3333333333333333,
              "#9c179e"
             ],
             [
              0.4444444444444444,
              "#bd3786"
             ],
             [
              0.5555555555555556,
              "#d8576b"
             ],
             [
              0.6666666666666666,
              "#ed7953"
             ],
             [
              0.7777777777777778,
              "#fb9f3a"
             ],
             [
              0.8888888888888888,
              "#fdca26"
             ],
             [
              1,
              "#f0f921"
             ]
            ],
            "type": "heatmapgl"
           }
          ],
          "histogram": [
           {
            "marker": {
             "pattern": {
              "fillmode": "overlay",
              "size": 10,
              "solidity": 0.2
             }
            },
            "type": "histogram"
           }
          ],
          "histogram2d": [
           {
            "colorbar": {
             "outlinewidth": 0,
             "ticks": ""
            },
            "colorscale": [
             [
              0,
              "#0d0887"
             ],
             [
              0.1111111111111111,
              "#46039f"
             ],
             [
              0.2222222222222222,
              "#7201a8"
             ],
             [
              0.3333333333333333,
              "#9c179e"
             ],
             [
              0.4444444444444444,
              "#bd3786"
             ],
             [
              0.5555555555555556,
              "#d8576b"
             ],
             [
              0.6666666666666666,
              "#ed7953"
             ],
             [
              0.7777777777777778,
              "#fb9f3a"
             ],
             [
              0.8888888888888888,
              "#fdca26"
             ],
             [
              1,
              "#f0f921"
             ]
            ],
            "type": "histogram2d"
           }
          ],
          "histogram2dcontour": [
           {
            "colorbar": {
             "outlinewidth": 0,
             "ticks": ""
            },
            "colorscale": [
             [
              0,
              "#0d0887"
             ],
             [
              0.1111111111111111,
              "#46039f"
             ],
             [
              0.2222222222222222,
              "#7201a8"
             ],
             [
              0.3333333333333333,
              "#9c179e"
             ],
             [
              0.4444444444444444,
              "#bd3786"
             ],
             [
              0.5555555555555556,
              "#d8576b"
             ],
             [
              0.6666666666666666,
              "#ed7953"
             ],
             [
              0.7777777777777778,
              "#fb9f3a"
             ],
             [
              0.8888888888888888,
              "#fdca26"
             ],
             [
              1,
              "#f0f921"
             ]
            ],
            "type": "histogram2dcontour"
           }
          ],
          "mesh3d": [
           {
            "colorbar": {
             "outlinewidth": 0,
             "ticks": ""
            },
            "type": "mesh3d"
           }
          ],
          "parcoords": [
           {
            "line": {
             "colorbar": {
              "outlinewidth": 0,
              "ticks": ""
             }
            },
            "type": "parcoords"
           }
          ],
          "pie": [
           {
            "automargin": true,
            "type": "pie"
           }
          ],
          "scatter": [
           {
            "fillpattern": {
             "fillmode": "overlay",
             "size": 10,
             "solidity": 0.2
            },
            "type": "scatter"
           }
          ],
          "scatter3d": [
           {
            "line": {
             "colorbar": {
              "outlinewidth": 0,
              "ticks": ""
             }
            },
            "marker": {
             "colorbar": {
              "outlinewidth": 0,
              "ticks": ""
             }
            },
            "type": "scatter3d"
           }
          ],
          "scattercarpet": [
           {
            "marker": {
             "colorbar": {
              "outlinewidth": 0,
              "ticks": ""
             }
            },
            "type": "scattercarpet"
           }
          ],
          "scattergeo": [
           {
            "marker": {
             "colorbar": {
              "outlinewidth": 0,
              "ticks": ""
             }
            },
            "type": "scattergeo"
           }
          ],
          "scattergl": [
           {
            "marker": {
             "colorbar": {
              "outlinewidth": 0,
              "ticks": ""
             }
            },
            "type": "scattergl"
           }
          ],
          "scattermapbox": [
           {
            "marker": {
             "colorbar": {
              "outlinewidth": 0,
              "ticks": ""
             }
            },
            "type": "scattermapbox"
           }
          ],
          "scatterpolar": [
           {
            "marker": {
             "colorbar": {
              "outlinewidth": 0,
              "ticks": ""
             }
            },
            "type": "scatterpolar"
           }
          ],
          "scatterpolargl": [
           {
            "marker": {
             "colorbar": {
              "outlinewidth": 0,
              "ticks": ""
             }
            },
            "type": "scatterpolargl"
           }
          ],
          "scatterternary": [
           {
            "marker": {
             "colorbar": {
              "outlinewidth": 0,
              "ticks": ""
             }
            },
            "type": "scatterternary"
           }
          ],
          "surface": [
           {
            "colorbar": {
             "outlinewidth": 0,
             "ticks": ""
            },
            "colorscale": [
             [
              0,
              "#0d0887"
             ],
             [
              0.1111111111111111,
              "#46039f"
             ],
             [
              0.2222222222222222,
              "#7201a8"
             ],
             [
              0.3333333333333333,
              "#9c179e"
             ],
             [
              0.4444444444444444,
              "#bd3786"
             ],
             [
              0.5555555555555556,
              "#d8576b"
             ],
             [
              0.6666666666666666,
              "#ed7953"
             ],
             [
              0.7777777777777778,
              "#fb9f3a"
             ],
             [
              0.8888888888888888,
              "#fdca26"
             ],
             [
              1,
              "#f0f921"
             ]
            ],
            "type": "surface"
           }
          ],
          "table": [
           {
            "cells": {
             "fill": {
              "color": "#EBF0F8"
             },
             "line": {
              "color": "white"
             }
            },
            "header": {
             "fill": {
              "color": "#C8D4E3"
             },
             "line": {
              "color": "white"
             }
            },
            "type": "table"
           }
          ]
         },
         "layout": {
          "annotationdefaults": {
           "arrowcolor": "#2a3f5f",
           "arrowhead": 0,
           "arrowwidth": 1
          },
          "autotypenumbers": "strict",
          "coloraxis": {
           "colorbar": {
            "outlinewidth": 0,
            "ticks": ""
           }
          },
          "colorscale": {
           "diverging": [
            [
             0,
             "#8e0152"
            ],
            [
             0.1,
             "#c51b7d"
            ],
            [
             0.2,
             "#de77ae"
            ],
            [
             0.3,
             "#f1b6da"
            ],
            [
             0.4,
             "#fde0ef"
            ],
            [
             0.5,
             "#f7f7f7"
            ],
            [
             0.6,
             "#e6f5d0"
            ],
            [
             0.7,
             "#b8e186"
            ],
            [
             0.8,
             "#7fbc41"
            ],
            [
             0.9,
             "#4d9221"
            ],
            [
             1,
             "#276419"
            ]
           ],
           "sequential": [
            [
             0,
             "#0d0887"
            ],
            [
             0.1111111111111111,
             "#46039f"
            ],
            [
             0.2222222222222222,
             "#7201a8"
            ],
            [
             0.3333333333333333,
             "#9c179e"
            ],
            [
             0.4444444444444444,
             "#bd3786"
            ],
            [
             0.5555555555555556,
             "#d8576b"
            ],
            [
             0.6666666666666666,
             "#ed7953"
            ],
            [
             0.7777777777777778,
             "#fb9f3a"
            ],
            [
             0.8888888888888888,
             "#fdca26"
            ],
            [
             1,
             "#f0f921"
            ]
           ],
           "sequentialminus": [
            [
             0,
             "#0d0887"
            ],
            [
             0.1111111111111111,
             "#46039f"
            ],
            [
             0.2222222222222222,
             "#7201a8"
            ],
            [
             0.3333333333333333,
             "#9c179e"
            ],
            [
             0.4444444444444444,
             "#bd3786"
            ],
            [
             0.5555555555555556,
             "#d8576b"
            ],
            [
             0.6666666666666666,
             "#ed7953"
            ],
            [
             0.7777777777777778,
             "#fb9f3a"
            ],
            [
             0.8888888888888888,
             "#fdca26"
            ],
            [
             1,
             "#f0f921"
            ]
           ]
          },
          "colorway": [
           "#636efa",
           "#EF553B",
           "#00cc96",
           "#ab63fa",
           "#FFA15A",
           "#19d3f3",
           "#FF6692",
           "#B6E880",
           "#FF97FF",
           "#FECB52"
          ],
          "font": {
           "color": "#2a3f5f"
          },
          "geo": {
           "bgcolor": "white",
           "lakecolor": "white",
           "landcolor": "#E5ECF6",
           "showlakes": true,
           "showland": true,
           "subunitcolor": "white"
          },
          "hoverlabel": {
           "align": "left"
          },
          "hovermode": "closest",
          "mapbox": {
           "style": "light"
          },
          "paper_bgcolor": "white",
          "plot_bgcolor": "#E5ECF6",
          "polar": {
           "angularaxis": {
            "gridcolor": "white",
            "linecolor": "white",
            "ticks": ""
           },
           "bgcolor": "#E5ECF6",
           "radialaxis": {
            "gridcolor": "white",
            "linecolor": "white",
            "ticks": ""
           }
          },
          "scene": {
           "xaxis": {
            "backgroundcolor": "#E5ECF6",
            "gridcolor": "white",
            "gridwidth": 2,
            "linecolor": "white",
            "showbackground": true,
            "ticks": "",
            "zerolinecolor": "white"
           },
           "yaxis": {
            "backgroundcolor": "#E5ECF6",
            "gridcolor": "white",
            "gridwidth": 2,
            "linecolor": "white",
            "showbackground": true,
            "ticks": "",
            "zerolinecolor": "white"
           },
           "zaxis": {
            "backgroundcolor": "#E5ECF6",
            "gridcolor": "white",
            "gridwidth": 2,
            "linecolor": "white",
            "showbackground": true,
            "ticks": "",
            "zerolinecolor": "white"
           }
          },
          "shapedefaults": {
           "line": {
            "color": "#2a3f5f"
           }
          },
          "ternary": {
           "aaxis": {
            "gridcolor": "white",
            "linecolor": "white",
            "ticks": ""
           },
           "baxis": {
            "gridcolor": "white",
            "linecolor": "white",
            "ticks": ""
           },
           "bgcolor": "#E5ECF6",
           "caxis": {
            "gridcolor": "white",
            "linecolor": "white",
            "ticks": ""
           }
          },
          "title": {
           "x": 0.05
          },
          "xaxis": {
           "automargin": true,
           "gridcolor": "white",
           "linecolor": "white",
           "ticks": "",
           "title": {
            "standoff": 15
           },
           "zerolinecolor": "white",
           "zerolinewidth": 2
          },
          "yaxis": {
           "automargin": true,
           "gridcolor": "white",
           "linecolor": "white",
           "ticks": "",
           "title": {
            "standoff": 15
           },
           "zerolinecolor": "white",
           "zerolinewidth": 2
          }
         }
        },
        "title": {
         "text": "Total Points Scored by Players 2015"
        },
        "xaxis": {
         "anchor": "y",
         "domain": [
          0,
          1
         ],
         "title": {
          "text": "Total Points Scored"
         }
        },
        "yaxis": {
         "anchor": "x",
         "domain": [
          0,
          1
         ],
         "title": {
          "text": "Number of Games Played"
         }
        }
       }
      }
     },
     "metadata": {},
     "output_type": "display_data"
    }
   ],
   "source": [
    "# try with hover_name\n",
    "fig4 = px.scatter(_2015seasons_df, x=\"PTS\", y=\"G\", color='Pos', size_max=25, \n",
    "                    title=\"Total Points Scored by Players 2015\", \n",
    "                    labels= {\n",
    "                        \"Pos\" : \"Position\", \"G\" : \"Number of Games Played\", \"PTS\": \"Total Points Scored\"\n",
    "                    }, hover_name=_2015seasons_df[\"Player\"])\n",
    "fig4.show()"
   ]
  },
  {
   "cell_type": "code",
   "execution_count": 33,
   "metadata": {},
   "outputs": [
    {
     "data": {
      "text/plain": [
       "<AxesSubplot:xlabel='PTS', ylabel='G'>"
      ]
     },
     "execution_count": 33,
     "metadata": {},
     "output_type": "execute_result"
    },
    {
     "data": {
      "image/png": "[encoded data removed]",
      "text/plain": [
       "<Figure size 432x288 with 2 Axes>"
      ]
     },
     "metadata": {
      "needs_background": "light"
     },
     "output_type": "display_data"
    }
   ],
   "source": [
    "_2015seasons_df.plot(kind='hexbin', x='PTS', y='G', gridsize = 13)\n"
   ]
  },
  {
   "cell_type": "code",
   "execution_count": 34,
   "metadata": {},
   "outputs": [
    {
     "data": {
      "text/plain": [
       "<AxesSubplot:xlabel='PTS', ylabel='G'>"
      ]
     },
     "execution_count": 34,
     "metadata": {},
     "output_type": "execute_result"
    },
    {
     "data": {
      "image/png": "[encoded data removed]",
      "text/plain": [
       "<Figure size 432x288 with 1 Axes>"
      ]
     },
     "metadata": {
      "needs_background": "light"
     },
     "output_type": "display_data"
    }
   ],
   "source": [
    "import seaborn as sns\n",
    "\n",
    "sns.kdeplot(x=_2015seasons_df[\"PTS\"], y=_2015seasons_df[\"G\"], cmap=\"Blues\", shade=True)"
   ]
  },
  {
   "cell_type": "code",
   "execution_count": 43,
   "metadata": {},
   "outputs": [
    {
     "data": {
      "application/vnd.plotly.v1+json": {
       "config": {
        "plotlyServerURL": "https://plot.ly"
       },
       "data": [
        {
         "hovertemplate": "<b>%{hovertext}</b><br><br>Total Points Scored=%{x}<br>Number of Games Played=%{y}<extra></extra>",
         "hovertext": [
          "Al-Farouq Aminu",
          "Kyle Anderson",
          "Carmelo Anthony",
          "Trevor Ariza",
          "Luke Babbitt",
          "Harrison Barnes",
          "Matt Barnes",
          "Nicolas Batum",
          "Bojan Bogdanovic",
          "Corey Brewer",
          "Corey Brewer",
          "Corey Brewer",
          "Chase Budinger",
          "Reggie Bullock",
          "Reggie Bullock",
          "Reggie Bullock",
          "Caron Butler",
          "Rasual Butler",
          "Bruno Caboclo",
          "DeMarre Carroll",
          "Omri Casspi",
          "Wilson Chandler",
          "Victor Claver",
          "Chris Copeland",
          "Robert Covington",
          "Jae Crowder",
          "Jae Crowder",
          "Jae Crowder",
          "Luigi Datome",
          "Luigi Datome",
          "Luigi Datome",
          "Austin Daye",
          "Austin Daye",
          "Austin Daye",
          "Luol Deng",
          "Mike Dunleavy",
          "Kevin Durant",
          "Cleanthony Early",
          "James Ennis",
          "Jeremy Evans",
          "Landry Fields",
          "Danilo Gallinari",
          "Francisco Garcia",
          "Rudy Gay",
          "Alonzo Gee",
          "Alonzo Gee",
          "Alonzo Gee",
          "Paul George",
          "Danny Granger",
          "Jerami Grant",
          "Jeff Green",
          "Jeff Green",
          "Jeff Green",
          "Jordan Hamilton",
          "Maurice Harkless",
          "Tobias Harris",
          "Gordon Hayward",
          "Xavier Henry",
          "Solomon Hill",
          "Robbie Hummel",
          "Andre Iguodala",
          "Joe Ingles",
          "LeBron James",
          "Richard Jefferson",
          "Chris Johnson",
          "Chris Johnson",
          "Chris Johnson",
          "Chris Johnson",
          "Wesley Johnson",
          "Dahntay Jones",
          "James Jones",
          "Perry Jones",
          "Michael Kidd-Gilchrist",
          "Andrei Kirilenko",
          "Kawhi Leonard",
          "Shawn Marion",
          "Cartier Martin",
          "Doug McDermott",
          "Khris Middleton",
          "Darius Miller",
          "Mike Miller",
          "Steve Novak",
          "Kostas Papanikolaou",
          "Chandler Parsons",
          "Paul Pierce",
          "Quincy Pondexter",
          "Otto Porter",
          "Tayshaun Prince",
          "Tayshaun Prince",
          "Tayshaun Prince",
          "Tayshaun Prince",
          "Glenn Robinson",
          "Terrence Ross",
          "Damjan Rudez",
          "John Salmons",
          "JaKarr Sampson",
          "Thabo Sefolosha",
          "Kyle Singler",
          "Kyle Singler",
          "Kyle Singler",
          "Tony Snell",
          "Jeffery Taylor",
          "Lance Thomas",
          "P.J. Tucker",
          "Hedo Turkoglu",
          "Henry Walker",
          "Gerald Wallace",
          "T.J. Warren",
          "Travis Wear",
          "Martell Webster",
          "Andrew Wiggins",
          "Reggie Williams",
          "Shawne Williams",
          "Shawne Williams",
          "Shawne Williams",
          "Dorell Wright"
         ],
         "legendgroup": "",
         "marker": {
          "color": "#636efa",
          "symbol": "circle"
         },
         "mode": "markers",
         "name": "",
         "orientation": "v",
         "showlegend": false,
         "type": "scatter",
         "x": [
          412,
          74,
          966,
          1048,
          256,
          827,
          764,
          664,
          700,
          917,
          251,
          666,
          457,
          69,
          65,
          4,
          460,
          580,
          10,
          883,
          593,
          1085,
          24,
          309,
          943,
          628,
          89,
          539,
          105,
          11,
          94,
          129,
          103,
          26,
          1007,
          595,
          686,
          210,
          312,
          90,
          46,
          734,
          45,
          1432,
          241,
          190,
          51,
          53,
          188,
          411,
          1168,
          580,
          588,
          38,
          158,
          1164,
          1463,
          20,
          729,
          198,
          604,
          396,
          1743,
          432,
          166,
          54,
          81,
          31,
          753,
          21,
          250,
          184,
          598,
          3,
          1057,
          276,
          36,
          109,
          1055,
          2,
          109,
          48,
          182,
          1037,
          868,
          404,
          445,
          434,
          190,
          76,
          168,
          44,
          807,
          323,
          42,
          386,
          278,
          480,
          385,
          95,
          435,
          127,
          113,
          713,
          232,
          175,
          35,
          245,
          199,
          106,
          1387,
          37,
          341,
          292,
          49,
          219
         ],
         "xaxis": "x",
         "y": [
          74,
          33,
          40,
          82,
          63,
          82,
          76,
          71,
          78,
          80,
          24,
          56,
          67,
          36,
          25,
          11,
          78,
          75,
          8,
          70,
          67,
          78,
          10,
          50,
          70,
          82,
          25,
          57,
          21,
          3,
          18,
          34,
          26,
          8,
          72,
          63,
          27,
          39,
          62,
          38,
          26,
          59,
          14,
          68,
          54,
          39,
          15,
          6,
          30,
          65,
          78,
          33,
          45,
          14,
          45,
          68,
          76,
          9,
          82,
          45,
          77,
          79,
          69,
          74,
          29,
          9,
          12,
          8,
          76,
          33,
          57,
          43,
          55,
          7,
          64,
          57,
          23,
          36,
          79,
          5,
          52,
          22,
          43,
          66,
          73,
          45,
          74,
          58,
          26,
          9,
          23,
          10,
          82,
          68,
          21,
          74,
          52,
          80,
          54,
          26,
          72,
          29,
          22,
          78,
          62,
          24,
          32,
          40,
          51,
          32,
          82,
          20,
          63,
          44,
          19,
          48
         ],
         "yaxis": "y"
        }
       ],
       "layout": {
        "legend": {
         "tracegroupgap": 0
        },
        "template": {
         "data": {
          "bar": [
           {
            "error_x": {
             "color": "#2a3f5f"
            },
            "error_y": {
             "color": "#2a3f5f"
            },
            "marker": {
             "line": {
              "color": "#E5ECF6",
              "width": 0.5
             },
             "pattern": {
              "fillmode": "overlay",
              "size": 10,
              "solidity": 0.2
             }
            },
            "type": "bar"
           }
          ],
          "barpolar": [
           {
            "marker": {
             "line": {
              "color": "#E5ECF6",
              "width": 0.5
             },
             "pattern": {
              "fillmode": "overlay",
              "size": 10,
              "solidity": 0.2
             }
            },
            "type": "barpolar"
           }
          ],
          "carpet": [
           {
            "aaxis": {
             "endlinecolor": "#2a3f5f",
             "gridcolor": "white",
             "linecolor": "white",
             "minorgridcolor": "white",
             "startlinecolor": "#2a3f5f"
            },
            "baxis": {
             "endlinecolor": "#2a3f5f",
             "gridcolor": "white",
             "linecolor": "white",
             "minorgridcolor": "white",
             "startlinecolor": "#2a3f5f"
            },
            "type": "carpet"
           }
          ],
          "choropleth": [
           {
            "colorbar": {
             "outlinewidth": 0,
             "ticks": ""
            },
            "type": "choropleth"
           }
          ],
          "contour": [
           {
            "colorbar": {
             "outlinewidth": 0,
             "ticks": ""
            },
            "colorscale": [
             [
              0,
              "#0d0887"
             ],
             [
              0.1111111111111111,
              "#46039f"
             ],
             [
              0.2222222222222222,
              "#7201a8"
             ],
             [
              0.3333333333333333,
              "#9c179e"
             ],
             [
              0.4444444444444444,
              "#bd3786"
             ],
             [
              0.5555555555555556,
              "#d8576b"
             ],
             [
              0.6666666666666666,
              "#ed7953"
             ],
             [
              0.7777777777777778,
              "#fb9f3a"
             ],
             [
              0.8888888888888888,
              "#fdca26"
             ],
             [
              1,
              "#f0f921"
             ]
            ],
            "type": "contour"
           }
          ],
          "contourcarpet": [
           {
            "colorbar": {
             "outlinewidth": 0,
             "ticks": ""
            },
            "type": "contourcarpet"
           }
          ],
          "heatmap": [
           {
            "colorbar": {
             "outlinewidth": 0,
             "ticks": ""
            },
            "colorscale": [
             [
              0,
              "#0d0887"
             ],
             [
              0.1111111111111111,
              "#46039f"
             ],
             [
              0.2222222222222222,
              "#7201a8"
             ],
             [
              0.3333333333333333,
              "#9c179e"
             ],
             [
              0.4444444444444444,
              "#bd3786"
             ],
             [
              0.5555555555555556,
              "#d8576b"
             ],
             [
              0.6666666666666666,
              "#ed7953"
             ],
             [
              0.7777777777777778,
              "#fb9f3a"
             ],
             [
              0.8888888888888888,
              "#fdca26"
             ],
             [
              1,
              "#f0f921"
             ]
            ],
            "type": "heatmap"
           }
          ],
          "heatmapgl": [
           {
            "colorbar": {
             "outlinewidth": 0,
             "ticks": ""
            },
            "colorscale": [
             [
              0,
              "#0d0887"
             ],
             [
              0.1111111111111111,
              "#46039f"
             ],
             [
              0.2222222222222222,
              "#7201a8"
             ],
             [
              0.3333333333333333,
              "#9c179e"
             ],
             [
              0.4444444444444444,
              "#bd3786"
             ],
             [
              0.5555555555555556,
              "#d8576b"
             ],
             [
              0.6666666666666666,
              "#ed7953"
             ],
             [
              0.7777777777777778,
              "#fb9f3a"
             ],
             [
              0.8888888888888888,
              "#fdca26"
             ],
             [
              1,
              "#f0f921"
             ]
            ],
            "type": "heatmapgl"
           }
          ],
          "histogram": [
           {
            "marker": {
             "pattern": {
              "fillmode": "overlay",
              "size": 10,
              "solidity": 0.2
             }
            },
            "type": "histogram"
           }
          ],
          "histogram2d": [
           {
            "colorbar": {
             "outlinewidth": 0,
             "ticks": ""
            },
            "colorscale": [
             [
              0,
              "#0d0887"
             ],
             [
              0.1111111111111111,
              "#46039f"
             ],
             [
              0.2222222222222222,
              "#7201a8"
             ],
             [
              0.3333333333333333,
              "#9c179e"
             ],
             [
              0.4444444444444444,
              "#bd3786"
             ],
             [
              0.5555555555555556,
              "#d8576b"
             ],
             [
              0.6666666666666666,
              "#ed7953"
             ],
             [
              0.7777777777777778,
              "#fb9f3a"
             ],
             [
              0.8888888888888888,
              "#fdca26"
             ],
             [
              1,
              "#f0f921"
             ]
            ],
            "type": "histogram2d"
           }
          ],
          "histogram2dcontour": [
           {
            "colorbar": {
             "outlinewidth": 0,
             "ticks": ""
            },
            "colorscale": [
             [
              0,
              "#0d0887"
             ],
             [
              0.1111111111111111,
              "#46039f"
             ],
             [
              0.2222222222222222,
              "#7201a8"
             ],
             [
              0.3333333333333333,
              "#9c179e"
             ],
             [
              0.4444444444444444,
              "#bd3786"
             ],
             [
              0.5555555555555556,
              "#d8576b"
             ],
             [
              0.6666666666666666,
              "#ed7953"
             ],
             [
              0.7777777777777778,
              "#fb9f3a"
             ],
             [
              0.8888888888888888,
              "#fdca26"
             ],
             [
              1,
              "#f0f921"
             ]
            ],
            "type": "histogram2dcontour"
           }
          ],
          "mesh3d": [
           {
            "colorbar": {
             "outlinewidth": 0,
             "ticks": ""
            },
            "type": "mesh3d"
           }
          ],
          "parcoords": [
           {
            "line": {
             "colorbar": {
              "outlinewidth": 0,
              "ticks": ""
             }
            },
            "type": "parcoords"
           }
          ],
          "pie": [
           {
            "automargin": true,
            "type": "pie"
           }
          ],
          "scatter": [
           {
            "fillpattern": {
             "fillmode": "overlay",
             "size": 10,
             "solidity": 0.2
            },
            "type": "scatter"
           }
          ],
          "scatter3d": [
           {
            "line": {
             "colorbar": {
              "outlinewidth": 0,
              "ticks": ""
             }
            },
            "marker": {
             "colorbar": {
              "outlinewidth": 0,
              "ticks": ""
             }
            },
            "type": "scatter3d"
           }
          ],
          "scattercarpet": [
           {
            "marker": {
             "colorbar": {
              "outlinewidth": 0,
              "ticks": ""
             }
            },
            "type": "scattercarpet"
           }
          ],
          "scattergeo": [
           {
            "marker": {
             "colorbar": {
              "outlinewidth": 0,
              "ticks": ""
             }
            },
            "type": "scattergeo"
           }
          ],
          "scattergl": [
           {
            "marker": {
             "colorbar": {
              "outlinewidth": 0,
              "ticks": ""
             }
            },
            "type": "scattergl"
           }
          ],
          "scattermapbox": [
           {
            "marker": {
             "colorbar": {
              "outlinewidth": 0,
              "ticks": ""
             }
            },
            "type": "scattermapbox"
           }
          ],
          "scatterpolar": [
           {
            "marker": {
             "colorbar": {
              "outlinewidth": 0,
              "ticks": ""
             }
            },
            "type": "scatterpolar"
           }
          ],
          "scatterpolargl": [
           {
            "marker": {
             "colorbar": {
              "outlinewidth": 0,
              "ticks": ""
             }
            },
            "type": "scatterpolargl"
           }
          ],
          "scatterternary": [
           {
            "marker": {
             "colorbar": {
              "outlinewidth": 0,
              "ticks": ""
             }
            },
            "type": "scatterternary"
           }
          ],
          "surface": [
           {
            "colorbar": {
             "outlinewidth": 0,
             "ticks": ""
            },
            "colorscale": [
             [
              0,
              "#0d0887"
             ],
             [
              0.1111111111111111,
              "#46039f"
             ],
             [
              0.2222222222222222,
              "#7201a8"
             ],
             [
              0.3333333333333333,
              "#9c179e"
             ],
             [
              0.4444444444444444,
              "#bd3786"
             ],
             [
              0.5555555555555556,
              "#d8576b"
             ],
             [
              0.6666666666666666,
              "#ed7953"
             ],
             [
              0.7777777777777778,
              "#fb9f3a"
             ],
             [
              0.8888888888888888,
              "#fdca26"
             ],
             [
              1,
              "#f0f921"
             ]
            ],
            "type": "surface"
           }
          ],
          "table": [
           {
            "cells": {
             "fill": {
              "color": "#EBF0F8"
             },
             "line": {
              "color": "white"
             }
            },
            "header": {
             "fill": {
              "color": "#C8D4E3"
             },
             "line": {
              "color": "white"
             }
            },
            "type": "table"
           }
          ]
         },
         "layout": {
          "annotationdefaults": {
           "arrowcolor": "#2a3f5f",
           "arrowhead": 0,
           "arrowwidth": 1
          },
          "autotypenumbers": "strict",
          "coloraxis": {
           "colorbar": {
            "outlinewidth": 0,
            "ticks": ""
           }
          },
          "colorscale": {
           "diverging": [
            [
             0,
             "#8e0152"
            ],
            [
             0.1,
             "#c51b7d"
            ],
            [
             0.2,
             "#de77ae"
            ],
            [
             0.3,
             "#f1b6da"
            ],
            [
             0.4,
             "#fde0ef"
            ],
            [
             0.5,
             "#f7f7f7"
            ],
            [
             0.6,
             "#e6f5d0"
            ],
            [
             0.7,
             "#b8e186"
            ],
            [
             0.8,
             "#7fbc41"
            ],
            [
             0.9,
             "#4d9221"
            ],
            [
             1,
             "#276419"
            ]
           ],
           "sequential": [
            [
             0,
             "#0d0887"
            ],
            [
             0.1111111111111111,
             "#46039f"
            ],
            [
             0.2222222222222222,
             "#7201a8"
            ],
            [
             0.3333333333333333,
             "#9c179e"
            ],
            [
             0.4444444444444444,
             "#bd3786"
            ],
            [
             0.5555555555555556,
             "#d8576b"
            ],
            [
             0.6666666666666666,
             "#ed7953"
            ],
            [
             0.7777777777777778,
             "#fb9f3a"
            ],
            [
             0.8888888888888888,
             "#fdca26"
            ],
            [
             1,
             "#f0f921"
            ]
           ],
           "sequentialminus": [
            [
             0,
             "#0d0887"
            ],
            [
             0.1111111111111111,
             "#46039f"
            ],
            [
             0.2222222222222222,
             "#7201a8"
            ],
            [
             0.3333333333333333,
             "#9c179e"
            ],
            [
             0.4444444444444444,
             "#bd3786"
            ],
            [
             0.5555555555555556,
             "#d8576b"
            ],
            [
             0.6666666666666666,
             "#ed7953"
            ],
            [
             0.7777777777777778,
             "#fb9f3a"
            ],
            [
             0.8888888888888888,
             "#fdca26"
            ],
            [
             1,
             "#f0f921"
            ]
           ]
          },
          "colorway": [
           "#636efa",
           "#EF553B",
           "#00cc96",
           "#ab63fa",
           "#FFA15A",
           "#19d3f3",
           "#FF6692",
           "#B6E880",
           "#FF97FF",
           "#FECB52"
          ],
          "font": {
           "color": "#2a3f5f"
          },
          "geo": {
           "bgcolor": "white",
           "lakecolor": "white",
           "landcolor": "#E5ECF6",
           "showlakes": true,
           "showland": true,
           "subunitcolor": "white"
          },
          "hoverlabel": {
           "align": "left"
          },
          "hovermode": "closest",
          "mapbox": {
           "style": "light"
          },
          "paper_bgcolor": "white",
          "plot_bgcolor": "#E5ECF6",
          "polar": {
           "angularaxis": {
            "gridcolor": "white",
            "linecolor": "white",
            "ticks": ""
           },
           "bgcolor": "#E5ECF6",
           "radialaxis": {
            "gridcolor": "white",
            "linecolor": "white",
            "ticks": ""
           }
          },
          "scene": {
           "xaxis": {
            "backgroundcolor": "#E5ECF6",
            "gridcolor": "white",
            "gridwidth": 2,
            "linecolor": "white",
            "showbackground": true,
            "ticks": "",
            "zerolinecolor": "white"
           },
           "yaxis": {
            "backgroundcolor": "#E5ECF6",
            "gridcolor": "white",
            "gridwidth": 2,
            "linecolor": "white",
            "showbackground": true,
            "ticks": "",
            "zerolinecolor": "white"
           },
           "zaxis": {
            "backgroundcolor": "#E5ECF6",
            "gridcolor": "white",
            "gridwidth": 2,
            "linecolor": "white",
            "showbackground": true,
            "ticks": "",
            "zerolinecolor": "white"
           }
          },
          "shapedefaults": {
           "line": {
            "color": "#2a3f5f"
           }
          },
          "ternary": {
           "aaxis": {
            "gridcolor": "white",
            "linecolor": "white",
            "ticks": ""
           },
           "baxis": {
            "gridcolor": "white",
            "linecolor": "white",
            "ticks": ""
           },
           "bgcolor": "#E5ECF6",
           "caxis": {
            "gridcolor": "white",
            "linecolor": "white",
            "ticks": ""
           }
          },
          "title": {
           "x": 0.05
          },
          "xaxis": {
           "automargin": true,
           "gridcolor": "white",
           "linecolor": "white",
           "ticks": "",
           "title": {
            "standoff": 15
           },
           "zerolinecolor": "white",
           "zerolinewidth": 2
          },
          "yaxis": {
           "automargin": true,
           "gridcolor": "white",
           "linecolor": "white",
           "ticks": "",
           "title": {
            "standoff": 15
           },
           "zerolinecolor": "white",
           "zerolinewidth": 2
          }
         }
        },
        "title": {
         "text": "Total Points Scored by SF  2015"
        },
        "xaxis": {
         "anchor": "y",
         "domain": [
          0,
          1
         ],
         "range": [
          0,
          2500
         ],
         "title": {
          "text": "Total Points Scored"
         }
        },
        "yaxis": {
         "anchor": "x",
         "domain": [
          0,
          1
         ],
         "title": {
          "text": "Number of Games Played"
         }
        }
       }
      }
     },
     "metadata": {},
     "output_type": "display_data"
    }
   ],
   "source": [
    "sf_2015season_df = _2015seasons_df[_2015seasons_df[\"Pos\"] == 'SF']\n",
    "SF_fig = px.scatter(sf_2015season_df, x=\"PTS\", y=\"G\", size_max=25, \n",
    "                    title=\"Total Points Scored by SF  2015\", \n",
    "                    labels= { \"G\" : \"Number of Games Played\", \"PTS\": \"Total Points Scored\"\n",
    "                    }, hover_name=sf_2015season_df[\"Player\"])\n",
    "SF_fig.update_layout(xaxis_range=[0,2500])\n",
    "SF_fig.show()"
   ]
  },
  {
   "cell_type": "code",
   "execution_count": 42,
   "metadata": {},
   "outputs": [
    {
     "data": {
      "application/vnd.plotly.v1+json": {
       "config": {
        "plotlyServerURL": "https://plot.ly"
       },
       "data": [
        {
         "hovertemplate": "<b>%{hovertext}</b><br><br>Total Points Scored=%{x}<br>Number of Games Played=%{y}<extra></extra>",
         "hovertext": [
          "Jordan Adams",
          "Arron Afflalo",
          "Arron Afflalo",
          "Arron Afflalo",
          "Tony Allen",
          "Alan Anderson",
          "Giannis Antetokounmpo",
          "Leandro Barbosa",
          "Will Barton",
          "Will Barton",
          "Will Barton",
          "Kent Bazemore",
          "Bradley Beal",
          "Marco Belinelli",
          "Vander Blue",
          "Avery Bradley",
          "Jabari Brown",
          "Markel Brown",
          "Shannon Brown",
          "Kobe Bryant",
          "Alec Burks",
          "Jimmy Butler",
          "Will Bynum",
          "Nick Calathes",
          "Kentavious Caldwell-Pope",
          "Vince Carter",
          "Patrick Christopher",
          "Ian Clark",
          "Ian Clark",
          "Ian Clark",
          "Allen Crabbe",
          "Jamal Crawford",
          "Jared Cunningham",
          "Troy Daniels",
          "Troy Daniels",
          "Troy Daniels",
          "Troy Daniels",
          "Andre Dawkins",
          "Matthew Dellavedova",
          "DeMar DeRozan",
          "Toney Douglas",
          "Chris Douglas-Roberts",
          "Goran Dragic",
          "Zoran Dragic",
          "Zoran Dragic",
          "Zoran Dragic",
          "Jared Dudley",
          "Wayne Ellington",
          "Monta Ellis",
          "Tyreke Evans",
          "Evan Fournier",
          "Randy Foye",
          "Jamaal Franklin",
          "Manu Ginobili",
          "Archie Goodwin",
          "Ben Gordon",
          "Eric Gordon",
          "Danny Green",
          "Gerald Green",
          "Willie Green",
          "P.J. Hairston",
          "Tim Hardaway",
          "James Harden",
          "Gary Harris",
          "Joe Harris",
          "Gerald Henderson",
          "Kirk Hinrich",
          "Justin Holiday",
          "Rodney Hood",
          "Lester Hudson",
          "John Jenkins",
          "Joe Johnson",
          "Nick Johnson",
          "Tyler Johnson",
          "Sergey Karasev",
          "Sean Kilpatrick",
          "Brandon Knight",
          "Kyle Korver",
          "Jeremy Lamb",
          "Ricky Ledo",
          "Ricky Ledo",
          "Ricky Ledo",
          "Courtney Lee",
          "Malcolm Lee",
          "Devyn Marble",
          "Kevin Martin",
          "Wesley Matthews",
          "O.J. Mayo",
          "C.J. McCollum",
          "K.J. McDaniels",
          "K.J. McDaniels",
          "K.J. McDaniels",
          "Ben McLemore",
          "Jodie Meeks",
          "C.J. Miles",
          "Elijah Millsap",
          "E'Twaun Moore",
          "Anthony Morrow",
          "Shabazz Muhammad",
          "Toure' Murry",
          "Gary Neal",
          "Gary Neal",
          "Gary Neal",
          "Victor Oladipo",
          "Quincy Pondexter",
          "J.J. Redick",
          "Glen Rice",
          "Jason Richardson",
          "Austin Rivers",
          "Andre Roberson",
          "Glenn Robinson",
          "Brandon Rush",
          "Iman Shumpert",
          "Iman Shumpert",
          "Iman Shumpert",
          "Alexey Shved",
          "Alexey Shved",
          "Alexey Shved",
          "Alexey Shved",
          "J.R. Smith",
          "J.R. Smith",
          "J.R. Smith",
          "Nik Stauskas",
          "Lance Stephenson",
          "Garrett Temple",
          "Jason Terry",
          "Hollis Thompson",
          "Klay Thompson",
          "Marcus Thornton",
          "Marcus Thornton",
          "Marcus Thornton",
          "Evan Turner",
          "Dwyane Wade",
          "Dion Waiters",
          "Dion Waiters",
          "Dion Waiters",
          "C.J. Wilcox",
          "Elliot Williams",
          "Elliot Williams",
          "Elliot Williams",
          "Lou Williams",
          "James Young",
          "Nick Young"
         ],
         "legendgroup": "",
         "marker": {
          "color": "#636efa",
          "symbol": "circle"
         },
         "mode": "markers",
         "name": "",
         "orientation": "v",
         "showlegend": false,
         "type": "scatter",
         "x": [
          94,
          1035,
          771,
          264,
          539,
          545,
          1030,
          467,
          397,
          90,
          307,
          390,
          962,
          568,
          22,
          1071,
          227,
          216,
          20,
          782,
          374,
          1301,
          22,
          243,
          1043,
          384,
          6,
          57,
          44,
          13,
          168,
          1010,
          35,
          176,
          46,
          53,
          77,
          3,
          319,
          1204,
          51,
          19,
          843,
          28,
          6,
          22,
          518,
          650,
          1513,
          1313,
          698,
          435,
          3,
          738,
          231,
          349,
          818,
          946,
          884,
          306,
          254,
          804,
          2217,
          188,
          136,
          969,
          377,
          254,
          433,
          18,
          135,
          1154,
          74,
          190,
          153,
          22,
          147,
          911,
          295,
          90,
          1,
          89,
          777,
          0,
          37,
          779,
          956,
          806,
          424,
          487,
          476,
          11,
          996,
          663,
          942,
          248,
          149,
          790,
          512,
          6,
          543,
          413,
          130,
          1292,
          134,
          1277,
          11,
          172,
          239,
          228,
          29,
          30,
          496,
          224,
          272,
          434,
          169,
          29,
          236,
          847,
          261,
          586,
          319,
          501,
          204,
          541,
          626,
          1668,
          380,
          348,
          32,
          779,
          1331,
          940,
          345,
          595,
          41,
          37,
          18,
          19,
          1242,
          105,
          563
         ],
         "xaxis": "x",
         "y": [
          30,
          78,
          53,
          25,
          63,
          74,
          81,
          66,
          58,
          30,
          28,
          75,
          63,
          62,
          2,
          77,
          19,
          47,
          5,
          35,
          27,
          65,
          7,
          58,
          82,
          66,
          4,
          30,
          23,
          7,
          51,
          64,
          19,
          47,
          17,
          19,
          11,
          4,
          67,
          60,
          12,
          12,
          52,
          16,
          6,
          10,
          72,
          65,
          80,
          79,
          58,
          50,
          3,
          70,
          41,
          56,
          61,
          81,
          74,
          52,
          45,
          70,
          81,
          55,
          51,
          80,
          66,
          59,
          50,
          5,
          24,
          80,
          28,
          32,
          33,
          4,
          11,
          75,
          47,
          17,
          5,
          12,
          77,
          1,
          16,
          39,
          60,
          71,
          62,
          62,
          52,
          10,
          82,
          60,
          70,
          47,
          56,
          74,
          38,
          4,
          54,
          43,
          11,
          72,
          30,
          78,
          5,
          19,
          35,
          67,
          25,
          33,
          62,
          24,
          38,
          42,
          17,
          9,
          16,
          70,
          24,
          46,
          73,
          61,
          52,
          77,
          71,
          77,
          48,
          39,
          9,
          82,
          62,
          80,
          33,
          47,
          21,
          13,
          5,
          8,
          80,
          31,
          42
         ],
         "yaxis": "y"
        }
       ],
       "layout": {
        "legend": {
         "tracegroupgap": 0
        },
        "template": {
         "data": {
          "bar": [
           {
            "error_x": {
             "color": "#2a3f5f"
            },
            "error_y": {
             "color": "#2a3f5f"
            },
            "marker": {
             "line": {
              "color": "#E5ECF6",
              "width": 0.5
             },
             "pattern": {
              "fillmode": "overlay",
              "size": 10,
              "solidity": 0.2
             }
            },
            "type": "bar"
           }
          ],
          "barpolar": [
           {
            "marker": {
             "line": {
              "color": "#E5ECF6",
              "width": 0.5
             },
             "pattern": {
              "fillmode": "overlay",
              "size": 10,
              "solidity": 0.2
             }
            },
            "type": "barpolar"
           }
          ],
          "carpet": [
           {
            "aaxis": {
             "endlinecolor": "#2a3f5f",
             "gridcolor": "white",
             "linecolor": "white",
             "minorgridcolor": "white",
             "startlinecolor": "#2a3f5f"
            },
            "baxis": {
             "endlinecolor": "#2a3f5f",
             "gridcolor": "white",
             "linecolor": "white",
             "minorgridcolor": "white",
             "startlinecolor": "#2a3f5f"
            },
            "type": "carpet"
           }
          ],
          "choropleth": [
           {
            "colorbar": {
             "outlinewidth": 0,
             "ticks": ""
            },
            "type": "choropleth"
           }
          ],
          "contour": [
           {
            "colorbar": {
             "outlinewidth": 0,
             "ticks": ""
            },
            "colorscale": [
             [
              0,
              "#0d0887"
             ],
             [
              0.1111111111111111,
              "#46039f"
             ],
             [
              0.2222222222222222,
              "#7201a8"
             ],
             [
              0.3333333333333333,
              "#9c179e"
             ],
             [
              0.4444444444444444,
              "#bd3786"
             ],
             [
              0.5555555555555556,
              "#d8576b"
             ],
             [
              0.6666666666666666,
              "#ed7953"
             ],
             [
              0.7777777777777778,
              "#fb9f3a"
             ],
             [
              0.8888888888888888,
              "#fdca26"
             ],
             [
              1,
              "#f0f921"
             ]
            ],
            "type": "contour"
           }
          ],
          "contourcarpet": [
           {
            "colorbar": {
             "outlinewidth": 0,
             "ticks": ""
            },
            "type": "contourcarpet"
           }
          ],
          "heatmap": [
           {
            "colorbar": {
             "outlinewidth": 0,
             "ticks": ""
            },
            "colorscale": [
             [
              0,
              "#0d0887"
             ],
             [
              0.1111111111111111,
              "#46039f"
             ],
             [
              0.2222222222222222,
              "#7201a8"
             ],
             [
              0.3333333333333333,
              "#9c179e"
             ],
             [
              0.4444444444444444,
              "#bd3786"
             ],
             [
              0.5555555555555556,
              "#d8576b"
             ],
             [
              0.6666666666666666,
              "#ed7953"
             ],
             [
              0.7777777777777778,
              "#fb9f3a"
             ],
             [
              0.8888888888888888,
              "#fdca26"
             ],
             [
              1,
              "#f0f921"
             ]
            ],
            "type": "heatmap"
           }
          ],
          "heatmapgl": [
           {
            "colorbar": {
             "outlinewidth": 0,
             "ticks": ""
            },
            "colorscale": [
             [
              0,
              "#0d0887"
             ],
             [
              0.1111111111111111,
              "#46039f"
             ],
             [
              0.2222222222222222,
              "#7201a8"
             ],
             [
              0.3333333333333333,
              "#9c179e"
             ],
             [
              0.4444444444444444,
              "#bd3786"
             ],
             [
              0.5555555555555556,
              "#d8576b"
             ],
             [
              0.6666666666666666,
              "#ed7953"
             ],
             [
              0.7777777777777778,
              "#fb9f3a"
             ],
             [
              0.8888888888888888,
              "#fdca26"
             ],
             [
              1,
              "#f0f921"
             ]
            ],
            "type": "heatmapgl"
           }
          ],
          "histogram": [
           {
            "marker": {
             "pattern": {
              "fillmode": "overlay",
              "size": 10,
              "solidity": 0.2
             }
            },
            "type": "histogram"
           }
          ],
          "histogram2d": [
           {
            "colorbar": {
             "outlinewidth": 0,
             "ticks": ""
            },
            "colorscale": [
             [
              0,
              "#0d0887"
             ],
             [
              0.1111111111111111,
              "#46039f"
             ],
             [
              0.2222222222222222,
              "#7201a8"
             ],
             [
              0.3333333333333333,
              "#9c179e"
             ],
             [
              0.4444444444444444,
              "#bd3786"
             ],
             [
              0.5555555555555556,
              "#d8576b"
             ],
             [
              0.6666666666666666,
              "#ed7953"
             ],
             [
              0.7777777777777778,
              "#fb9f3a"
             ],
             [
              0.8888888888888888,
              "#fdca26"
             ],
             [
              1,
              "#f0f921"
             ]
            ],
            "type": "histogram2d"
           }
          ],
          "histogram2dcontour": [
           {
            "colorbar": {
             "outlinewidth": 0,
             "ticks": ""
            },
            "colorscale": [
             [
              0,
              "#0d0887"
             ],
             [
              0.1111111111111111,
              "#46039f"
             ],
             [
              0.2222222222222222,
              "#7201a8"
             ],
             [
              0.3333333333333333,
              "#9c179e"
             ],
             [
              0.4444444444444444,
              "#bd3786"
             ],
             [
              0.5555555555555556,
              "#d8576b"
             ],
             [
              0.6666666666666666,
              "#ed7953"
             ],
             [
              0.7777777777777778,
              "#fb9f3a"
             ],
             [
              0.8888888888888888,
              "#fdca26"
             ],
             [
              1,
              "#f0f921"
             ]
            ],
            "type": "histogram2dcontour"
           }
          ],
          "mesh3d": [
           {
            "colorbar": {
             "outlinewidth": 0,
             "ticks": ""
            },
            "type": "mesh3d"
           }
          ],
          "parcoords": [
           {
            "line": {
             "colorbar": {
              "outlinewidth": 0,
              "ticks": ""
             }
            },
            "type": "parcoords"
           }
          ],
          "pie": [
           {
            "automargin": true,
            "type": "pie"
           }
          ],
          "scatter": [
           {
            "fillpattern": {
             "fillmode": "overlay",
             "size": 10,
             "solidity": 0.2
            },
            "type": "scatter"
           }
          ],
          "scatter3d": [
           {
            "line": {
             "colorbar": {
              "outlinewidth": 0,
              "ticks": ""
             }
            },
            "marker": {
             "colorbar": {
              "outlinewidth": 0,
              "ticks": ""
             }
            },
            "type": "scatter3d"
           }
          ],
          "scattercarpet": [
           {
            "marker": {
             "colorbar": {
              "outlinewidth": 0,
              "ticks": ""
             }
            },
            "type": "scattercarpet"
           }
          ],
          "scattergeo": [
           {
            "marker": {
             "colorbar": {
              "outlinewidth": 0,
              "ticks": ""
             }
            },
            "type": "scattergeo"
           }
          ],
          "scattergl": [
           {
            "marker": {
             "colorbar": {
              "outlinewidth": 0,
              "ticks": ""
             }
            },
            "type": "scattergl"
           }
          ],
          "scattermapbox": [
           {
            "marker": {
             "colorbar": {
              "outlinewidth": 0,
              "ticks": ""
             }
            },
            "type": "scattermapbox"
           }
          ],
          "scatterpolar": [
           {
            "marker": {
             "colorbar": {
              "outlinewidth": 0,
              "ticks": ""
             }
            },
            "type": "scatterpolar"
           }
          ],
          "scatterpolargl": [
           {
            "marker": {
             "colorbar": {
              "outlinewidth": 0,
              "ticks": ""
             }
            },
            "type": "scatterpolargl"
           }
          ],
          "scatterternary": [
           {
            "marker": {
             "colorbar": {
              "outlinewidth": 0,
              "ticks": ""
             }
            },
            "type": "scatterternary"
           }
          ],
          "surface": [
           {
            "colorbar": {
             "outlinewidth": 0,
             "ticks": ""
            },
            "colorscale": [
             [
              0,
              "#0d0887"
             ],
             [
              0.1111111111111111,
              "#46039f"
             ],
             [
              0.2222222222222222,
              "#7201a8"
             ],
             [
              0.3333333333333333,
              "#9c179e"
             ],
             [
              0.4444444444444444,
              "#bd3786"
             ],
             [
              0.5555555555555556,
              "#d8576b"
             ],
             [
              0.6666666666666666,
              "#ed7953"
             ],
             [
              0.7777777777777778,
              "#fb9f3a"
             ],
             [
              0.8888888888888888,
              "#fdca26"
             ],
             [
              1,
              "#f0f921"
             ]
            ],
            "type": "surface"
           }
          ],
          "table": [
           {
            "cells": {
             "fill": {
              "color": "#EBF0F8"
             },
             "line": {
              "color": "white"
             }
            },
            "header": {
             "fill": {
              "color": "#C8D4E3"
             },
             "line": {
              "color": "white"
             }
            },
            "type": "table"
           }
          ]
         },
         "layout": {
          "annotationdefaults": {
           "arrowcolor": "#2a3f5f",
           "arrowhead": 0,
           "arrowwidth": 1
          },
          "autotypenumbers": "strict",
          "coloraxis": {
           "colorbar": {
            "outlinewidth": 0,
            "ticks": ""
           }
          },
          "colorscale": {
           "diverging": [
            [
             0,
             "#8e0152"
            ],
            [
             0.1,
             "#c51b7d"
            ],
            [
             0.2,
             "#de77ae"
            ],
            [
             0.3,
             "#f1b6da"
            ],
            [
             0.4,
             "#fde0ef"
            ],
            [
             0.5,
             "#f7f7f7"
            ],
            [
             0.6,
             "#e6f5d0"
            ],
            [
             0.7,
             "#b8e186"
            ],
            [
             0.8,
             "#7fbc41"
            ],
            [
             0.9,
             "#4d9221"
            ],
            [
             1,
             "#276419"
            ]
           ],
           "sequential": [
            [
             0,
             "#0d0887"
            ],
            [
             0.1111111111111111,
             "#46039f"
            ],
            [
             0.2222222222222222,
             "#7201a8"
            ],
            [
             0.3333333333333333,
             "#9c179e"
            ],
            [
             0.4444444444444444,
             "#bd3786"
            ],
            [
             0.5555555555555556,
             "#d8576b"
            ],
            [
             0.6666666666666666,
             "#ed7953"
            ],
            [
             0.7777777777777778,
             "#fb9f3a"
            ],
            [
             0.8888888888888888,
             "#fdca26"
            ],
            [
             1,
             "#f0f921"
            ]
           ],
           "sequentialminus": [
            [
             0,
             "#0d0887"
            ],
            [
             0.1111111111111111,
             "#46039f"
            ],
            [
             0.2222222222222222,
             "#7201a8"
            ],
            [
             0.3333333333333333,
             "#9c179e"
            ],
            [
             0.4444444444444444,
             "#bd3786"
            ],
            [
             0.5555555555555556,
             "#d8576b"
            ],
            [
             0.6666666666666666,
             "#ed7953"
            ],
            [
             0.7777777777777778,
             "#fb9f3a"
            ],
            [
             0.8888888888888888,
             "#fdca26"
            ],
            [
             1,
             "#f0f921"
            ]
           ]
          },
          "colorway": [
           "#636efa",
           "#EF553B",
           "#00cc96",
           "#ab63fa",
           "#FFA15A",
           "#19d3f3",
           "#FF6692",
           "#B6E880",
           "#FF97FF",
           "#FECB52"
          ],
          "font": {
           "color": "#2a3f5f"
          },
          "geo": {
           "bgcolor": "white",
           "lakecolor": "white",
           "landcolor": "#E5ECF6",
           "showlakes": true,
           "showland": true,
           "subunitcolor": "white"
          },
          "hoverlabel": {
           "align": "left"
          },
          "hovermode": "closest",
          "mapbox": {
           "style": "light"
          },
          "paper_bgcolor": "white",
          "plot_bgcolor": "#E5ECF6",
          "polar": {
           "angularaxis": {
            "gridcolor": "white",
            "linecolor": "white",
            "ticks": ""
           },
           "bgcolor": "#E5ECF6",
           "radialaxis": {
            "gridcolor": "white",
            "linecolor": "white",
            "ticks": ""
           }
          },
          "scene": {
           "xaxis": {
            "backgroundcolor": "#E5ECF6",
            "gridcolor": "white",
            "gridwidth": 2,
            "linecolor": "white",
            "showbackground": true,
            "ticks": "",
            "zerolinecolor": "white"
           },
           "yaxis": {
            "backgroundcolor": "#E5ECF6",
            "gridcolor": "white",
            "gridwidth": 2,
            "linecolor": "white",
            "showbackground": true,
            "ticks": "",
            "zerolinecolor": "white"
           },
           "zaxis": {
            "backgroundcolor": "#E5ECF6",
            "gridcolor": "white",
            "gridwidth": 2,
            "linecolor": "white",
            "showbackground": true,
            "ticks": "",
            "zerolinecolor": "white"
           }
          },
          "shapedefaults": {
           "line": {
            "color": "#2a3f5f"
           }
          },
          "ternary": {
           "aaxis": {
            "gridcolor": "white",
            "linecolor": "white",
            "ticks": ""
           },
           "baxis": {
            "gridcolor": "white",
            "linecolor": "white",
            "ticks": ""
           },
           "bgcolor": "#E5ECF6",
           "caxis": {
            "gridcolor": "white",
            "linecolor": "white",
            "ticks": ""
           }
          },
          "title": {
           "x": 0.05
          },
          "xaxis": {
           "automargin": true,
           "gridcolor": "white",
           "linecolor": "white",
           "ticks": "",
           "title": {
            "standoff": 15
           },
           "zerolinecolor": "white",
           "zerolinewidth": 2
          },
          "yaxis": {
           "automargin": true,
           "gridcolor": "white",
           "linecolor": "white",
           "ticks": "",
           "title": {
            "standoff": 15
           },
           "zerolinecolor": "white",
           "zerolinewidth": 2
          }
         }
        },
        "title": {
         "text": "Total Points Scored by SGs in 2015"
        },
        "xaxis": {
         "anchor": "y",
         "domain": [
          0,
          1
         ],
         "range": [
          0,
          2500
         ],
         "title": {
          "text": "Total Points Scored"
         }
        },
        "yaxis": {
         "anchor": "x",
         "domain": [
          0,
          1
         ],
         "title": {
          "text": "Number of Games Played"
         }
        }
       }
      }
     },
     "metadata": {},
     "output_type": "display_data"
    }
   ],
   "source": [
    "sg_2015season_df = _2015seasons_df[_2015seasons_df[\"Pos\"] == 'SG']\n",
    "SG_fig = px.scatter(sg_2015season_df, x=\"PTS\", y=\"G\", size_max=25, \n",
    "                    title=\"Total Points Scored by SGs in 2015\", \n",
    "                    labels= { \"G\" : \"Number of Games Played\", \"PTS\": \"Total Points Scored\"\n",
    "                    }, hover_name=sg_2015season_df[\"Player\"])\n",
    "                    \n",
    "SG_fig.update_layout(xaxis_range=[0,2500])\n",
    "\n",
    "SG_fig.show()"
   ]
  },
  {
   "cell_type": "code",
   "execution_count": 44,
   "metadata": {},
   "outputs": [
    {
     "data": {
      "application/vnd.plotly.v1+json": {
       "config": {
        "plotlyServerURL": "https://plot.ly"
       },
       "data": [
        {
         "hovertemplate": "<b>%{hovertext}</b><br><br>Position=SG<br>Total Points Scored=%{x}<br>Number of Games Played=%{y}<extra></extra>",
         "hovertext": [
          "Arron Afflalo",
          "Giannis Antetokounmpo",
          "Avery Bradley",
          "Jimmy Butler",
          "Kentavious Caldwell-Pope",
          "Jamal Crawford",
          "DeMar DeRozan",
          "Monta Ellis",
          "Tyreke Evans",
          "James Harden",
          "Joe Johnson",
          "Victor Oladipo",
          "J.J. Redick",
          "Klay Thompson",
          "Dwyane Wade",
          "Lou Williams"
         ],
         "legendgroup": "SG",
         "marker": {
          "color": "#636efa",
          "symbol": "circle"
         },
         "mode": "markers",
         "name": "SG",
         "orientation": "v",
         "showlegend": true,
         "type": "scatter",
         "x": [
          1035,
          1030,
          1071,
          1301,
          1043,
          1010,
          1204,
          1513,
          1313,
          2217,
          1154,
          1292,
          1277,
          1668,
          1331,
          1242
         ],
         "xaxis": "x",
         "y": [
          78,
          81,
          77,
          65,
          82,
          64,
          60,
          80,
          79,
          81,
          80,
          72,
          78,
          77,
          62,
          80
         ],
         "yaxis": "y"
        },
        {
         "hovertemplate": "<b>%{hovertext}</b><br><br>Position=PF<br>Total Points Scored=%{x}<br>Number of Games Played=%{y}<extra></extra>",
         "hovertext": [
          "LaMarcus Aldridge",
          "Anthony Davis",
          "Derrick Favors",
          "Pau Gasol",
          "Blake Griffin",
          "Kevin Love",
          "Paul Millsap",
          "Greg Monroe",
          "Markieff Morris",
          "Dirk Nowitzki",
          "Zach Randolph",
          "Josh Smith",
          "Thaddeus Young"
         ],
         "legendgroup": "PF",
         "marker": {
          "color": "#EF553B",
          "symbol": "circle"
         },
         "mode": "markers",
         "name": "PF",
         "orientation": "v",
         "showlegend": true,
         "type": "scatter",
         "x": [
          1661,
          1656,
          1187,
          1446,
          1469,
          1228,
          1218,
          1098,
          1258,
          1333,
          1143,
          1027,
          1071
         ],
         "xaxis": "x",
         "y": [
          71,
          68,
          74,
          78,
          67,
          75,
          73,
          69,
          82,
          77,
          71,
          83,
          76
         ],
         "yaxis": "y"
        },
        {
         "hovertemplate": "<b>%{hovertext}</b><br><br>Position=SF<br>Total Points Scored=%{x}<br>Number of Games Played=%{y}<extra></extra>",
         "hovertext": [
          "Trevor Ariza",
          "Wilson Chandler",
          "Luol Deng",
          "Rudy Gay",
          "Jeff Green",
          "Tobias Harris",
          "Gordon Hayward",
          "LeBron James",
          "Kawhi Leonard",
          "Khris Middleton",
          "Chandler Parsons",
          "Andrew Wiggins"
         ],
         "legendgroup": "SF",
         "marker": {
          "color": "#00cc96",
          "symbol": "circle"
         },
         "mode": "markers",
         "name": "SF",
         "orientation": "v",
         "showlegend": true,
         "type": "scatter",
         "x": [
          1048,
          1085,
          1007,
          1432,
          1168,
          1164,
          1463,
          1743,
          1057,
          1055,
          1037,
          1387
         ],
         "xaxis": "x",
         "y": [
          82,
          78,
          72,
          68,
          78,
          68,
          76,
          69,
          64,
          79,
          66,
          82
         ],
         "yaxis": "y"
        },
        {
         "hovertemplate": "<b>%{hovertext}</b><br><br>Position=PG<br>Total Points Scored=%{x}<br>Number of Games Played=%{y}<extra></extra>",
         "hovertext": [
          "Eric Bledsoe",
          "Mike Conley",
          "Stephen Curry",
          "Kyrie Irving",
          "Reggie Jackson",
          "Ty Lawson",
          "Damian Lillard",
          "Kyle Lowry",
          "Chris Paul",
          "Jeff Teague",
          "Isaiah Thomas",
          "Kemba Walker",
          "John Wall",
          "Russell Westbrook"
         ],
         "legendgroup": "PG",
         "marker": {
          "color": "#ab63fa",
          "symbol": "circle"
         },
         "mode": "markers",
         "name": "PG",
         "orientation": "v",
         "showlegend": true,
         "type": "scatter",
         "x": [
          1377,
          1107,
          1900,
          1628,
          1117,
          1143,
          1720,
          1244,
          1564,
          1162,
          1101,
          1075,
          1387,
          1886
         ],
         "xaxis": "x",
         "y": [
          81,
          70,
          80,
          75,
          77,
          75,
          82,
          70,
          82,
          73,
          67,
          62,
          79,
          67
         ],
         "yaxis": "y"
        },
        {
         "hovertemplate": "<b>%{hovertext}</b><br><br>Position=C<br>Total Points Scored=%{x}<br>Number of Games Played=%{y}<extra></extra>",
         "hovertext": [
          "DeMarcus Cousins",
          "Andre Drummond",
          "Tim Duncan",
          "Marc Gasol",
          "Marcin Gortat",
          "Al Horford",
          "Al Jefferson",
          "Enes Kanter",
          "Brook Lopez",
          "Nikola Vucevic"
         ],
         "legendgroup": "C",
         "marker": {
          "color": "#FFA15A",
          "symbol": "circle"
         },
         "mode": "markers",
         "name": "C",
         "orientation": "v",
         "showlegend": true,
         "type": "scatter",
         "x": [
          1421,
          1130,
          1070,
          1413,
          1001,
          1156,
          1082,
          1163,
          1236,
          1428
         ],
         "xaxis": "x",
         "y": [
          59,
          82,
          77,
          81,
          82,
          76,
          65,
          75,
          72,
          74
         ],
         "yaxis": "y"
        },
        {
         "hovertemplate": "<b>%{hovertext}</b><br><br>Position=SG-PG<br>Total Points Scored=%{x}<br>Number of Games Played=%{y}<extra></extra>",
         "hovertext": [
          "Goran Dragic"
         ],
         "legendgroup": "SG-PG",
         "marker": {
          "color": "#19d3f3",
          "symbol": "circle"
         },
         "mode": "markers",
         "name": "SG-PG",
         "orientation": "v",
         "showlegend": true,
         "type": "scatter",
         "x": [
          1275
         ],
         "xaxis": "x",
         "y": [
          78
         ],
         "yaxis": "y"
        },
        {
         "hovertemplate": "<b>%{hovertext}</b><br><br>Position=PG-SG<br>Total Points Scored=%{x}<br>Number of Games Played=%{y}<extra></extra>",
         "hovertext": [
          "Brandon Knight"
         ],
         "legendgroup": "PG-SG",
         "marker": {
          "color": "#FF6692",
          "symbol": "circle"
         },
         "mode": "markers",
         "name": "PG-SG",
         "orientation": "v",
         "showlegend": true,
         "type": "scatter",
         "x": [
          1070
         ],
         "xaxis": "x",
         "y": [
          63
         ],
         "yaxis": "y"
        }
       ],
       "layout": {
        "legend": {
         "title": {
          "text": "Position"
         },
         "tracegroupgap": 0
        },
        "template": {
         "data": {
          "bar": [
           {
            "error_x": {
             "color": "#2a3f5f"
            },
            "error_y": {
             "color": "#2a3f5f"
            },
            "marker": {
             "line": {
              "color": "#E5ECF6",
              "width": 0.5
             },
             "pattern": {
              "fillmode": "overlay",
              "size": 10,
              "solidity": 0.2
             }
            },
            "type": "bar"
           }
          ],
          "barpolar": [
           {
            "marker": {
             "line": {
              "color": "#E5ECF6",
              "width": 0.5
             },
             "pattern": {
              "fillmode": "overlay",
              "size": 10,
              "solidity": 0.2
             }
            },
            "type": "barpolar"
           }
          ],
          "carpet": [
           {
            "aaxis": {
             "endlinecolor": "#2a3f5f",
             "gridcolor": "white",
             "linecolor": "white",
             "minorgridcolor": "white",
             "startlinecolor": "#2a3f5f"
            },
            "baxis": {
             "endlinecolor": "#2a3f5f",
             "gridcolor": "white",
             "linecolor": "white",
             "minorgridcolor": "white",
             "startlinecolor": "#2a3f5f"
            },
            "type": "carpet"
           }
          ],
          "choropleth": [
           {
            "colorbar": {
             "outlinewidth": 0,
             "ticks": ""
            },
            "type": "choropleth"
           }
          ],
          "contour": [
           {
            "colorbar": {
             "outlinewidth": 0,
             "ticks": ""
            },
            "colorscale": [
             [
              0,
              "#0d0887"
             ],
             [
              0.1111111111111111,
              "#46039f"
             ],
             [
              0.2222222222222222,
              "#7201a8"
             ],
             [
              0.3333333333333333,
              "#9c179e"
             ],
             [
              0.4444444444444444,
              "#bd3786"
             ],
             [
              0.5555555555555556,
              "#d8576b"
             ],
             [
              0.6666666666666666,
              "#ed7953"
             ],
             [
              0.7777777777777778,
              "#fb9f3a"
             ],
             [
              0.8888888888888888,
              "#fdca26"
             ],
             [
              1,
              "#f0f921"
             ]
            ],
            "type": "contour"
           }
          ],
          "contourcarpet": [
           {
            "colorbar": {
             "outlinewidth": 0,
             "ticks": ""
            },
            "type": "contourcarpet"
           }
          ],
          "heatmap": [
           {
            "colorbar": {
             "outlinewidth": 0,
             "ticks": ""
            },
            "colorscale": [
             [
              0,
              "#0d0887"
             ],
             [
              0.1111111111111111,
              "#46039f"
             ],
             [
              0.2222222222222222,
              "#7201a8"
             ],
             [
              0.3333333333333333,
              "#9c179e"
             ],
             [
              0.4444444444444444,
              "#bd3786"
             ],
             [
              0.5555555555555556,
              "#d8576b"
             ],
             [
              0.6666666666666666,
              "#ed7953"
             ],
             [
              0.7777777777777778,
              "#fb9f3a"
             ],
             [
              0.8888888888888888,
              "#fdca26"
             ],
             [
              1,
              "#f0f921"
             ]
            ],
            "type": "heatmap"
           }
          ],
          "heatmapgl": [
           {
            "colorbar": {
             "outlinewidth": 0,
             "ticks": ""
            },
            "colorscale": [
             [
              0,
              "#0d0887"
             ],
             [
              0.1111111111111111,
              "#46039f"
             ],
             [
              0.2222222222222222,
              "#7201a8"
             ],
             [
              0.3333333333333333,
              "#9c179e"
             ],
             [
              0.4444444444444444,
              "#bd3786"
             ],
             [
              0.5555555555555556,
              "#d8576b"
             ],
             [
              0.6666666666666666,
              "#ed7953"
             ],
             [
              0.7777777777777778,
              "#fb9f3a"
             ],
             [
              0.8888888888888888,
              "#fdca26"
             ],
             [
              1,
              "#f0f921"
             ]
            ],
            "type": "heatmapgl"
           }
          ],
          "histogram": [
           {
            "marker": {
             "pattern": {
              "fillmode": "overlay",
              "size": 10,
              "solidity": 0.2
             }
            },
            "type": "histogram"
           }
          ],
          "histogram2d": [
           {
            "colorbar": {
             "outlinewidth": 0,
             "ticks": ""
            },
            "colorscale": [
             [
              0,
              "#0d0887"
             ],
             [
              0.1111111111111111,
              "#46039f"
             ],
             [
              0.2222222222222222,
              "#7201a8"
             ],
             [
              0.3333333333333333,
              "#9c179e"
             ],
             [
              0.4444444444444444,
              "#bd3786"
             ],
             [
              0.5555555555555556,
              "#d8576b"
             ],
             [
              0.6666666666666666,
              "#ed7953"
             ],
             [
              0.7777777777777778,
              "#fb9f3a"
             ],
             [
              0.8888888888888888,
              "#fdca26"
             ],
             [
              1,
              "#f0f921"
             ]
            ],
            "type": "histogram2d"
           }
          ],
          "histogram2dcontour": [
           {
            "colorbar": {
             "outlinewidth": 0,
             "ticks": ""
            },
            "colorscale": [
             [
              0,
              "#0d0887"
             ],
             [
              0.1111111111111111,
              "#46039f"
             ],
             [
              0.2222222222222222,
              "#7201a8"
             ],
             [
              0.3333333333333333,
              "#9c179e"
             ],
             [
              0.4444444444444444,
              "#bd3786"
             ],
             [
              0.5555555555555556,
              "#d8576b"
             ],
             [
              0.6666666666666666,
              "#ed7953"
             ],
             [
              0.7777777777777778,
              "#fb9f3a"
             ],
             [
              0.8888888888888888,
              "#fdca26"
             ],
             [
              1,
              "#f0f921"
             ]
            ],
            "type": "histogram2dcontour"
           }
          ],
          "mesh3d": [
           {
            "colorbar": {
             "outlinewidth": 0,
             "ticks": ""
            },
            "type": "mesh3d"
           }
          ],
          "parcoords": [
           {
            "line": {
             "colorbar": {
              "outlinewidth": 0,
              "ticks": ""
             }
            },
            "type": "parcoords"
           }
          ],
          "pie": [
           {
            "automargin": true,
            "type": "pie"
           }
          ],
          "scatter": [
           {
            "fillpattern": {
             "fillmode": "overlay",
             "size": 10,
             "solidity": 0.2
            },
            "type": "scatter"
           }
          ],
          "scatter3d": [
           {
            "line": {
             "colorbar": {
              "outlinewidth": 0,
              "ticks": ""
             }
            },
            "marker": {
             "colorbar": {
              "outlinewidth": 0,
              "ticks": ""
             }
            },
            "type": "scatter3d"
           }
          ],
          "scattercarpet": [
           {
            "marker": {
             "colorbar": {
              "outlinewidth": 0,
              "ticks": ""
             }
            },
            "type": "scattercarpet"
           }
          ],
          "scattergeo": [
           {
            "marker": {
             "colorbar": {
              "outlinewidth": 0,
              "ticks": ""
             }
            },
            "type": "scattergeo"
           }
          ],
          "scattergl": [
           {
            "marker": {
             "colorbar": {
              "outlinewidth": 0,
              "ticks": ""
             }
            },
            "type": "scattergl"
           }
          ],
          "scattermapbox": [
           {
            "marker": {
             "colorbar": {
              "outlinewidth": 0,
              "ticks": ""
             }
            },
            "type": "scattermapbox"
           }
          ],
          "scatterpolar": [
           {
            "marker": {
             "colorbar": {
              "outlinewidth": 0,
              "ticks": ""
             }
            },
            "type": "scatterpolar"
           }
          ],
          "scatterpolargl": [
           {
            "marker": {
             "colorbar": {
              "outlinewidth": 0,
              "ticks": ""
             }
            },
            "type": "scatterpolargl"
           }
          ],
          "scatterternary": [
           {
            "marker": {
             "colorbar": {
              "outlinewidth": 0,
              "ticks": ""
             }
            },
            "type": "scatterternary"
           }
          ],
          "surface": [
           {
            "colorbar": {
             "outlinewidth": 0,
             "ticks": ""
            },
            "colorscale": [
             [
              0,
              "#0d0887"
             ],
             [
              0.1111111111111111,
              "#46039f"
             ],
             [
              0.2222222222222222,
              "#7201a8"
             ],
             [
              0.3333333333333333,
              "#9c179e"
             ],
             [
              0.4444444444444444,
              "#bd3786"
             ],
             [
              0.5555555555555556,
              "#d8576b"
             ],
             [
              0.6666666666666666,
              "#ed7953"
             ],
             [
              0.7777777777777778,
              "#fb9f3a"
             ],
             [
              0.8888888888888888,
              "#fdca26"
             ],
             [
              1,
              "#f0f921"
             ]
            ],
            "type": "surface"
           }
          ],
          "table": [
           {
            "cells": {
             "fill": {
              "color": "#EBF0F8"
             },
             "line": {
              "color": "white"
             }
            },
            "header": {
             "fill": {
              "color": "#C8D4E3"
             },
             "line": {
              "color": "white"
             }
            },
            "type": "table"
           }
          ]
         },
         "layout": {
          "annotationdefaults": {
           "arrowcolor": "#2a3f5f",
           "arrowhead": 0,
           "arrowwidth": 1
          },
          "autotypenumbers": "strict",
          "coloraxis": {
           "colorbar": {
            "outlinewidth": 0,
            "ticks": ""
           }
          },
          "colorscale": {
           "diverging": [
            [
             0,
             "#8e0152"
            ],
            [
             0.1,
             "#c51b7d"
            ],
            [
             0.2,
             "#de77ae"
            ],
            [
             0.3,
             "#f1b6da"
            ],
            [
             0.4,
             "#fde0ef"
            ],
            [
             0.5,
             "#f7f7f7"
            ],
            [
             0.6,
             "#e6f5d0"
            ],
            [
             0.7,
             "#b8e186"
            ],
            [
             0.8,
             "#7fbc41"
            ],
            [
             0.9,
             "#4d9221"
            ],
            [
             1,
             "#276419"
            ]
           ],
           "sequential": [
            [
             0,
             "#0d0887"
            ],
            [
             0.1111111111111111,
             "#46039f"
            ],
            [
             0.2222222222222222,
             "#7201a8"
            ],
            [
             0.3333333333333333,
             "#9c179e"
            ],
            [
             0.4444444444444444,
             "#bd3786"
            ],
            [
             0.5555555555555556,
             "#d8576b"
            ],
            [
             0.6666666666666666,
             "#ed7953"
            ],
            [
             0.7777777777777778,
             "#fb9f3a"
            ],
            [
             0.8888888888888888,
             "#fdca26"
            ],
            [
             1,
             "#f0f921"
            ]
           ],
           "sequentialminus": [
            [
             0,
             "#0d0887"
            ],
            [
             0.1111111111111111,
             "#46039f"
            ],
            [
             0.2222222222222222,
             "#7201a8"
            ],
            [
             0.3333333333333333,
             "#9c179e"
            ],
            [
             0.4444444444444444,
             "#bd3786"
            ],
            [
             0.5555555555555556,
             "#d8576b"
            ],
            [
             0.6666666666666666,
             "#ed7953"
            ],
            [
             0.7777777777777778,
             "#fb9f3a"
            ],
            [
             0.8888888888888888,
             "#fdca26"
            ],
            [
             1,
             "#f0f921"
            ]
           ]
          },
          "colorway": [
           "#636efa",
           "#EF553B",
           "#00cc96",
           "#ab63fa",
           "#FFA15A",
           "#19d3f3",
           "#FF6692",
           "#B6E880",
           "#FF97FF",
           "#FECB52"
          ],
          "font": {
           "color": "#2a3f5f"
          },
          "geo": {
           "bgcolor": "white",
           "lakecolor": "white",
           "landcolor": "#E5ECF6",
           "showlakes": true,
           "showland": true,
           "subunitcolor": "white"
          },
          "hoverlabel": {
           "align": "left"
          },
          "hovermode": "closest",
          "mapbox": {
           "style": "light"
          },
          "paper_bgcolor": "white",
          "plot_bgcolor": "#E5ECF6",
          "polar": {
           "angularaxis": {
            "gridcolor": "white",
            "linecolor": "white",
            "ticks": ""
           },
           "bgcolor": "#E5ECF6",
           "radialaxis": {
            "gridcolor": "white",
            "linecolor": "white",
            "ticks": ""
           }
          },
          "scene": {
           "xaxis": {
            "backgroundcolor": "#E5ECF6",
            "gridcolor": "white",
            "gridwidth": 2,
            "linecolor": "white",
            "showbackground": true,
            "ticks": "",
            "zerolinecolor": "white"
           },
           "yaxis": {
            "backgroundcolor": "#E5ECF6",
            "gridcolor": "white",
            "gridwidth": 2,
            "linecolor": "white",
            "showbackground": true,
            "ticks": "",
            "zerolinecolor": "white"
           },
           "zaxis": {
            "backgroundcolor": "#E5ECF6",
            "gridcolor": "white",
            "gridwidth": 2,
            "linecolor": "white",
            "showbackground": true,
            "ticks": "",
            "zerolinecolor": "white"
           }
          },
          "shapedefaults": {
           "line": {
            "color": "#2a3f5f"
           }
          },
          "ternary": {
           "aaxis": {
            "gridcolor": "white",
            "linecolor": "white",
            "ticks": ""
           },
           "baxis": {
            "gridcolor": "white",
            "linecolor": "white",
            "ticks": ""
           },
           "bgcolor": "#E5ECF6",
           "caxis": {
            "gridcolor": "white",
            "linecolor": "white",
            "ticks": ""
           }
          },
          "title": {
           "x": 0.05
          },
          "xaxis": {
           "automargin": true,
           "gridcolor": "white",
           "linecolor": "white",
           "ticks": "",
           "title": {
            "standoff": 15
           },
           "zerolinecolor": "white",
           "zerolinewidth": 2
          },
          "yaxis": {
           "automargin": true,
           "gridcolor": "white",
           "linecolor": "white",
           "ticks": "",
           "title": {
            "standoff": 15
           },
           "zerolinecolor": "white",
           "zerolinewidth": 2
          }
         }
        },
        "title": {
         "text": "Points Scored by Players 2015 for players scoring over 1000 points per season"
        },
        "xaxis": {
         "anchor": "y",
         "domain": [
          0,
          1
         ],
         "title": {
          "text": "Total Points Scored"
         }
        },
        "yaxis": {
         "anchor": "x",
         "domain": [
          0,
          1
         ],
         "title": {
          "text": "Number of Games Played"
         }
        }
       }
      }
     },
     "metadata": {},
     "output_type": "display_data"
    }
   ],
   "source": [
    "# Look at high scoreres (more than 1000 pts by position)\n",
    "high_2015season_df = _2015seasons_df[_2015seasons_df[\"PTS\"] > 1000]\n",
    "\n",
    "High_fig = px.scatter(high_2015season_df, x=\"PTS\", y=\"G\", color='Pos', size_max=25, \n",
    "                    title=\"Points Scored by Players 2015 for players scoring over 1000 points per season\", \n",
    "                    labels= {\n",
    "                        \"Pos\" : \"Position\", \"G\" : \"Number of Games Played\", \"PTS\": \"Total Points Scored\"\n",
    "                    }, hover_name=high_2015season_df[\"Player\"])\n",
    "\n",
    "High_fig.show()"
   ]
  }
 ],
 "metadata": {
  "kernelspec": {
   "display_name": "base",
   "language": "python",
   "name": "python3"
  },
  "language_info": {
   "codemirror_mode": {
    "name": "ipython",
    "version": 3
   },
   "file_extension": ".py",
   "mimetype": "text/x-python",
   "name": "python",
   "nbconvert_exporter": "python",
   "pygments_lexer": "ipython3",
   "version": "3.9.7"
  },
  "orig_nbformat": 4,
  "vscode": {
   "interpreter": {
    "hash": "1455b66f2ac3a177adb1f0a801469600c230d623f0f0e4b0edafb31cff2a6365"
   }
  }
 },
 "nbformat": 4,
 "nbformat_minor": 2
}
